{
 "cells": [
  {
   "cell_type": "markdown",
   "metadata": {},
   "source": [
    "# Building run_with_saes"
   ]
  },
  {
   "cell_type": "code",
   "execution_count": 4,
   "metadata": {},
   "outputs": [],
   "source": [
    "import sys \n",
    "sys.path.append(\"../..\")\n",
    "sys.path.append(\"..\")\n",
    "\n",
    "from importlib import reload\n",
    "from tqdm import tqdm\n",
    "\n",
    "import joseph\n",
    "from joseph.analysis import *\n",
    "from joseph.visualisation import *\n",
    "from joseph.utils import *\n",
    "from joseph.data import *\n",
    "\n",
    "\n",
    "reload(joseph.analysis)\n",
    "reload(joseph.visualisation)\n",
    "reload(joseph.utils)\n",
    "reload(joseph.data)\n",
    "\n",
    "from joseph.analysis import *\n",
    "from joseph.visualisation import *\n",
    "from joseph.utils import *\n",
    "from joseph.data import *\n",
    "\n",
    "# turn torch grad tracking off\n",
    "torch.set_grad_enabled(False)\n",
    "\n",
    "import webbrowser\n",
    "from IPython.core.display import display, HTML\n",
    "\n",
    "path_to_html = \"../week_8_jan/gpt2_small_features_layer_5\"\n",
    "def render_feature_dashboard(feature_id):\n",
    "    \n",
    "    path = f\"{path_to_html}/data_{feature_id:04}.html\"\n",
    "    \n",
    "    print(f\"Feature {feature_id}\")\n",
    "    if os.path.exists(path):\n",
    "        # with open(path, \"r\") as f:\n",
    "        #     html = f.read()\n",
    "        #     display(HTML(html))\n",
    "        webbrowser.open_new_tab(\"file://\" + os.path.abspath(path))\n",
    "    else:\n",
    "        print(\"No HTML file found\")\n",
    "    "
   ]
  },
  {
   "cell_type": "code",
   "execution_count": 5,
   "metadata": {},
   "outputs": [
    {
     "data": {
      "text/plain": [
       "['final_sparse_autoencoder_gpt2-small_blocks.0.hook_resid_pre_24576.pt',\n",
       " 'final_sparse_autoencoder_gpt2-small_blocks.1.hook_resid_pre_24576.pt',\n",
       " 'final_sparse_autoencoder_gpt2-small_blocks.2.hook_resid_pre_24576.pt',\n",
       " 'final_sparse_autoencoder_gpt2-small_blocks.3.hook_resid_pre_24576.pt',\n",
       " 'final_sparse_autoencoder_gpt2-small_blocks.4.hook_resid_pre_24576.pt',\n",
       " 'final_sparse_autoencoder_gpt2-small_blocks.5.hook_resid_pre_24576.pt',\n",
       " 'final_sparse_autoencoder_gpt2-small_blocks.6.hook_resid_pre_24576.pt',\n",
       " 'final_sparse_autoencoder_gpt2-small_blocks.7.hook_resid_pre_24576.pt',\n",
       " 'final_sparse_autoencoder_gpt2-small_blocks.8.hook_resid_pre_24576.pt',\n",
       " 'final_sparse_autoencoder_gpt2-small_blocks.9.hook_resid_pre_24576.pt',\n",
       " 'final_sparse_autoencoder_gpt2-small_blocks.10.hook_resid_pre_24576.pt',\n",
       " 'final_sparse_autoencoder_gpt2-small_blocks.11.hook_resid_pre_24576.pt']"
      ]
     },
     "metadata": {},
     "output_type": "display_data"
    },
    {
     "data": {
      "text/plain": [
       "['final_sparse_autoencoder_gpt2-small_blocks.0.hook_resid_pre_24576_log_feature_sparsity.pt',\n",
       " 'final_sparse_autoencoder_gpt2-small_blocks.1.hook_resid_pre_24576_log_feature_sparsity.pt',\n",
       " 'final_sparse_autoencoder_gpt2-small_blocks.2.hook_resid_pre_24576_log_feature_sparsity.pt',\n",
       " 'final_sparse_autoencoder_gpt2-small_blocks.3.hook_resid_pre_24576_log_feature_sparsity.pt',\n",
       " 'final_sparse_autoencoder_gpt2-small_blocks.4.hook_resid_pre_24576_log_feature_sparsity.pt',\n",
       " 'final_sparse_autoencoder_gpt2-small_blocks.5.hook_resid_pre_24576_log_feature_sparsity.pt',\n",
       " 'final_sparse_autoencoder_gpt2-small_blocks.6.hook_resid_pre_24576_log_feature_sparsity.pt',\n",
       " 'final_sparse_autoencoder_gpt2-small_blocks.7.hook_resid_pre_24576_log_feature_sparsity.pt',\n",
       " 'final_sparse_autoencoder_gpt2-small_blocks.8.hook_resid_pre_24576_log_feature_sparsity.pt',\n",
       " 'final_sparse_autoencoder_gpt2-small_blocks.9.hook_resid_pre_24576_log_feature_sparsity.pt',\n",
       " 'final_sparse_autoencoder_gpt2-small_blocks.10.hook_resid_pre_24576_log_feature_sparsity.pt',\n",
       " 'final_sparse_autoencoder_gpt2-small_blocks.11.hook_resid_pre_24576_log_feature_sparsity.pt']"
      ]
     },
     "execution_count": 5,
     "metadata": {},
     "output_type": "execute_result"
    }
   ],
   "source": [
    "path_to_all_layer_saes = \"../GPT2-small-SAEs/\" \n",
    "\n",
    "log_sparsity_files = os.listdir(path_to_all_layer_saes)\n",
    "# print(log_sparsity_files)\n",
    "model_files = [f for f in log_sparsity_files if \"log\" not in f]\n",
    "model_files = sorted(model_files, key=lambda x: int(x.split(\".\")[1]))\n",
    "display(model_files)\n",
    "\n",
    "log_sparsity_files = [f for f in log_sparsity_files if \"log_feature_sparsity\" in f]\n",
    "log_sparsity_files = sorted(log_sparsity_files, key=lambda x: int(x.split(\".\")[1]))\n",
    "log_sparsity_files"
   ]
  },
  {
   "cell_type": "code",
   "execution_count": 6,
   "metadata": {},
   "outputs": [
    {
     "name": "stdout",
     "output_type": "stream",
     "text": [
      "Loading layer 0\n",
      "Loading layer 1\n",
      "Loading layer 2\n",
      "Loading layer 3\n",
      "Loading layer 4\n",
      "Loading layer 5\n",
      "Loading layer 6\n",
      "Loading layer 7\n",
      "Loading layer 8\n",
      "Loading layer 9\n",
      "Loading layer 10\n",
      "Loading layer 11\n"
     ]
    }
   ],
   "source": [
    "from sae_training.sparse_autoencoder import SparseAutoencoder\n",
    "\n",
    "gpt2_small_sparse_autoencoders = {}\n",
    "for path in model_files:\n",
    "    layer = int(path.split(\".\")[1])\n",
    "    print(f\"Loading layer {layer}\")\n",
    "    sae = SparseAutoencoder.load_from_pretrained(f\"{path_to_all_layer_saes}/{path}\")\n",
    "    sae.cfg.use_ghost_grads = False\n",
    "    gpt2_small_sparse_autoencoders[sae.cfg.hook_point] = sae"
   ]
  },
  {
   "cell_type": "code",
   "execution_count": 7,
   "metadata": {},
   "outputs": [
    {
     "name": "stdout",
     "output_type": "stream",
     "text": [
      "Loaded pretrained model gpt2-small into HookedTransformer\n"
     ]
    }
   ],
   "source": [
    "\n",
    "model = HookedTransformer.from_pretrained(\n",
    "    \"gpt2-small\",\n",
    "    fold_ln=True,\n",
    ")\n",
    "model.set_use_split_qkv_input(True)\n",
    "model.set_use_attn_result(True)\n",
    "\n"
   ]
  },
  {
   "cell_type": "code",
   "execution_count": 8,
   "metadata": {},
   "outputs": [],
   "source": [
    "def generate_bracket_prompt():\n",
    "    \n",
    "    left_bracket_token = torch.tensor(model.to_single_token(\"(\")).unsqueeze(0).repeat(1,256)\n",
    "    right_bracket_token = torch.tensor(model.to_single_token(\")\")).unsqueeze(0).repeat(1,256)\n",
    "    random_tokens = torch.randint(0, 50257, (10,256))\n",
    "    \n",
    "    # add the brackets after the first two tokens and before the last two tokensx\n",
    "    prompt = torch.concat([random_tokens[:2], left_bracket_token, random_tokens[2:-2:], right_bracket_token, random_tokens[-2:]], dim=0).T\n",
    "    return prompt\n",
    "\n",
    "tokens = generate_bracket_prompt()\n",
    "(original_logits, original_loss), original_cache = model.run_with_cache(tokens, return_type=\"both\", loss_per_token=True)"
   ]
  },
  {
   "cell_type": "code",
   "execution_count": 80,
   "metadata": {},
   "outputs": [
    {
     "data": {
      "text/plain": [
       "torch.Size([12, 256, 12, 24576])"
      ]
     },
     "execution_count": 80,
     "metadata": {},
     "output_type": "execute_result"
    }
   ],
   "source": [
    "feature_acts_cache = {}\n",
    "sae_out_cache = {}\n",
    "mse_loss_cache = {}\n",
    "\n",
    "for hook_point, sae in gpt2_small_sparse_autoencoders.items():\n",
    "    sae_out, feature_acts, _, mse_loss, _, _ = gpt2_small_sparse_autoencoders[hook_point](original_cache[hook_point])\n",
    "    feature_acts_cache[hook_point] = feature_acts\n",
    "    sae_out_cache[hook_point] = sae_out\n",
    "    mse_loss_cache[hook_point] = mse_loss.detach().item()\n",
    "    \n",
    "# get each feature acts and stacks them\n",
    "feature_acts_stacked = torch.stack([feature_acts for feature_acts in feature_acts_cache.values()], dim=0)\n",
    "feature_acts_stacked.shape # [n_saes, batch_size, n_tokens, n_features]"
   ]
  },
  {
   "cell_type": "code",
   "execution_count": 82,
   "metadata": {},
   "outputs": [
    {
     "data": {
      "application/vnd.plotly.v1+json": {
       "config": {
        "plotlyServerURL": "https://plotly.com"
       },
       "data": [
        {
         "hovertemplate": "Token: %{x}<br>Activation: %{y}<br>Layer: 0",
         "mode": "lines",
         "name": "Feature_15033",
         "type": "scatter",
         "x": [
          "tok_0",
          "tok_1",
          "open_bracket",
          "tok_3",
          "tok_4",
          "tok_5",
          "tok_6",
          "tok_7",
          "tok_8",
          "close_bracket",
          "tok_10",
          "tok_11"
         ],
         "xaxis": "x",
         "y": [
          0.007820161059498787,
          0.0027070108335465193,
          0.9608420133590698,
          1.2343964576721191,
          0.9709185361862183,
          0.7115308046340942,
          0.39413851499557495,
          0.14100411534309387,
          0.01758856326341629,
          0,
          0,
          0
         ],
         "yaxis": "y"
        },
        {
         "hovertemplate": "Token: %{x}<br>Activation: %{y}<br>Layer: 0",
         "mode": "lines",
         "name": "Feature_20998",
         "type": "scatter",
         "x": [
          "tok_0",
          "tok_1",
          "open_bracket",
          "tok_3",
          "tok_4",
          "tok_5",
          "tok_6",
          "tok_7",
          "tok_8",
          "close_bracket",
          "tok_10",
          "tok_11"
         ],
         "xaxis": "x",
         "y": [
          0.010781077668070793,
          0,
          0.06172323226928711,
          0.5093270540237427,
          0.6999145746231079,
          0.7158874869346619,
          0.6572884321212769,
          0.5411393046379089,
          0.38701045513153076,
          0.21695087850093842,
          0.09918750822544098,
          0.016660017892718315
         ],
         "yaxis": "y"
        },
        {
         "hovertemplate": "Token: %{x}<br>Activation: %{y}<br>Layer: 0",
         "mode": "lines",
         "name": "Feature_7034",
         "type": "scatter",
         "x": [
          "tok_0",
          "tok_1",
          "open_bracket",
          "tok_3",
          "tok_4",
          "tok_5",
          "tok_6",
          "tok_7",
          "tok_8",
          "close_bracket",
          "tok_10",
          "tok_11"
         ],
         "xaxis": "x",
         "y": [
          0.43553245067596436,
          0,
          0,
          0.5171868801116943,
          0.601137638092041,
          0.6416066884994507,
          0.6424609422683716,
          0.6149513721466064,
          0.539429783821106,
          0.24300527572631836,
          0.3792283535003662,
          0.3064693510532379
         ],
         "yaxis": "y"
        },
        {
         "hovertemplate": "Token: %{x}<br>Activation: %{y}<br>Layer: 0",
         "mode": "lines",
         "name": "Feature_710",
         "type": "scatter",
         "x": [
          "tok_0",
          "tok_1",
          "open_bracket",
          "tok_3",
          "tok_4",
          "tok_5",
          "tok_6",
          "tok_7",
          "tok_8",
          "close_bracket",
          "tok_10",
          "tok_11"
         ],
         "xaxis": "x",
         "y": [
          0.005326637998223305,
          0,
          2.4297564029693604,
          0,
          0,
          0.004732111468911171,
          0,
          0,
          0,
          0,
          0,
          0
         ],
         "yaxis": "y"
        },
        {
         "hovertemplate": "Token: %{x}<br>Activation: %{y}<br>Layer: 0",
         "mode": "lines",
         "name": "Feature_7550",
         "type": "scatter",
         "x": [
          "tok_0",
          "tok_1",
          "open_bracket",
          "tok_3",
          "tok_4",
          "tok_5",
          "tok_6",
          "tok_7",
          "tok_8",
          "close_bracket",
          "tok_10",
          "tok_11"
         ],
         "xaxis": "x",
         "y": [
          0.4559488892555237,
          0,
          0,
          0.019415901973843575,
          0.2090640366077423,
          0.36080965399742126,
          0.48702770471572876,
          0.5813349485397339,
          0.6167291402816772,
          0.3623408377170563,
          0.6535792350769043,
          0.6491384506225586
         ],
         "yaxis": "y"
        },
        {
         "hovertemplate": "Token: %{x}<br>Activation: %{y}<br>Layer: 1",
         "mode": "lines",
         "name": "Feature_24149",
         "type": "scatter",
         "x": [
          "tok_0",
          "tok_1",
          "open_bracket",
          "tok_3",
          "tok_4",
          "tok_5",
          "tok_6",
          "tok_7",
          "tok_8",
          "close_bracket",
          "tok_10",
          "tok_11"
         ],
         "xaxis": "x2",
         "y": [
          0.025409813970327377,
          5.051263809204102,
          3.1250643730163574,
          7.915616989135742,
          7.754734039306641,
          7.5345563888549805,
          7.305932998657227,
          6.879827499389648,
          6.301273345947266,
          0.5036421418190002,
          4.82882022857666,
          4.307814598083496
         ],
         "yaxis": "y2"
        },
        {
         "hovertemplate": "Token: %{x}<br>Activation: %{y}<br>Layer: 1",
         "mode": "lines",
         "name": "Feature_16821",
         "type": "scatter",
         "x": [
          "tok_0",
          "tok_1",
          "open_bracket",
          "tok_3",
          "tok_4",
          "tok_5",
          "tok_6",
          "tok_7",
          "tok_8",
          "close_bracket",
          "tok_10",
          "tok_11"
         ],
         "xaxis": "x2",
         "y": [
          1.7758615016937256,
          0,
          21.873804092407227,
          0,
          0.00020576169481500983,
          0.03796830400824547,
          0,
          0,
          0.0007695173262618482,
          0,
          0,
          0
         ],
         "yaxis": "y2"
        },
        {
         "hovertemplate": "Token: %{x}<br>Activation: %{y}<br>Layer: 1",
         "mode": "lines",
         "name": "Feature_21958",
         "type": "scatter",
         "x": [
          "tok_0",
          "tok_1",
          "open_bracket",
          "tok_3",
          "tok_4",
          "tok_5",
          "tok_6",
          "tok_7",
          "tok_8",
          "close_bracket",
          "tok_10",
          "tok_11"
         ],
         "xaxis": "x2",
         "y": [
          0.0804944559931755,
          0,
          0,
          1.2731263637542725,
          2.37423038482666,
          3.287653684616089,
          3.9626424312591553,
          4.443309783935547,
          4.717269420623779,
          0.7031126022338867,
          4.713408470153809,
          4.6993584632873535
         ],
         "yaxis": "y2"
        },
        {
         "hovertemplate": "Token: %{x}<br>Activation: %{y}<br>Layer: 1",
         "mode": "lines",
         "name": "Feature_8614",
         "type": "scatter",
         "x": [
          "tok_0",
          "tok_1",
          "open_bracket",
          "tok_3",
          "tok_4",
          "tok_5",
          "tok_6",
          "tok_7",
          "tok_8",
          "close_bracket",
          "tok_10",
          "tok_11"
         ],
         "xaxis": "x2",
         "y": [
          0.0015872963704168797,
          1.3515533208847046,
          0,
          1.9354009628295898,
          2.0394914150238037,
          2.109985113143921,
          1.9718732833862305,
          1.9632198810577393,
          1.9293395280838013,
          0.03107840195298195,
          1.7519192695617676,
          1.7066408395767212
         ],
         "yaxis": "y2"
        },
        {
         "hovertemplate": "Token: %{x}<br>Activation: %{y}<br>Layer: 1",
         "mode": "lines",
         "name": "Feature_22119",
         "type": "scatter",
         "x": [
          "tok_0",
          "tok_1",
          "open_bracket",
          "tok_3",
          "tok_4",
          "tok_5",
          "tok_6",
          "tok_7",
          "tok_8",
          "close_bracket",
          "tok_10",
          "tok_11"
         ],
         "xaxis": "x2",
         "y": [
          0,
          0.12704724073410034,
          0,
          0.7452340722084045,
          1.1852471828460693,
          1.6787270307540894,
          2.085195779800415,
          2.463826894760132,
          2.8752658367156982,
          0.10515956580638885,
          2.9514319896698,
          3.2578682899475098
         ],
         "yaxis": "y2"
        },
        {
         "hovertemplate": "Token: %{x}<br>Activation: %{y}<br>Layer: 2",
         "mode": "lines",
         "name": "Feature_14146",
         "type": "scatter",
         "x": [
          "tok_0",
          "tok_1",
          "open_bracket",
          "tok_3",
          "tok_4",
          "tok_5",
          "tok_6",
          "tok_7",
          "tok_8",
          "close_bracket",
          "tok_10",
          "tok_11"
         ],
         "xaxis": "x3",
         "y": [
          0,
          0,
          22.66753578186035,
          0,
          0,
          0.024189133197069168,
          0,
          0,
          0,
          0,
          0,
          0
         ],
         "yaxis": "y3"
        },
        {
         "hovertemplate": "Token: %{x}<br>Activation: %{y}<br>Layer: 2",
         "mode": "lines",
         "name": "Feature_11719",
         "type": "scatter",
         "x": [
          "tok_0",
          "tok_1",
          "open_bracket",
          "tok_3",
          "tok_4",
          "tok_5",
          "tok_6",
          "tok_7",
          "tok_8",
          "close_bracket",
          "tok_10",
          "tok_11"
         ],
         "xaxis": "x3",
         "y": [
          0,
          0.8645257353782654,
          0.14802241325378418,
          3.4299235343933105,
          3.2566590309143066,
          3.039911985397339,
          2.6518704891204834,
          1.9593307971954346,
          1.4708123207092285,
          0,
          1.2969551086425781,
          0.9611870646476746
         ],
         "yaxis": "y3"
        },
        {
         "hovertemplate": "Token: %{x}<br>Activation: %{y}<br>Layer: 2",
         "mode": "lines",
         "name": "Feature_15887",
         "type": "scatter",
         "x": [
          "tok_0",
          "tok_1",
          "open_bracket",
          "tok_3",
          "tok_4",
          "tok_5",
          "tok_6",
          "tok_7",
          "tok_8",
          "close_bracket",
          "tok_10",
          "tok_11"
         ],
         "xaxis": "x3",
         "y": [
          0,
          0.3390742242336273,
          0,
          2.7220816612243652,
          2.7417969703674316,
          2.8393445014953613,
          2.682041645050049,
          2.5945348739624023,
          2.236112117767334,
          0.001793000497855246,
          2.178370475769043,
          1.7525714635849
         ],
         "yaxis": "y3"
        },
        {
         "hovertemplate": "Token: %{x}<br>Activation: %{y}<br>Layer: 2",
         "mode": "lines",
         "name": "Feature_5957",
         "type": "scatter",
         "x": [
          "tok_0",
          "tok_1",
          "open_bracket",
          "tok_3",
          "tok_4",
          "tok_5",
          "tok_6",
          "tok_7",
          "tok_8",
          "close_bracket",
          "tok_10",
          "tok_11"
         ],
         "xaxis": "x3",
         "y": [
          0,
          0.13576066493988037,
          0.5003849267959595,
          3.8990249633789062,
          3.3043179512023926,
          2.605051040649414,
          1.7298492193222046,
          1.1190659999847412,
          0.5993266105651855,
          0,
          0,
          0
         ],
         "yaxis": "y3"
        },
        {
         "hovertemplate": "Token: %{x}<br>Activation: %{y}<br>Layer: 2",
         "mode": "lines",
         "name": "Feature_2682",
         "type": "scatter",
         "x": [
          "tok_0",
          "tok_1",
          "open_bracket",
          "tok_3",
          "tok_4",
          "tok_5",
          "tok_6",
          "tok_7",
          "tok_8",
          "close_bracket",
          "tok_10",
          "tok_11"
         ],
         "xaxis": "x3",
         "y": [
          0,
          0.09888820350170135,
          0,
          1.209294319152832,
          1.7702696323394775,
          2.207184076309204,
          2.422783374786377,
          2.5399646759033203,
          2.632012367248535,
          0.32632994651794434,
          2.6792972087860107,
          2.662769317626953
         ],
         "yaxis": "y3"
        },
        {
         "hovertemplate": "Token: %{x}<br>Activation: %{y}<br>Layer: 3",
         "mode": "lines",
         "name": "Feature_14555",
         "type": "scatter",
         "x": [
          "tok_0",
          "tok_1",
          "open_bracket",
          "tok_3",
          "tok_4",
          "tok_5",
          "tok_6",
          "tok_7",
          "tok_8",
          "close_bracket",
          "tok_10",
          "tok_11"
         ],
         "xaxis": "x4",
         "y": [
          0,
          0.004783764481544495,
          0,
          7.423064231872559,
          7.511209011077881,
          6.969904899597168,
          6.310731887817383,
          5.957415580749512,
          5.4228668212890625,
          0.05239221453666687,
          0.020989928394556046,
          0.04010821133852005
         ],
         "yaxis": "y4"
        },
        {
         "hovertemplate": "Token: %{x}<br>Activation: %{y}<br>Layer: 3",
         "mode": "lines",
         "name": "Feature_11617",
         "type": "scatter",
         "x": [
          "tok_0",
          "tok_1",
          "open_bracket",
          "tok_3",
          "tok_4",
          "tok_5",
          "tok_6",
          "tok_7",
          "tok_8",
          "close_bracket",
          "tok_10",
          "tok_11"
         ],
         "xaxis": "x4",
         "y": [
          0,
          0.26099491119384766,
          1.217470407485962,
          1.9472508430480957,
          2.055954933166504,
          2.4996864795684814,
          2.8572845458984375,
          3.025385856628418,
          3.2055585384368896,
          2.573286533355713,
          2.0645394325256348,
          1.870790719985962
         ],
         "yaxis": "y4"
        },
        {
         "hovertemplate": "Token: %{x}<br>Activation: %{y}<br>Layer: 3",
         "mode": "lines",
         "name": "Feature_9969",
         "type": "scatter",
         "x": [
          "tok_0",
          "tok_1",
          "open_bracket",
          "tok_3",
          "tok_4",
          "tok_5",
          "tok_6",
          "tok_7",
          "tok_8",
          "close_bracket",
          "tok_10",
          "tok_11"
         ],
         "xaxis": "x4",
         "y": [
          0,
          1.1133530139923096,
          0,
          0.8439137935638428,
          2.825350046157837,
          3.529526472091675,
          3.5039000511169434,
          3.297896385192871,
          2.708627700805664,
          0,
          1.8311803340911865,
          2.0623536109924316
         ],
         "yaxis": "y4"
        },
        {
         "hovertemplate": "Token: %{x}<br>Activation: %{y}<br>Layer: 3",
         "mode": "lines",
         "name": "Feature_11352",
         "type": "scatter",
         "x": [
          "tok_0",
          "tok_1",
          "open_bracket",
          "tok_3",
          "tok_4",
          "tok_5",
          "tok_6",
          "tok_7",
          "tok_8",
          "close_bracket",
          "tok_10",
          "tok_11"
         ],
         "xaxis": "x4",
         "y": [
          0,
          0.006042167544364929,
          12.444913864135742,
          0,
          0,
          0.011906222440302372,
          0,
          0,
          0,
          0,
          0,
          0
         ],
         "yaxis": "y4"
        },
        {
         "hovertemplate": "Token: %{x}<br>Activation: %{y}<br>Layer: 3",
         "mode": "lines",
         "name": "Feature_13413",
         "type": "scatter",
         "x": [
          "tok_0",
          "tok_1",
          "open_bracket",
          "tok_3",
          "tok_4",
          "tok_5",
          "tok_6",
          "tok_7",
          "tok_8",
          "close_bracket",
          "tok_10",
          "tok_11"
         ],
         "xaxis": "x4",
         "y": [
          0,
          0,
          11.37010669708252,
          0,
          0,
          0,
          0,
          0,
          0,
          0,
          0,
          0
         ],
         "yaxis": "y4"
        },
        {
         "hovertemplate": "Token: %{x}<br>Activation: %{y}<br>Layer: 4",
         "mode": "lines",
         "name": "Feature_5030",
         "type": "scatter",
         "x": [
          "tok_0",
          "tok_1",
          "open_bracket",
          "tok_3",
          "tok_4",
          "tok_5",
          "tok_6",
          "tok_7",
          "tok_8",
          "close_bracket",
          "tok_10",
          "tok_11"
         ],
         "xaxis": "x5",
         "y": [
          0,
          0,
          0,
          7.993467807769775,
          6.811285972595215,
          5.273832321166992,
          4.066368103027344,
          3.474632740020752,
          2.8828396797180176,
          0.026413394138216972,
          0.007546279579401016,
          0.027756260707974434
         ],
         "yaxis": "y5"
        },
        {
         "hovertemplate": "Token: %{x}<br>Activation: %{y}<br>Layer: 4",
         "mode": "lines",
         "name": "Feature_7907",
         "type": "scatter",
         "x": [
          "tok_0",
          "tok_1",
          "open_bracket",
          "tok_3",
          "tok_4",
          "tok_5",
          "tok_6",
          "tok_7",
          "tok_8",
          "close_bracket",
          "tok_10",
          "tok_11"
         ],
         "xaxis": "x5",
         "y": [
          0,
          0,
          28.837364196777344,
          0,
          0,
          0.026765085756778717,
          0,
          0,
          0,
          0,
          0,
          0
         ],
         "yaxis": "y5"
        },
        {
         "hovertemplate": "Token: %{x}<br>Activation: %{y}<br>Layer: 4",
         "mode": "lines",
         "name": "Feature_4501",
         "type": "scatter",
         "x": [
          "tok_0",
          "tok_1",
          "open_bracket",
          "tok_3",
          "tok_4",
          "tok_5",
          "tok_6",
          "tok_7",
          "tok_8",
          "close_bracket",
          "tok_10",
          "tok_11"
         ],
         "xaxis": "x5",
         "y": [
          0,
          0.0012422183062881231,
          0,
          0.6165599226951599,
          2.627108573913574,
          3.9627907276153564,
          4.344839572906494,
          4.506261825561523,
          4.440123081207275,
          0.03949561342597008,
          0.0284691471606493,
          0.029791802167892456
         ],
         "yaxis": "y5"
        },
        {
         "hovertemplate": "Token: %{x}<br>Activation: %{y}<br>Layer: 4",
         "mode": "lines",
         "name": "Feature_9131",
         "type": "scatter",
         "x": [
          "tok_0",
          "tok_1",
          "open_bracket",
          "tok_3",
          "tok_4",
          "tok_5",
          "tok_6",
          "tok_7",
          "tok_8",
          "close_bracket",
          "tok_10",
          "tok_11"
         ],
         "xaxis": "x5",
         "y": [
          0,
          0.5441572070121765,
          0.26447516679763794,
          0.721002459526062,
          1.6787502765655518,
          3.005631923675537,
          3.7418220043182373,
          4.015532493591309,
          3.915355682373047,
          0.0481162890791893,
          2.748735189437866,
          1.9987168312072754
         ],
         "yaxis": "y5"
        },
        {
         "hovertemplate": "Token: %{x}<br>Activation: %{y}<br>Layer: 4",
         "mode": "lines",
         "name": "Feature_18653",
         "type": "scatter",
         "x": [
          "tok_0",
          "tok_1",
          "open_bracket",
          "tok_3",
          "tok_4",
          "tok_5",
          "tok_6",
          "tok_7",
          "tok_8",
          "close_bracket",
          "tok_10",
          "tok_11"
         ],
         "xaxis": "x5",
         "y": [
          0,
          1.2322769165039062,
          0.16443638503551483,
          2.4159464836120605,
          2.236525535583496,
          1.894275188446045,
          1.7349987030029297,
          1.4993828535079956,
          1.3192963600158691,
          0.00037029109080322087,
          1.0860759019851685,
          0.952470600605011
         ],
         "yaxis": "y5"
        },
        {
         "hovertemplate": "Token: %{x}<br>Activation: %{y}<br>Layer: 5",
         "mode": "lines",
         "name": "Feature_10603",
         "type": "scatter",
         "x": [
          "tok_0",
          "tok_1",
          "open_bracket",
          "tok_3",
          "tok_4",
          "tok_5",
          "tok_6",
          "tok_7",
          "tok_8",
          "close_bracket",
          "tok_10",
          "tok_11"
         ],
         "xaxis": "x6",
         "y": [
          0,
          0,
          0,
          8.366347312927246,
          8.42978572845459,
          6.4873762130737305,
          5.111941337585449,
          4.152965545654297,
          3.366121768951416,
          0.020892640575766563,
          0.007679716683924198,
          0.031568173319101334
         ],
         "yaxis": "y6"
        },
        {
         "hovertemplate": "Token: %{x}<br>Activation: %{y}<br>Layer: 5",
         "mode": "lines",
         "name": "Feature_23913",
         "type": "scatter",
         "x": [
          "tok_0",
          "tok_1",
          "open_bracket",
          "tok_3",
          "tok_4",
          "tok_5",
          "tok_6",
          "tok_7",
          "tok_8",
          "close_bracket",
          "tok_10",
          "tok_11"
         ],
         "xaxis": "x6",
         "y": [
          0,
          0,
          30.02372932434082,
          0,
          0,
          0.025357384234666824,
          0,
          0,
          0,
          0,
          0,
          0
         ],
         "yaxis": "y6"
        },
        {
         "hovertemplate": "Token: %{x}<br>Activation: %{y}<br>Layer: 5",
         "mode": "lines",
         "name": "Feature_7977",
         "type": "scatter",
         "x": [
          "tok_0",
          "tok_1",
          "open_bracket",
          "tok_3",
          "tok_4",
          "tok_5",
          "tok_6",
          "tok_7",
          "tok_8",
          "close_bracket",
          "tok_10",
          "tok_11"
         ],
         "xaxis": "x6",
         "y": [
          0,
          0,
          0,
          1.2084276676177979,
          2.9718780517578125,
          4.3341569900512695,
          4.665686130523682,
          4.721890926361084,
          4.668169021606445,
          0.022781414911150932,
          0.023949041962623596,
          0.032741762697696686
         ],
         "yaxis": "y6"
        },
        {
         "hovertemplate": "Token: %{x}<br>Activation: %{y}<br>Layer: 5",
         "mode": "lines",
         "name": "Feature_14251",
         "type": "scatter",
         "x": [
          "tok_0",
          "tok_1",
          "open_bracket",
          "tok_3",
          "tok_4",
          "tok_5",
          "tok_6",
          "tok_7",
          "tok_8",
          "close_bracket",
          "tok_10",
          "tok_11"
         ],
         "xaxis": "x6",
         "y": [
          0,
          0.05408216267824173,
          9.406999588012695,
          0.007750265300273895,
          0.000279807485640049,
          0.038492731750011444,
          0,
          0,
          0.0004479361232370138,
          0,
          0.0030713968444615602,
          0
         ],
         "yaxis": "y6"
        },
        {
         "hovertemplate": "Token: %{x}<br>Activation: %{y}<br>Layer: 5",
         "mode": "lines",
         "name": "Feature_1739",
         "type": "scatter",
         "x": [
          "tok_0",
          "tok_1",
          "open_bracket",
          "tok_3",
          "tok_4",
          "tok_5",
          "tok_6",
          "tok_7",
          "tok_8",
          "close_bracket",
          "tok_10",
          "tok_11"
         ],
         "xaxis": "x6",
         "y": [
          0,
          0.01930844970047474,
          0,
          8.42629623413086,
          0.15943610668182373,
          0.1477852612733841,
          0.12618368864059448,
          0.05498964339494705,
          0.07718817889690399,
          0,
          0,
          0.008477103896439075
         ],
         "yaxis": "y6"
        },
        {
         "hovertemplate": "Token: %{x}<br>Activation: %{y}<br>Layer: 6",
         "mode": "lines",
         "name": "Feature_3290",
         "type": "scatter",
         "x": [
          "tok_0",
          "tok_1",
          "open_bracket",
          "tok_3",
          "tok_4",
          "tok_5",
          "tok_6",
          "tok_7",
          "tok_8",
          "close_bracket",
          "tok_10",
          "tok_11"
         ],
         "xaxis": "x7",
         "y": [
          0,
          0,
          0,
          6.105935096740723,
          8.129964828491211,
          7.998261451721191,
          7.5725178718566895,
          7.126527786254883,
          6.7221760749816895,
          0.04259047284722328,
          0.03664403036236763,
          0.05768904089927673
         ],
         "yaxis": "y7"
        },
        {
         "hovertemplate": "Token: %{x}<br>Activation: %{y}<br>Layer: 6",
         "mode": "lines",
         "name": "Feature_7048",
         "type": "scatter",
         "x": [
          "tok_0",
          "tok_1",
          "open_bracket",
          "tok_3",
          "tok_4",
          "tok_5",
          "tok_6",
          "tok_7",
          "tok_8",
          "close_bracket",
          "tok_10",
          "tok_11"
         ],
         "xaxis": "x7",
         "y": [
          0,
          0,
          32.75209426879883,
          0,
          0,
          0.042454544454813004,
          0,
          0,
          0,
          0,
          0,
          0
         ],
         "yaxis": "y7"
        },
        {
         "hovertemplate": "Token: %{x}<br>Activation: %{y}<br>Layer: 6",
         "mode": "lines",
         "name": "Feature_12885",
         "type": "scatter",
         "x": [
          "tok_0",
          "tok_1",
          "open_bracket",
          "tok_3",
          "tok_4",
          "tok_5",
          "tok_6",
          "tok_7",
          "tok_8",
          "close_bracket",
          "tok_10",
          "tok_11"
         ],
         "xaxis": "x7",
         "y": [
          0,
          0.030059002339839935,
          0,
          12.863046646118164,
          0.24017231166362762,
          0.16231481730937958,
          0.13114050030708313,
          0.0788184106349945,
          0.06977295875549316,
          0,
          0,
          0.013061764650046825
         ],
         "yaxis": "y7"
        },
        {
         "hovertemplate": "Token: %{x}<br>Activation: %{y}<br>Layer: 6",
         "mode": "lines",
         "name": "Feature_10010",
         "type": "scatter",
         "x": [
          "tok_0",
          "tok_1",
          "open_bracket",
          "tok_3",
          "tok_4",
          "tok_5",
          "tok_6",
          "tok_7",
          "tok_8",
          "close_bracket",
          "tok_10",
          "tok_11"
         ],
         "xaxis": "x7",
         "y": [
          0,
          0.2983263432979584,
          1.2703907489776611,
          0.3162594437599182,
          0.729353129863739,
          1.7058939933776855,
          2.2569475173950195,
          2.3390727043151855,
          2.401324510574341,
          1.375475287437439,
          0.6919792890548706,
          0.5565625429153442
         ],
         "yaxis": "y7"
        },
        {
         "hovertemplate": "Token: %{x}<br>Activation: %{y}<br>Layer: 6",
         "mode": "lines",
         "name": "Feature_3857",
         "type": "scatter",
         "x": [
          "tok_0",
          "tok_1",
          "open_bracket",
          "tok_3",
          "tok_4",
          "tok_5",
          "tok_6",
          "tok_7",
          "tok_8",
          "close_bracket",
          "tok_10",
          "tok_11"
         ],
         "xaxis": "x7",
         "y": [
          0,
          0.0052678389474749565,
          0,
          0.846662700176239,
          0.7959414720535278,
          1.444994568824768,
          1.7367479801177979,
          1.662485122680664,
          1.6784446239471436,
          0,
          0.002069297479465604,
          0.004372195806354284
         ],
         "yaxis": "y7"
        },
        {
         "hovertemplate": "Token: %{x}<br>Activation: %{y}<br>Layer: 7",
         "mode": "lines",
         "name": "Feature_4330",
         "type": "scatter",
         "x": [
          "tok_0",
          "tok_1",
          "open_bracket",
          "tok_3",
          "tok_4",
          "tok_5",
          "tok_6",
          "tok_7",
          "tok_8",
          "close_bracket",
          "tok_10",
          "tok_11"
         ],
         "xaxis": "x8",
         "y": [
          0,
          0.0020377549808472395,
          0,
          7.325091361999512,
          8.540107727050781,
          8.061752319335938,
          7.528057098388672,
          6.895393371582031,
          6.614737510681152,
          0.05672220140695572,
          0.034073397517204285,
          0.05838334560394287
         ],
         "yaxis": "y8"
        },
        {
         "hovertemplate": "Token: %{x}<br>Activation: %{y}<br>Layer: 7",
         "mode": "lines",
         "name": "Feature_24440",
         "type": "scatter",
         "x": [
          "tok_0",
          "tok_1",
          "open_bracket",
          "tok_3",
          "tok_4",
          "tok_5",
          "tok_6",
          "tok_7",
          "tok_8",
          "close_bracket",
          "tok_10",
          "tok_11"
         ],
         "xaxis": "x8",
         "y": [
          0,
          0.005665459670126438,
          35.7929573059082,
          0,
          0,
          0.03320261836051941,
          0,
          0.007487911265343428,
          0,
          0,
          0,
          0
         ],
         "yaxis": "y8"
        },
        {
         "hovertemplate": "Token: %{x}<br>Activation: %{y}<br>Layer: 7",
         "mode": "lines",
         "name": "Feature_17995",
         "type": "scatter",
         "x": [
          "tok_0",
          "tok_1",
          "open_bracket",
          "tok_3",
          "tok_4",
          "tok_5",
          "tok_6",
          "tok_7",
          "tok_8",
          "close_bracket",
          "tok_10",
          "tok_11"
         ],
         "xaxis": "x8",
         "y": [
          0,
          0.025505803525447845,
          0,
          12.029886245727539,
          0.20164033770561218,
          0.15908552706241608,
          0.1368313431739807,
          0.06568334251642227,
          0.07699338346719742,
          0,
          0,
          0.002783255185931921
         ],
         "yaxis": "y8"
        },
        {
         "hovertemplate": "Token: %{x}<br>Activation: %{y}<br>Layer: 7",
         "mode": "lines",
         "name": "Feature_20456",
         "type": "scatter",
         "x": [
          "tok_0",
          "tok_1",
          "open_bracket",
          "tok_3",
          "tok_4",
          "tok_5",
          "tok_6",
          "tok_7",
          "tok_8",
          "close_bracket",
          "tok_10",
          "tok_11"
         ],
         "xaxis": "x8",
         "y": [
          0,
          0.04242009297013283,
          0.4810978174209595,
          1.49454665184021,
          0.7473852634429932,
          0.8552711009979248,
          1.7152491807937622,
          2.3629448413848877,
          2.8950741291046143,
          2.8169238567352295,
          3.4428179264068604,
          2.413611888885498
         ],
         "yaxis": "y8"
        },
        {
         "hovertemplate": "Token: %{x}<br>Activation: %{y}<br>Layer: 7",
         "mode": "lines",
         "name": "Feature_14532",
         "type": "scatter",
         "x": [
          "tok_0",
          "tok_1",
          "open_bracket",
          "tok_3",
          "tok_4",
          "tok_5",
          "tok_6",
          "tok_7",
          "tok_8",
          "close_bracket",
          "tok_10",
          "tok_11"
         ],
         "xaxis": "x8",
         "y": [
          0,
          0.004855424631386995,
          0,
          0.9889425039291382,
          1.0288078784942627,
          1.764596700668335,
          2.1113898754119873,
          2.0542569160461426,
          2.060699462890625,
          0,
          0.003026521299034357,
          0.007235620636492968
         ],
         "yaxis": "y8"
        },
        {
         "hovertemplate": "Token: %{x}<br>Activation: %{y}<br>Layer: 8",
         "mode": "lines",
         "name": "Feature_895",
         "type": "scatter",
         "x": [
          "tok_0",
          "tok_1",
          "open_bracket",
          "tok_3",
          "tok_4",
          "tok_5",
          "tok_6",
          "tok_7",
          "tok_8",
          "close_bracket",
          "tok_10",
          "tok_11"
         ],
         "xaxis": "x9",
         "y": [
          0,
          0.008837103843688965,
          0,
          6.7663960456848145,
          8.082029342651367,
          7.708101272583008,
          7.210120677947998,
          6.648054599761963,
          6.345319747924805,
          0.060048870742321014,
          0.047614067792892456,
          0.06759890913963318
         ],
         "yaxis": "y9"
        },
        {
         "hovertemplate": "Token: %{x}<br>Activation: %{y}<br>Layer: 8",
         "mode": "lines",
         "name": "Feature_2480",
         "type": "scatter",
         "x": [
          "tok_0",
          "tok_1",
          "open_bracket",
          "tok_3",
          "tok_4",
          "tok_5",
          "tok_6",
          "tok_7",
          "tok_8",
          "close_bracket",
          "tok_10",
          "tok_11"
         ],
         "xaxis": "x9",
         "y": [
          0,
          0,
          36.816810607910156,
          0,
          0,
          0.04746796190738678,
          0.0031959505286067724,
          0.013991380110383034,
          0,
          0,
          0,
          0
         ],
         "yaxis": "y9"
        },
        {
         "hovertemplate": "Token: %{x}<br>Activation: %{y}<br>Layer: 8",
         "mode": "lines",
         "name": "Feature_21822",
         "type": "scatter",
         "x": [
          "tok_0",
          "tok_1",
          "open_bracket",
          "tok_3",
          "tok_4",
          "tok_5",
          "tok_6",
          "tok_7",
          "tok_8",
          "close_bracket",
          "tok_10",
          "tok_11"
         ],
         "xaxis": "x9",
         "y": [
          0,
          0.03322644159197807,
          0,
          11.48702621459961,
          0.5495443344116211,
          0.24268460273742676,
          0.19245260953903198,
          0.07606009393930435,
          0.07287998497486115,
          0,
          0,
          0
         ],
         "yaxis": "y9"
        },
        {
         "hovertemplate": "Token: %{x}<br>Activation: %{y}<br>Layer: 8",
         "mode": "lines",
         "name": "Feature_14215",
         "type": "scatter",
         "x": [
          "tok_0",
          "tok_1",
          "open_bracket",
          "tok_3",
          "tok_4",
          "tok_5",
          "tok_6",
          "tok_7",
          "tok_8",
          "close_bracket",
          "tok_10",
          "tok_11"
         ],
         "xaxis": "x9",
         "y": [
          0,
          0.00391427194699645,
          0,
          0.9362283945083618,
          1.4902560710906982,
          2.061328411102295,
          2.307666063308716,
          2.192443370819092,
          2.2153100967407227,
          0,
          0.007042962126433849,
          0.00873054563999176
         ],
         "yaxis": "y9"
        },
        {
         "hovertemplate": "Token: %{x}<br>Activation: %{y}<br>Layer: 8",
         "mode": "lines",
         "name": "Feature_22220",
         "type": "scatter",
         "x": [
          "tok_0",
          "tok_1",
          "open_bracket",
          "tok_3",
          "tok_4",
          "tok_5",
          "tok_6",
          "tok_7",
          "tok_8",
          "close_bracket",
          "tok_10",
          "tok_11"
         ],
         "xaxis": "x9",
         "y": [
          0,
          0.046862371265888214,
          0,
          0.11642779409885406,
          0.7458266019821167,
          1.5655261278152466,
          2.306845188140869,
          2.91957426071167,
          3.4586174488067627,
          3.2697291374206543,
          0.9344976544380188,
          1.6368564367294312
         ],
         "yaxis": "y9"
        },
        {
         "hovertemplate": "Token: %{x}<br>Activation: %{y}<br>Layer: 9",
         "mode": "lines",
         "name": "Feature_11412",
         "type": "scatter",
         "x": [
          "tok_0",
          "tok_1",
          "open_bracket",
          "tok_3",
          "tok_4",
          "tok_5",
          "tok_6",
          "tok_7",
          "tok_8",
          "close_bracket",
          "tok_10",
          "tok_11"
         ],
         "xaxis": "x10",
         "y": [
          0,
          0.017611414194107056,
          0.003423949470743537,
          5.020166873931885,
          7.026388645172119,
          7.250728607177734,
          7.015307426452637,
          6.386784553527832,
          6.243983745574951,
          0.03157825022935867,
          0.05365350469946861,
          0.07650581747293472
         ],
         "yaxis": "y10"
        },
        {
         "hovertemplate": "Token: %{x}<br>Activation: %{y}<br>Layer: 9",
         "mode": "lines",
         "name": "Feature_9239",
         "type": "scatter",
         "x": [
          "tok_0",
          "tok_1",
          "open_bracket",
          "tok_3",
          "tok_4",
          "tok_5",
          "tok_6",
          "tok_7",
          "tok_8",
          "close_bracket",
          "tok_10",
          "tok_11"
         ],
         "xaxis": "x10",
         "y": [
          0,
          0,
          37.5640869140625,
          0,
          0.004533188417553902,
          0.04771403968334198,
          0,
          0.001661991118453443,
          0.0053639961406588554,
          0,
          0,
          0
         ],
         "yaxis": "y10"
        },
        {
         "hovertemplate": "Token: %{x}<br>Activation: %{y}<br>Layer: 9",
         "mode": "lines",
         "name": "Feature_11613",
         "type": "scatter",
         "x": [
          "tok_0",
          "tok_1",
          "open_bracket",
          "tok_3",
          "tok_4",
          "tok_5",
          "tok_6",
          "tok_7",
          "tok_8",
          "close_bracket",
          "tok_10",
          "tok_11"
         ],
         "xaxis": "x10",
         "y": [
          0.0009774714708328247,
          0,
          0.019083714112639427,
          6.09550666809082,
          5.885890960693359,
          4.079524517059326,
          2.5902762413024902,
          1.6429963111877441,
          0.9457706809043884,
          0.023846471682190895,
          0.015233433805406094,
          0.0179358571767807
         ],
         "yaxis": "y10"
        },
        {
         "hovertemplate": "Token: %{x}<br>Activation: %{y}<br>Layer: 9",
         "mode": "lines",
         "name": "Feature_17816",
         "type": "scatter",
         "x": [
          "tok_0",
          "tok_1",
          "open_bracket",
          "tok_3",
          "tok_4",
          "tok_5",
          "tok_6",
          "tok_7",
          "tok_8",
          "close_bracket",
          "tok_10",
          "tok_11"
         ],
         "xaxis": "x10",
         "y": [
          0,
          0.028056930750608444,
          0,
          10.783432960510254,
          0.7385190725326538,
          0.21464933454990387,
          0.19780230522155762,
          0.06851047277450562,
          0.06406491994857788,
          0,
          0,
          0
         ],
         "yaxis": "y10"
        },
        {
         "hovertemplate": "Token: %{x}<br>Activation: %{y}<br>Layer: 9",
         "mode": "lines",
         "name": "Feature_10349",
         "type": "scatter",
         "x": [
          "tok_0",
          "tok_1",
          "open_bracket",
          "tok_3",
          "tok_4",
          "tok_5",
          "tok_6",
          "tok_7",
          "tok_8",
          "close_bracket",
          "tok_10",
          "tok_11"
         ],
         "xaxis": "x10",
         "y": [
          0,
          0.09882372617721558,
          0.005791791249066591,
          0.14681869745254517,
          0.8454616665840149,
          1.7041200399398804,
          2.4909563064575195,
          3.196519374847412,
          3.6077799797058105,
          4.3907318115234375,
          1.1622260808944702,
          1.626680612564087
         ],
         "yaxis": "y10"
        },
        {
         "hovertemplate": "Token: %{x}<br>Activation: %{y}<br>Layer: 10",
         "mode": "lines",
         "name": "Feature_17159",
         "type": "scatter",
         "x": [
          "tok_0",
          "tok_1",
          "open_bracket",
          "tok_3",
          "tok_4",
          "tok_5",
          "tok_6",
          "tok_7",
          "tok_8",
          "close_bracket",
          "tok_10",
          "tok_11"
         ],
         "xaxis": "x11",
         "y": [
          0,
          0.021827388554811478,
          0.09144174307584763,
          6.5488786697387695,
          9.466171264648438,
          9.552175521850586,
          9.631667137145996,
          9.07176685333252,
          8.999101638793945,
          0.0403197705745697,
          0.07959388941526413,
          0.12083041667938232
         ],
         "yaxis": "y11"
        },
        {
         "hovertemplate": "Token: %{x}<br>Activation: %{y}<br>Layer: 10",
         "mode": "lines",
         "name": "Feature_8616",
         "type": "scatter",
         "x": [
          "tok_0",
          "tok_1",
          "open_bracket",
          "tok_3",
          "tok_4",
          "tok_5",
          "tok_6",
          "tok_7",
          "tok_8",
          "close_bracket",
          "tok_10",
          "tok_11"
         ],
         "xaxis": "x11",
         "y": [
          0,
          0,
          35.29563903808594,
          0,
          0,
          0.026618821546435356,
          0,
          0.005053974222391844,
          0,
          0,
          0,
          0
         ],
         "yaxis": "y11"
        },
        {
         "hovertemplate": "Token: %{x}<br>Activation: %{y}<br>Layer: 10",
         "mode": "lines",
         "name": "Feature_7995",
         "type": "scatter",
         "x": [
          "tok_0",
          "tok_1",
          "open_bracket",
          "tok_3",
          "tok_4",
          "tok_5",
          "tok_6",
          "tok_7",
          "tok_8",
          "close_bracket",
          "tok_10",
          "tok_11"
         ],
         "xaxis": "x11",
         "y": [
          0,
          0.563043475151062,
          0,
          0.06355051696300507,
          2.555624008178711,
          3.478604316711426,
          3.4523086547851562,
          3.6624820232391357,
          3.553375244140625,
          0,
          2.165311813354492,
          3.1839661598205566
         ],
         "yaxis": "y11"
        },
        {
         "hovertemplate": "Token: %{x}<br>Activation: %{y}<br>Layer: 10",
         "mode": "lines",
         "name": "Feature_12107",
         "type": "scatter",
         "x": [
          "tok_0",
          "tok_1",
          "open_bracket",
          "tok_3",
          "tok_4",
          "tok_5",
          "tok_6",
          "tok_7",
          "tok_8",
          "close_bracket",
          "tok_10",
          "tok_11"
         ],
         "xaxis": "x11",
         "y": [
          0,
          0.09509974718093872,
          0.36664825677871704,
          0.6810587644577026,
          1.4154925346374512,
          1.5904040336608887,
          2.5013535022735596,
          3.3735036849975586,
          4.24594783782959,
          6.171379089355469,
          3.9109935760498047,
          4.478658676147461
         ],
         "yaxis": "y11"
        },
        {
         "hovertemplate": "Token: %{x}<br>Activation: %{y}<br>Layer: 10",
         "mode": "lines",
         "name": "Feature_22027",
         "type": "scatter",
         "x": [
          "tok_0",
          "tok_1",
          "open_bracket",
          "tok_3",
          "tok_4",
          "tok_5",
          "tok_6",
          "tok_7",
          "tok_8",
          "close_bracket",
          "tok_10",
          "tok_11"
         ],
         "xaxis": "x11",
         "y": [
          0,
          0,
          0.007769353222101927,
          2.530108690261841,
          3.053151845932007,
          2.6302030086517334,
          2.253889560699463,
          1.660253882408142,
          1.286555528640747,
          0,
          0,
          0.006558335851877928
         ],
         "yaxis": "y11"
        },
        {
         "hovertemplate": "Token: %{x}<br>Activation: %{y}<br>Layer: 11",
         "mode": "lines",
         "name": "Feature_23260",
         "type": "scatter",
         "x": [
          "tok_0",
          "tok_1",
          "open_bracket",
          "tok_3",
          "tok_4",
          "tok_5",
          "tok_6",
          "tok_7",
          "tok_8",
          "close_bracket",
          "tok_10",
          "tok_11"
         ],
         "xaxis": "x12",
         "y": [
          0,
          0.05038260295987129,
          0.23761136829853058,
          8.541926383972168,
          10.952338218688965,
          11.312078475952148,
          11.515430450439453,
          11.059295654296875,
          10.736414909362793,
          0.04358583688735962,
          0.14020907878875732,
          0.1403881162405014
         ],
         "yaxis": "y12"
        },
        {
         "hovertemplate": "Token: %{x}<br>Activation: %{y}<br>Layer: 11",
         "mode": "lines",
         "name": "Feature_24084",
         "type": "scatter",
         "x": [
          "tok_0",
          "tok_1",
          "open_bracket",
          "tok_3",
          "tok_4",
          "tok_5",
          "tok_6",
          "tok_7",
          "tok_8",
          "close_bracket",
          "tok_10",
          "tok_11"
         ],
         "xaxis": "x12",
         "y": [
          0,
          0,
          35.777496337890625,
          0,
          0.09801407158374786,
          0.06975811719894409,
          0.06406321376562119,
          0.06707291305065155,
          0,
          0,
          0.004301552660763264,
          0
         ],
         "yaxis": "y12"
        },
        {
         "hovertemplate": "Token: %{x}<br>Activation: %{y}<br>Layer: 11",
         "mode": "lines",
         "name": "Feature_19950",
         "type": "scatter",
         "x": [
          "tok_0",
          "tok_1",
          "open_bracket",
          "tok_3",
          "tok_4",
          "tok_5",
          "tok_6",
          "tok_7",
          "tok_8",
          "close_bracket",
          "tok_10",
          "tok_11"
         ],
         "xaxis": "x12",
         "y": [
          0,
          0.013267898000776768,
          0.05459040403366089,
          1.5968589782714844,
          4.373380661010742,
          6.330042839050293,
          7.571354866027832,
          7.607285499572754,
          7.711953163146973,
          0.05411447584629059,
          0.07474838942289352,
          0.07498560100793839
         ],
         "yaxis": "y12"
        },
        {
         "hovertemplate": "Token: %{x}<br>Activation: %{y}<br>Layer: 11",
         "mode": "lines",
         "name": "Feature_21741",
         "type": "scatter",
         "x": [
          "tok_0",
          "tok_1",
          "open_bracket",
          "tok_3",
          "tok_4",
          "tok_5",
          "tok_6",
          "tok_7",
          "tok_8",
          "close_bracket",
          "tok_10",
          "tok_11"
         ],
         "xaxis": "x12",
         "y": [
          0,
          0.8601558208465576,
          0,
          10.669451713562012,
          2.5326242446899414,
          1.5518324375152588,
          1.0018274784088135,
          0.7308059930801392,
          0.4524661898612976,
          0,
          0.6816965341567993,
          0.3804250955581665
         ],
         "yaxis": "y12"
        },
        {
         "hovertemplate": "Token: %{x}<br>Activation: %{y}<br>Layer: 11",
         "mode": "lines",
         "name": "Feature_6130",
         "type": "scatter",
         "x": [
          "tok_0",
          "tok_1",
          "open_bracket",
          "tok_3",
          "tok_4",
          "tok_5",
          "tok_6",
          "tok_7",
          "tok_8",
          "close_bracket",
          "tok_10",
          "tok_11"
         ],
         "xaxis": "x12",
         "y": [
          0,
          0.004738312214612961,
          0.020292585715651512,
          2.3270838260650635,
          4.957859992980957,
          3.2993359565734863,
          2.7529120445251465,
          1.8875656127929688,
          1.2106130123138428,
          0,
          0,
          0.001238314202055335
         ],
         "yaxis": "y12"
        }
       ],
       "layout": {
        "annotations": [
         {
          "font": {
           "size": 16
          },
          "showarrow": false,
          "text": "Layer 1",
          "x": 0.10625,
          "xanchor": "center",
          "xref": "paper",
          "y": 1,
          "yanchor": "bottom",
          "yref": "paper"
         },
         {
          "font": {
           "size": 16
          },
          "showarrow": false,
          "text": "Layer 2",
          "x": 0.36875,
          "xanchor": "center",
          "xref": "paper",
          "y": 1,
          "yanchor": "bottom",
          "yref": "paper"
         },
         {
          "font": {
           "size": 16
          },
          "showarrow": false,
          "text": "Layer 3",
          "x": 0.6312500000000001,
          "xanchor": "center",
          "xref": "paper",
          "y": 1,
          "yanchor": "bottom",
          "yref": "paper"
         },
         {
          "font": {
           "size": 16
          },
          "showarrow": false,
          "text": "Layer 4",
          "x": 0.89375,
          "xanchor": "center",
          "xref": "paper",
          "y": 1,
          "yanchor": "bottom",
          "yref": "paper"
         },
         {
          "font": {
           "size": 16
          },
          "showarrow": false,
          "text": "Layer 5",
          "x": 0.10625,
          "xanchor": "center",
          "xref": "paper",
          "y": 0.6111111111111112,
          "yanchor": "bottom",
          "yref": "paper"
         },
         {
          "font": {
           "size": 16
          },
          "showarrow": false,
          "text": "Layer 6",
          "x": 0.36875,
          "xanchor": "center",
          "xref": "paper",
          "y": 0.6111111111111112,
          "yanchor": "bottom",
          "yref": "paper"
         },
         {
          "font": {
           "size": 16
          },
          "showarrow": false,
          "text": "Layer 7",
          "x": 0.6312500000000001,
          "xanchor": "center",
          "xref": "paper",
          "y": 0.6111111111111112,
          "yanchor": "bottom",
          "yref": "paper"
         },
         {
          "font": {
           "size": 16
          },
          "showarrow": false,
          "text": "Layer 8",
          "x": 0.89375,
          "xanchor": "center",
          "xref": "paper",
          "y": 0.6111111111111112,
          "yanchor": "bottom",
          "yref": "paper"
         },
         {
          "font": {
           "size": 16
          },
          "showarrow": false,
          "text": "Layer 9",
          "x": 0.10625,
          "xanchor": "center",
          "xref": "paper",
          "y": 0.22222222222222224,
          "yanchor": "bottom",
          "yref": "paper"
         },
         {
          "font": {
           "size": 16
          },
          "showarrow": false,
          "text": "Layer 10",
          "x": 0.36875,
          "xanchor": "center",
          "xref": "paper",
          "y": 0.22222222222222224,
          "yanchor": "bottom",
          "yref": "paper"
         },
         {
          "font": {
           "size": 16
          },
          "showarrow": false,
          "text": "Layer 11",
          "x": 0.6312500000000001,
          "xanchor": "center",
          "xref": "paper",
          "y": 0.22222222222222224,
          "yanchor": "bottom",
          "yref": "paper"
         },
         {
          "font": {
           "size": 16
          },
          "showarrow": false,
          "text": "Layer 12",
          "x": 0.89375,
          "xanchor": "center",
          "xref": "paper",
          "y": 0.22222222222222224,
          "yanchor": "bottom",
          "yref": "paper"
         }
        ],
        "height": 900,
        "showlegend": false,
        "template": {
         "data": {
          "bar": [
           {
            "error_x": {
             "color": "#2a3f5f"
            },
            "error_y": {
             "color": "#2a3f5f"
            },
            "marker": {
             "line": {
              "color": "#E5ECF6",
              "width": 0.5
             },
             "pattern": {
              "fillmode": "overlay",
              "size": 10,
              "solidity": 0.2
             }
            },
            "type": "bar"
           }
          ],
          "barpolar": [
           {
            "marker": {
             "line": {
              "color": "#E5ECF6",
              "width": 0.5
             },
             "pattern": {
              "fillmode": "overlay",
              "size": 10,
              "solidity": 0.2
             }
            },
            "type": "barpolar"
           }
          ],
          "carpet": [
           {
            "aaxis": {
             "endlinecolor": "#2a3f5f",
             "gridcolor": "white",
             "linecolor": "white",
             "minorgridcolor": "white",
             "startlinecolor": "#2a3f5f"
            },
            "baxis": {
             "endlinecolor": "#2a3f5f",
             "gridcolor": "white",
             "linecolor": "white",
             "minorgridcolor": "white",
             "startlinecolor": "#2a3f5f"
            },
            "type": "carpet"
           }
          ],
          "choropleth": [
           {
            "colorbar": {
             "outlinewidth": 0,
             "ticks": ""
            },
            "type": "choropleth"
           }
          ],
          "contour": [
           {
            "colorbar": {
             "outlinewidth": 0,
             "ticks": ""
            },
            "colorscale": [
             [
              0,
              "#0d0887"
             ],
             [
              0.1111111111111111,
              "#46039f"
             ],
             [
              0.2222222222222222,
              "#7201a8"
             ],
             [
              0.3333333333333333,
              "#9c179e"
             ],
             [
              0.4444444444444444,
              "#bd3786"
             ],
             [
              0.5555555555555556,
              "#d8576b"
             ],
             [
              0.6666666666666666,
              "#ed7953"
             ],
             [
              0.7777777777777778,
              "#fb9f3a"
             ],
             [
              0.8888888888888888,
              "#fdca26"
             ],
             [
              1,
              "#f0f921"
             ]
            ],
            "type": "contour"
           }
          ],
          "contourcarpet": [
           {
            "colorbar": {
             "outlinewidth": 0,
             "ticks": ""
            },
            "type": "contourcarpet"
           }
          ],
          "heatmap": [
           {
            "colorbar": {
             "outlinewidth": 0,
             "ticks": ""
            },
            "colorscale": [
             [
              0,
              "#0d0887"
             ],
             [
              0.1111111111111111,
              "#46039f"
             ],
             [
              0.2222222222222222,
              "#7201a8"
             ],
             [
              0.3333333333333333,
              "#9c179e"
             ],
             [
              0.4444444444444444,
              "#bd3786"
             ],
             [
              0.5555555555555556,
              "#d8576b"
             ],
             [
              0.6666666666666666,
              "#ed7953"
             ],
             [
              0.7777777777777778,
              "#fb9f3a"
             ],
             [
              0.8888888888888888,
              "#fdca26"
             ],
             [
              1,
              "#f0f921"
             ]
            ],
            "type": "heatmap"
           }
          ],
          "heatmapgl": [
           {
            "colorbar": {
             "outlinewidth": 0,
             "ticks": ""
            },
            "colorscale": [
             [
              0,
              "#0d0887"
             ],
             [
              0.1111111111111111,
              "#46039f"
             ],
             [
              0.2222222222222222,
              "#7201a8"
             ],
             [
              0.3333333333333333,
              "#9c179e"
             ],
             [
              0.4444444444444444,
              "#bd3786"
             ],
             [
              0.5555555555555556,
              "#d8576b"
             ],
             [
              0.6666666666666666,
              "#ed7953"
             ],
             [
              0.7777777777777778,
              "#fb9f3a"
             ],
             [
              0.8888888888888888,
              "#fdca26"
             ],
             [
              1,
              "#f0f921"
             ]
            ],
            "type": "heatmapgl"
           }
          ],
          "histogram": [
           {
            "marker": {
             "pattern": {
              "fillmode": "overlay",
              "size": 10,
              "solidity": 0.2
             }
            },
            "type": "histogram"
           }
          ],
          "histogram2d": [
           {
            "colorbar": {
             "outlinewidth": 0,
             "ticks": ""
            },
            "colorscale": [
             [
              0,
              "#0d0887"
             ],
             [
              0.1111111111111111,
              "#46039f"
             ],
             [
              0.2222222222222222,
              "#7201a8"
             ],
             [
              0.3333333333333333,
              "#9c179e"
             ],
             [
              0.4444444444444444,
              "#bd3786"
             ],
             [
              0.5555555555555556,
              "#d8576b"
             ],
             [
              0.6666666666666666,
              "#ed7953"
             ],
             [
              0.7777777777777778,
              "#fb9f3a"
             ],
             [
              0.8888888888888888,
              "#fdca26"
             ],
             [
              1,
              "#f0f921"
             ]
            ],
            "type": "histogram2d"
           }
          ],
          "histogram2dcontour": [
           {
            "colorbar": {
             "outlinewidth": 0,
             "ticks": ""
            },
            "colorscale": [
             [
              0,
              "#0d0887"
             ],
             [
              0.1111111111111111,
              "#46039f"
             ],
             [
              0.2222222222222222,
              "#7201a8"
             ],
             [
              0.3333333333333333,
              "#9c179e"
             ],
             [
              0.4444444444444444,
              "#bd3786"
             ],
             [
              0.5555555555555556,
              "#d8576b"
             ],
             [
              0.6666666666666666,
              "#ed7953"
             ],
             [
              0.7777777777777778,
              "#fb9f3a"
             ],
             [
              0.8888888888888888,
              "#fdca26"
             ],
             [
              1,
              "#f0f921"
             ]
            ],
            "type": "histogram2dcontour"
           }
          ],
          "mesh3d": [
           {
            "colorbar": {
             "outlinewidth": 0,
             "ticks": ""
            },
            "type": "mesh3d"
           }
          ],
          "parcoords": [
           {
            "line": {
             "colorbar": {
              "outlinewidth": 0,
              "ticks": ""
             }
            },
            "type": "parcoords"
           }
          ],
          "pie": [
           {
            "automargin": true,
            "type": "pie"
           }
          ],
          "scatter": [
           {
            "fillpattern": {
             "fillmode": "overlay",
             "size": 10,
             "solidity": 0.2
            },
            "type": "scatter"
           }
          ],
          "scatter3d": [
           {
            "line": {
             "colorbar": {
              "outlinewidth": 0,
              "ticks": ""
             }
            },
            "marker": {
             "colorbar": {
              "outlinewidth": 0,
              "ticks": ""
             }
            },
            "type": "scatter3d"
           }
          ],
          "scattercarpet": [
           {
            "marker": {
             "colorbar": {
              "outlinewidth": 0,
              "ticks": ""
             }
            },
            "type": "scattercarpet"
           }
          ],
          "scattergeo": [
           {
            "marker": {
             "colorbar": {
              "outlinewidth": 0,
              "ticks": ""
             }
            },
            "type": "scattergeo"
           }
          ],
          "scattergl": [
           {
            "marker": {
             "colorbar": {
              "outlinewidth": 0,
              "ticks": ""
             }
            },
            "type": "scattergl"
           }
          ],
          "scattermapbox": [
           {
            "marker": {
             "colorbar": {
              "outlinewidth": 0,
              "ticks": ""
             }
            },
            "type": "scattermapbox"
           }
          ],
          "scatterpolar": [
           {
            "marker": {
             "colorbar": {
              "outlinewidth": 0,
              "ticks": ""
             }
            },
            "type": "scatterpolar"
           }
          ],
          "scatterpolargl": [
           {
            "marker": {
             "colorbar": {
              "outlinewidth": 0,
              "ticks": ""
             }
            },
            "type": "scatterpolargl"
           }
          ],
          "scatterternary": [
           {
            "marker": {
             "colorbar": {
              "outlinewidth": 0,
              "ticks": ""
             }
            },
            "type": "scatterternary"
           }
          ],
          "surface": [
           {
            "colorbar": {
             "outlinewidth": 0,
             "ticks": ""
            },
            "colorscale": [
             [
              0,
              "#0d0887"
             ],
             [
              0.1111111111111111,
              "#46039f"
             ],
             [
              0.2222222222222222,
              "#7201a8"
             ],
             [
              0.3333333333333333,
              "#9c179e"
             ],
             [
              0.4444444444444444,
              "#bd3786"
             ],
             [
              0.5555555555555556,
              "#d8576b"
             ],
             [
              0.6666666666666666,
              "#ed7953"
             ],
             [
              0.7777777777777778,
              "#fb9f3a"
             ],
             [
              0.8888888888888888,
              "#fdca26"
             ],
             [
              1,
              "#f0f921"
             ]
            ],
            "type": "surface"
           }
          ],
          "table": [
           {
            "cells": {
             "fill": {
              "color": "#EBF0F8"
             },
             "line": {
              "color": "white"
             }
            },
            "header": {
             "fill": {
              "color": "#C8D4E3"
             },
             "line": {
              "color": "white"
             }
            },
            "type": "table"
           }
          ]
         },
         "layout": {
          "annotationdefaults": {
           "arrowcolor": "#2a3f5f",
           "arrowhead": 0,
           "arrowwidth": 1
          },
          "autotypenumbers": "strict",
          "coloraxis": {
           "colorbar": {
            "outlinewidth": 0,
            "ticks": ""
           }
          },
          "colorscale": {
           "diverging": [
            [
             0,
             "#8e0152"
            ],
            [
             0.1,
             "#c51b7d"
            ],
            [
             0.2,
             "#de77ae"
            ],
            [
             0.3,
             "#f1b6da"
            ],
            [
             0.4,
             "#fde0ef"
            ],
            [
             0.5,
             "#f7f7f7"
            ],
            [
             0.6,
             "#e6f5d0"
            ],
            [
             0.7,
             "#b8e186"
            ],
            [
             0.8,
             "#7fbc41"
            ],
            [
             0.9,
             "#4d9221"
            ],
            [
             1,
             "#276419"
            ]
           ],
           "sequential": [
            [
             0,
             "#0d0887"
            ],
            [
             0.1111111111111111,
             "#46039f"
            ],
            [
             0.2222222222222222,
             "#7201a8"
            ],
            [
             0.3333333333333333,
             "#9c179e"
            ],
            [
             0.4444444444444444,
             "#bd3786"
            ],
            [
             0.5555555555555556,
             "#d8576b"
            ],
            [
             0.6666666666666666,
             "#ed7953"
            ],
            [
             0.7777777777777778,
             "#fb9f3a"
            ],
            [
             0.8888888888888888,
             "#fdca26"
            ],
            [
             1,
             "#f0f921"
            ]
           ],
           "sequentialminus": [
            [
             0,
             "#0d0887"
            ],
            [
             0.1111111111111111,
             "#46039f"
            ],
            [
             0.2222222222222222,
             "#7201a8"
            ],
            [
             0.3333333333333333,
             "#9c179e"
            ],
            [
             0.4444444444444444,
             "#bd3786"
            ],
            [
             0.5555555555555556,
             "#d8576b"
            ],
            [
             0.6666666666666666,
             "#ed7953"
            ],
            [
             0.7777777777777778,
             "#fb9f3a"
            ],
            [
             0.8888888888888888,
             "#fdca26"
            ],
            [
             1,
             "#f0f921"
            ]
           ]
          },
          "colorway": [
           "#636efa",
           "#EF553B",
           "#00cc96",
           "#ab63fa",
           "#FFA15A",
           "#19d3f3",
           "#FF6692",
           "#B6E880",
           "#FF97FF",
           "#FECB52"
          ],
          "font": {
           "color": "#2a3f5f"
          },
          "geo": {
           "bgcolor": "white",
           "lakecolor": "white",
           "landcolor": "#E5ECF6",
           "showlakes": true,
           "showland": true,
           "subunitcolor": "white"
          },
          "hoverlabel": {
           "align": "left"
          },
          "hovermode": "closest",
          "mapbox": {
           "style": "light"
          },
          "paper_bgcolor": "white",
          "plot_bgcolor": "#E5ECF6",
          "polar": {
           "angularaxis": {
            "gridcolor": "white",
            "linecolor": "white",
            "ticks": ""
           },
           "bgcolor": "#E5ECF6",
           "radialaxis": {
            "gridcolor": "white",
            "linecolor": "white",
            "ticks": ""
           }
          },
          "scene": {
           "xaxis": {
            "backgroundcolor": "#E5ECF6",
            "gridcolor": "white",
            "gridwidth": 2,
            "linecolor": "white",
            "showbackground": true,
            "ticks": "",
            "zerolinecolor": "white"
           },
           "yaxis": {
            "backgroundcolor": "#E5ECF6",
            "gridcolor": "white",
            "gridwidth": 2,
            "linecolor": "white",
            "showbackground": true,
            "ticks": "",
            "zerolinecolor": "white"
           },
           "zaxis": {
            "backgroundcolor": "#E5ECF6",
            "gridcolor": "white",
            "gridwidth": 2,
            "linecolor": "white",
            "showbackground": true,
            "ticks": "",
            "zerolinecolor": "white"
           }
          },
          "shapedefaults": {
           "line": {
            "color": "#2a3f5f"
           }
          },
          "ternary": {
           "aaxis": {
            "gridcolor": "white",
            "linecolor": "white",
            "ticks": ""
           },
           "baxis": {
            "gridcolor": "white",
            "linecolor": "white",
            "ticks": ""
           },
           "bgcolor": "#E5ECF6",
           "caxis": {
            "gridcolor": "white",
            "linecolor": "white",
            "ticks": ""
           }
          },
          "title": {
           "x": 0.05
          },
          "xaxis": {
           "automargin": true,
           "gridcolor": "white",
           "linecolor": "white",
           "ticks": "",
           "title": {
            "standoff": 15
           },
           "zerolinecolor": "white",
           "zerolinewidth": 2
          },
          "yaxis": {
           "automargin": true,
           "gridcolor": "white",
           "linecolor": "white",
           "ticks": "",
           "title": {
            "standoff": 15
           },
           "zerolinecolor": "white",
           "zerolinewidth": 2
          }
         }
        },
        "title": {
         "text": "Top 5 Features in each layer (averaged in between parentheses context)"
        },
        "width": 1600,
        "xaxis": {
         "anchor": "y",
         "domain": [
          0,
          0.2125
         ],
         "tickangle": 45
        },
        "xaxis10": {
         "anchor": "y10",
         "domain": [
          0.2625,
          0.475
         ],
         "tickangle": 45
        },
        "xaxis11": {
         "anchor": "y11",
         "domain": [
          0.525,
          0.7375
         ],
         "tickangle": 45
        },
        "xaxis12": {
         "anchor": "y12",
         "domain": [
          0.7875,
          1
         ],
         "tickangle": 45
        },
        "xaxis2": {
         "anchor": "y2",
         "domain": [
          0.2625,
          0.475
         ],
         "tickangle": 45
        },
        "xaxis3": {
         "anchor": "y3",
         "domain": [
          0.525,
          0.7375
         ],
         "tickangle": 45
        },
        "xaxis4": {
         "anchor": "y4",
         "domain": [
          0.7875,
          1
         ],
         "tickangle": 45
        },
        "xaxis5": {
         "anchor": "y5",
         "domain": [
          0,
          0.2125
         ],
         "tickangle": 45
        },
        "xaxis6": {
         "anchor": "y6",
         "domain": [
          0.2625,
          0.475
         ],
         "tickangle": 45
        },
        "xaxis7": {
         "anchor": "y7",
         "domain": [
          0.525,
          0.7375
         ],
         "tickangle": 45
        },
        "xaxis8": {
         "anchor": "y8",
         "domain": [
          0.7875,
          1
         ],
         "tickangle": 45
        },
        "xaxis9": {
         "anchor": "y9",
         "domain": [
          0,
          0.2125
         ],
         "tickangle": 45
        },
        "yaxis": {
         "anchor": "x",
         "domain": [
          0.7777777777777778,
          1
         ]
        },
        "yaxis10": {
         "anchor": "x10",
         "domain": [
          0,
          0.22222222222222224
         ]
        },
        "yaxis11": {
         "anchor": "x11",
         "domain": [
          0,
          0.22222222222222224
         ]
        },
        "yaxis12": {
         "anchor": "x12",
         "domain": [
          0,
          0.22222222222222224
         ]
        },
        "yaxis2": {
         "anchor": "x2",
         "domain": [
          0.7777777777777778,
          1
         ]
        },
        "yaxis3": {
         "anchor": "x3",
         "domain": [
          0.7777777777777778,
          1
         ]
        },
        "yaxis4": {
         "anchor": "x4",
         "domain": [
          0.7777777777777778,
          1
         ]
        },
        "yaxis5": {
         "anchor": "x5",
         "domain": [
          0.3888888888888889,
          0.6111111111111112
         ]
        },
        "yaxis6": {
         "anchor": "x6",
         "domain": [
          0.3888888888888889,
          0.6111111111111112
         ]
        },
        "yaxis7": {
         "anchor": "x7",
         "domain": [
          0.3888888888888889,
          0.6111111111111112
         ]
        },
        "yaxis8": {
         "anchor": "x8",
         "domain": [
          0.3888888888888889,
          0.6111111111111112
         ]
        },
        "yaxis9": {
         "anchor": "x9",
         "domain": [
          0,
          0.22222222222222224
         ]
        }
       }
      }
     },
     "metadata": {},
     "output_type": "display_data"
    }
   ],
   "source": [
    "import plotly.graph_objects as go \n",
    "from plotly.subplots import make_subplots\n",
    "# create a 4 * 3 grid of subplots\n",
    "fig = make_subplots(rows=3, cols=4, subplot_titles=[f\"Layer {i}\" for i in range(1,13)])\n",
    "\n",
    "top_k = 5\n",
    "# add a line chart to each subplot\n",
    "for layer in range(12):\n",
    "    score_features_by = feature_acts_stacked[layer,:].mean(0)[2:9].sum(0)\n",
    "    vals, inds = torch.topk(score_features_by, top_k)\n",
    "    tmp_df = pd.DataFrame(feature_acts_stacked.mean(1)[layer,:,inds].cpu(),\n",
    "                          columns = [f\"Feature_{i}\" for i in inds],\n",
    "                          index = [f\"tok_{i}\" for i in range(12)])\n",
    "    # rename tok_2 to open bracket\n",
    "    tmp_df = tmp_df.rename(index={\"tok_2\": \"open_bracket\"})\n",
    "    # rename tok_9 to close bracket\n",
    "    tmp_df = tmp_df.rename(index={\"tok_9\": \"close_bracket\"})\n",
    "    for feature in tmp_df.columns:\n",
    "        fig.add_trace(go.Scatter(x=tmp_df.index, \n",
    "                                 y=tmp_df[feature],\n",
    "                                #  y=np.log10(tmp_df[feature]+ 1e-4), \n",
    "                                 mode=\"lines\",\n",
    "                                 name=feature,\n",
    "                                 hovertemplate=\"Token: %{x}<br>Activation: %{y}\" + f\"<br>Layer: {layer}\",\n",
    "                                 ), \n",
    "                      row=(layer//4)+1, col=(layer%4)+1)\n",
    "        # rotate x ticks\n",
    "        fig.update_xaxes(tickangle=45)\n",
    "    \n",
    "fig.update_layout(height=900, width=1600, title_text=f\"Top {top_k} Features in each layer (averaged in between parentheses context)\")\n",
    "# remove legend\n",
    "fig.update_layout(showlegend=False)\n",
    "fig.show()"
   ]
  },
  {
   "cell_type": "code",
   "execution_count": null,
   "metadata": {},
   "outputs": [],
   "source": []
  }
 ],
 "metadata": {
  "kernelspec": {
   "display_name": "mats_sae_training",
   "language": "python",
   "name": "python3"
  },
  "language_info": {
   "codemirror_mode": {
    "name": "ipython",
    "version": 3
   },
   "file_extension": ".py",
   "mimetype": "text/x-python",
   "name": "python",
   "nbconvert_exporter": "python",
   "pygments_lexer": "ipython3",
   "version": "3.11.6"
  }
 },
 "nbformat": 4,
 "nbformat_minor": 2
}
