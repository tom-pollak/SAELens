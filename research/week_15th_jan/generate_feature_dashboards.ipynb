{
 "cells": [
  {
   "cell_type": "code",
   "execution_count": null,
   "metadata": {},
   "outputs": [],
   "source": [
    "import sys \n",
    "sys.path.append(\"../..\")\n",
    "sys.path.append(\"..\")\n",
    "\n",
    "from importlib import reload\n",
    "from tqdm import tqdm\n",
    "\n",
    "import joseph\n",
    "from joseph.analysis import *\n",
    "from joseph.visualisation import *\n",
    "from joseph.utils import *\n",
    "from joseph.data import *\n",
    "\n",
    "\n",
    "reload(joseph.analysis)\n",
    "reload(joseph.visualisation)\n",
    "reload(joseph.utils)\n",
    "reload(joseph.data)\n",
    "\n",
    "from joseph.analysis import *\n",
    "from joseph.visualisation import *\n",
    "from joseph.utils import *\n",
    "from joseph.data import *\n",
    "\n",
    "# turn torch grad tracking off\n",
    "torch.set_grad_enabled(False)"
   ]
  },
  {
   "cell_type": "code",
   "execution_count": null,
   "metadata": {},
   "outputs": [],
   "source": []
  },
  {
   "cell_type": "code",
   "execution_count": null,
   "metadata": {},
   "outputs": [],
   "source": [
    "\n",
    "model = HookedTransformer.from_pretrained(\n",
    "    \"gpt2-small\",\n",
    "    # \"pythia-2.8b\",\n",
    "    # \"pythia-70m-deduped\",\n",
    "    # \"tiny-stories-2L-33M\",\n",
    "    # \"attn-only-2l\",\n",
    "    # center_unembed=True,\n",
    "    # center_writing_weights=True,\n",
    "    # fold_ln=True,\n",
    "    # refactor_factored_attn_matrices=True,\n",
    "    fold_ln=True,\n",
    ")\n",
    "model.set_use_split_qkv_input(True)\n",
    "model.set_use_attn_result(True)\n"
   ]
  },
  {
   "cell_type": "code",
   "execution_count": null,
   "metadata": {},
   "outputs": [],
   "source": [
    "\n",
    "\n",
    "# path = \"../week_8_jan/artifacts/sparse_autoencoder_gpt2-small_blocks.10.hook_resid_pre_49152:v28/1100001280_sparse_autoencoder_gpt2-small_blocks.10.hook_resid_pre_49152.pt\"\n",
    "path = \"../week_8_jan/artifacts/sparse_autoencoder_gpt2-small_blocks.5.hook_resid_pre_49152:v9/final_sparse_autoencoder_gpt2-small_blocks.5.hook_resid_pre_49152.pt\"\n",
    "sparse_autoencoder = SparseAutoencoder.load_from_pretrained(path)\n",
    "\n",
    "print(sparse_autoencoder.cfg)\n",
    "\n",
    "\n",
    "# sanity check\n",
    "text = \"Many important transition points in the history of science have been moments when science 'zoomed in.' At these points, we develop a visualization or tool that allows us to see the world in a new level of detail, and a new field of science develops to study the world through this lens.\"\n",
    "model(text, return_type=\"loss\")"
   ]
  },
  {
   "cell_type": "code",
   "execution_count": null,
   "metadata": {},
   "outputs": [],
   "source": [
    "from sae_training.utils import LMSparseAutoencoderSessionloader\n",
    "model, sparse_autoencoder, activation_store = LMSparseAutoencoderSessionloader.load_session_from_pretrained(\n",
    "    path\n",
    ")"
   ]
  },
  {
   "cell_type": "code",
   "execution_count": null,
   "metadata": {},
   "outputs": [],
   "source": [
    "all_tokens_list = []\n",
    "pbar = tqdm(range(128*6*4))\n",
    "for i in pbar:\n",
    "    batch_tokens = activation_store.get_batch_tokens()\n",
    "    # get a random quart of the batch\n",
    "    batch_tokens = batch_tokens[torch.randperm(batch_tokens.shape[0])][:batch_tokens.shape[0]//4]\n",
    "    all_tokens_list.append(batch_tokens)\n",
    "all_tokens = torch.cat(all_tokens_list, dim=0)\n",
    "print(all_tokens.shape)\n",
    "all_tokens = all_tokens[torch.randperm(all_tokens.shape[0])]\n",
    "tokens = all_tokens[:4096*6]\n",
    "del all_tokens\n",
    "torch.mps.empty_cache()"
   ]
  },
  {
   "cell_type": "code",
   "execution_count": null,
   "metadata": {},
   "outputs": [],
   "source": [
    "# path = \"../week_8_jan/gpt2_small_features\"\n",
    "path = \"../week_8_jan/gpt2_small_features_layer_5\"\n",
    "\n",
    "import os \n",
    "for i in range(sparse_autoencoder.cfg.d_sae):\n",
    "    # print(f\"Checking {i}\")\n",
    "    if not os.path.exists(f\"{path}/data_{i:04}.html\"):\n",
    "        break \n",
    "    \n",
    "n_features_at_a_time = 1024\n",
    "id_of_last_feature_without_dashboard = i\n",
    "n_features_remaining = sparse_autoencoder.cfg.d_sae - id_of_last_feature_without_dashboard\n",
    "n_batches_to_do = n_features_remaining // n_features_at_a_time\n",
    "id_to_start_from = sparse_autoencoder.cfg.d_sae - (n_batches_to_do + 1) * n_features_at_a_time\n",
    "print(f\"File {i} does not exist\")\n",
    "print(f\"features left to do: {n_features_remaining}\")\n",
    "print(f\"id_to_start_from: {id_to_start_from}\")\n",
    "print(f\"number of batches to do: {(sparse_autoencoder.cfg.d_sae - id_to_start_from) // n_features_at_a_time}\")"
   ]
  },
  {
   "cell_type": "code",
   "execution_count": null,
   "metadata": {},
   "outputs": [],
   "source": [
    "from sae_analysis.visualizer import data_fns, model_fns, html_fns\n",
    "import importlib\n",
    "\n",
    "importlib.reload(data_fns)\n",
    "importlib.reload(html_fns)\n",
    "from sae_analysis.visualizer.data_fns import get_feature_data, FeatureData\n",
    "\n",
    "# Currently, don't think much more time can be squeezed out of it. Maybe the best saving would be to\n",
    "# make the entire sequence indexing parallelized, but that's possibly not worth it right now.\n",
    "\n",
    "\n",
    "feature_idx = torch.tensor(range(id_to_start_from, sparse_autoencoder.cfg.d_sae)).reshape(-1, n_features_at_a_time)\n",
    "feature_idx = [x.tolist() for x in feature_idx]\n",
    "print(len(feature_idx))"
   ]
  },
  {
   "cell_type": "code",
   "execution_count": null,
   "metadata": {},
   "outputs": [],
   "source": [
    "max_batch_size = 512\n",
    "\n",
    "print(f\"{sparse_autoencoder.cfg.hook_point_layer} {sparse_autoencoder.cfg.hook_point}\")\n",
    "print(f\"{path}\")\n",
    "\n",
    "with torch.no_grad():\n",
    "    for interesting_features in tqdm(feature_idx):\n",
    "        print(interesting_features)\n",
    "        feature_data = get_feature_data(\n",
    "            encoder=sparse_autoencoder,\n",
    "            # encoder_B=sparse_autoencoder,\n",
    "            model=model,\n",
    "            hook_point=sparse_autoencoder.cfg.hook_point,\n",
    "            hook_point_layer=sparse_autoencoder.cfg.hook_point_layer,\n",
    "            hook_point_head_index=None,\n",
    "            tokens=tokens,\n",
    "            feature_idx=interesting_features,\n",
    "            max_batch_size=max_batch_size,\n",
    "            left_hand_k = 3,\n",
    "            buffer = (5, 5),\n",
    "            n_groups = 10,\n",
    "            first_group_size = 20,\n",
    "            other_groups_size = 5,\n",
    "            verbose = True,\n",
    "        )\n",
    "        \n",
    "        for test_idx in feature_data.keys():\n",
    "            html_str = feature_data[test_idx].get_all_html()\n",
    "            with open(f\"{path}/data_{test_idx:04}.html\", \"w\") as f:\n",
    "                f.write(html_str)\n",
    "\n",
    "\n"
   ]
  },
  {
   "cell_type": "code",
   "execution_count": null,
   "metadata": {},
   "outputs": [],
   "source": []
  }
 ],
 "metadata": {
  "kernelspec": {
   "display_name": "mats_sae_training",
   "language": "python",
   "name": "python3"
  },
  "language_info": {
   "codemirror_mode": {
    "name": "ipython",
    "version": 3
   },
   "file_extension": ".py",
   "mimetype": "text/x-python",
   "name": "python",
   "nbconvert_exporter": "python",
   "pygments_lexer": "ipython3",
   "version": "3.11.6"
  }
 },
 "nbformat": 4,
 "nbformat_minor": 2
}
