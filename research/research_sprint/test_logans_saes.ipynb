{
 "cells": [
  {
   "cell_type": "markdown",
   "metadata": {},
   "source": [
    "# Checking what the query reconstruction performance is like from logans SAE's\n",
    "\n",
    "\n",
    "To do:\n",
    "1. Check if we know about any anti-induction heads in pythia-70m. \n",
    "2. Check whether Logan's SAE's can reconstruct the attention patterns when look at the queries there."
   ]
  },
  {
   "cell_type": "code",
   "execution_count": null,
   "metadata": {},
   "outputs": [],
   "source": []
  }
 ],
 "metadata": {
  "language_info": {
   "name": "python"
  }
 },
 "nbformat": 4,
 "nbformat_minor": 2
}
