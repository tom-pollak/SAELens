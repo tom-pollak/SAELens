{
 "cells": [
  {
   "cell_type": "markdown",
   "metadata": {},
   "source": [
    "# Causal Experiments"
   ]
  },
  {
   "cell_type": "code",
   "execution_count": 1,
   "metadata": {},
   "outputs": [
    {
     "name": "stderr",
     "output_type": "stream",
     "text": [
      "/Users/josephbloom/miniforge3/envs/mats_sae_training/lib/python3.11/site-packages/transformers/utils/generic.py:441: UserWarning: torch.utils._pytree._register_pytree_node is deprecated. Please use torch.utils._pytree.register_pytree_node instead.\n",
      "  _torch_pytree._register_pytree_node(\n",
      "/Users/josephbloom/miniforge3/envs/mats_sae_training/lib/python3.11/site-packages/transformers/utils/generic.py:309: UserWarning: torch.utils._pytree._register_pytree_node is deprecated. Please use torch.utils._pytree.register_pytree_node instead.\n",
      "  _torch_pytree._register_pytree_node(\n",
      "/Users/josephbloom/miniforge3/envs/mats_sae_training/lib/python3.11/site-packages/transformers/utils/generic.py:309: UserWarning: torch.utils._pytree._register_pytree_node is deprecated. Please use torch.utils._pytree.register_pytree_node instead.\n",
      "  _torch_pytree._register_pytree_node(\n"
     ]
    },
    {
     "name": "stdout",
     "output_type": "stream",
     "text": [
      "Loaded pretrained model gpt2-small into HookedTransformer\n",
      "LanguageModelSAERunnerConfig(model_name='gpt2-small', hook_point='blocks.10.hook_resid_pre', hook_point_layer=10, hook_point_head_index=None, dataset_path='Skylion007/openwebtext', is_dataset_tokenized=False, context_size=128, use_cached_activations=False, cached_activations_path='activations/Skylion007_openwebtext/gpt2-small/blocks.10.hook_resid_pre', d_in=768, n_batches_in_buffer=128, total_training_tokens=3000000000, store_batch_size=32, device='mps', seed=42, dtype=torch.float32, expansion_factor=64, from_pretrained_path=None, l1_coefficient=8e-05, lr=0.0012, lr_scheduler_name=None, lr_warm_up_steps=5000, train_batch_size=4096, feature_sampling_window=1500, feature_sampling_method='anthropic', resample_batches=1028, feature_reinit_scale=0.2, dead_feature_window=50000, dead_feature_threshold=1e-06, log_to_wandb=True, wandb_project='mats_sae_training_gpt2_small_resid_pre', wandb_entity=None, wandb_log_frequency=100, n_checkpoints=30, checkpoint_path='checkpoints/v8md4kf6')\n"
     ]
    },
    {
     "data": {
      "text/plain": [
       "tensor(3.3225, device='mps:0')"
      ]
     },
     "execution_count": 1,
     "metadata": {},
     "output_type": "execute_result"
    }
   ],
   "source": [
    "import sys \n",
    "sys.path.append(\"../..\")\n",
    "sys.path.append(\"..\")\n",
    "\n",
    "from importlib import reload\n",
    "from tqdm import tqdm\n",
    "\n",
    "import joseph\n",
    "from joseph.analysis import *\n",
    "from joseph.visualisation import *\n",
    "from joseph.utils import *\n",
    "from joseph.data import *\n",
    "\n",
    "\n",
    "reload(joseph.analysis)\n",
    "reload(joseph.visualisation)\n",
    "reload(joseph.utils)\n",
    "reload(joseph.data)\n",
    "\n",
    "from joseph.analysis import *\n",
    "from joseph.visualisation import *\n",
    "from joseph.utils import *\n",
    "from joseph.data import *\n",
    "\n",
    "# turn torch grad tracking off\n",
    "torch.set_grad_enabled(False)\n",
    "\n",
    "\n",
    "model = HookedTransformer.from_pretrained(\n",
    "    \"gpt2-small\",\n",
    "    # \"tiny-stories-2L-33M\",\n",
    "    # \"attn-only-2l\",\n",
    "    # center_unembed=True,\n",
    "    # center_writing_weights=True,\n",
    "    # fold_ln=True,\n",
    "    # refactor_factored_attn_matrices=True,\n",
    ")\n",
    "model.set_use_split_qkv_input(True)\n",
    "model.set_use_attn_result(True)\n",
    "\n",
    "\n",
    "path = \"./artifacts/sparse_autoencoder_gpt2-small_blocks.10.hook_resid_pre_49152:v28/1100001280_sparse_autoencoder_gpt2-small_blocks.10.hook_resid_pre_49152.pt\"\n",
    "sparse_autoencoder = SparseAutoencoder.load_from_pretrained(path)\n",
    "\n",
    "print(sparse_autoencoder.cfg)\n",
    "\n",
    "\n",
    "# sanity check\n",
    "text = \"Many important transition points in the history of science have been moments when science 'zoomed in.' At these points, we develop a visualization or tool that allows us to see the world in a new level of detail, and a new field of science develops to study the world through this lens.\"\n",
    "model(text, return_type=\"loss\")"
   ]
  },
  {
   "cell_type": "markdown",
   "metadata": {},
   "source": [
    "# Dev / Single Example"
   ]
  },
  {
   "cell_type": "code",
   "execution_count": 2,
   "metadata": {},
   "outputs": [
    {
     "name": "stdout",
     "output_type": "stream",
     "text": [
      "Tokenized prompt: ['<|endoftext|>', 'When', ' John', ' and', ' Mary', ' went', ' to', ' the', ' shops', ',', ' John', ' gave', ' the', ' shopping', ' to']\n",
      "Tokenized answer: [' Mary']\n"
     ]
    },
    {
     "data": {
      "text/html": [
       "<pre style=\"white-space:pre;overflow-x:auto;line-height:normal;font-family:Menlo,'DejaVu Sans Mono',consolas,'Courier New',monospace\">Performance on answer token:\n",
       "<span style=\"font-weight: bold\">Rank: </span><span style=\"color: #008080; text-decoration-color: #008080; font-weight: bold\">0</span><span style=\"font-weight: bold\">        Logit: </span><span style=\"color: #008080; text-decoration-color: #008080; font-weight: bold\">17.14</span><span style=\"font-weight: bold\"> Prob: </span><span style=\"color: #008080; text-decoration-color: #008080; font-weight: bold\">56.14</span><span style=\"font-weight: bold\">% Token: | Mary|</span>\n",
       "</pre>\n"
      ],
      "text/plain": [
       "Performance on answer token:\n",
       "\u001b[1mRank: \u001b[0m\u001b[1;36m0\u001b[0m\u001b[1m        Logit: \u001b[0m\u001b[1;36m17.14\u001b[0m\u001b[1m Prob: \u001b[0m\u001b[1;36m56.14\u001b[0m\u001b[1m% Token: | Mary|\u001b[0m\n"
      ]
     },
     "metadata": {},
     "output_type": "display_data"
    },
    {
     "name": "stdout",
     "output_type": "stream",
     "text": [
      "Top 0th token. Logit: 17.14 Prob: 56.14% Token: | Mary|\n",
      "Top 1th token. Logit: 15.31 Prob:  9.02% Token: | the|\n",
      "Top 2th token. Logit: 14.84 Prob:  5.66% Token: | them|\n",
      "Top 3th token. Logit: 14.63 Prob:  4.57% Token: | his|\n",
      "Top 4th token. Logit: 14.16 Prob:  2.87% Token: | John|\n",
      "Top 5th token. Logit: 13.95 Prob:  2.33% Token: | a|\n",
      "Top 6th token. Logit: 13.52 Prob:  1.51% Token: | their|\n",
      "Top 7th token. Logit: 13.05 Prob:  0.94% Token: | her|\n",
      "Top 8th token. Logit: 13.00 Prob:  0.90% Token: | Mrs|\n",
      "Top 9th token. Logit: 12.67 Prob:  0.64% Token: | him|\n"
     ]
    },
    {
     "data": {
      "text/html": [
       "<pre style=\"white-space:pre;overflow-x:auto;line-height:normal;font-family:Menlo,'DejaVu Sans Mono',consolas,'Courier New',monospace\"><span style=\"font-weight: bold\">Ranks of the answer tokens:</span> <span style=\"font-weight: bold\">[(</span><span style=\"color: #008000; text-decoration-color: #008000\">' Mary'</span>, <span style=\"color: #008080; text-decoration-color: #008080; font-weight: bold\">0</span><span style=\"font-weight: bold\">)]</span>\n",
       "</pre>\n"
      ],
      "text/plain": [
       "\u001b[1mRanks of the answer tokens:\u001b[0m \u001b[1m[\u001b[0m\u001b[1m(\u001b[0m\u001b[32m' Mary'\u001b[0m, \u001b[1;36m0\u001b[0m\u001b[1m)\u001b[0m\u001b[1m]\u001b[0m\n"
      ]
     },
     "metadata": {},
     "output_type": "display_data"
    },
    {
     "name": "stdout",
     "output_type": "stream",
     "text": [
      "Tokenized prompt: ['<|endoftext|>', 'When', ' John', ' and', ' Mary', ' went', ' to', ' the', ' shops', ',', ' John', ' gave', ' the', ' shopping', ' to']\n",
      "Tokenized answer: [' Mary']\n",
      "10 blocks.10.attn.hook_z\n"
     ]
    },
    {
     "data": {
      "text/html": [
       "<pre style=\"white-space:pre;overflow-x:auto;line-height:normal;font-family:Menlo,'DejaVu Sans Mono',consolas,'Courier New',monospace\">Performance on answer token:\n",
       "<span style=\"font-weight: bold\">Rank: </span><span style=\"color: #008080; text-decoration-color: #008080; font-weight: bold\">0</span><span style=\"font-weight: bold\">        Logit: </span><span style=\"color: #008080; text-decoration-color: #008080; font-weight: bold\">18.16</span><span style=\"font-weight: bold\"> Prob: </span><span style=\"color: #008080; text-decoration-color: #008080; font-weight: bold\">77.44</span><span style=\"font-weight: bold\">% Token: | Mary|</span>\n",
       "</pre>\n"
      ],
      "text/plain": [
       "Performance on answer token:\n",
       "\u001b[1mRank: \u001b[0m\u001b[1;36m0\u001b[0m\u001b[1m        Logit: \u001b[0m\u001b[1;36m18.16\u001b[0m\u001b[1m Prob: \u001b[0m\u001b[1;36m77.44\u001b[0m\u001b[1m% Token: | Mary|\u001b[0m\n"
      ]
     },
     "metadata": {},
     "output_type": "display_data"
    },
    {
     "name": "stdout",
     "output_type": "stream",
     "text": [
      "Top 0th token. Logit: 18.16 Prob: 77.44% Token: | Mary|\n",
      "Top 1th token. Logit: 15.41 Prob:  4.93% Token: | the|\n",
      "Top 2th token. Logit: 14.74 Prob:  2.54% Token: | his|\n",
      "Top 3th token. Logit: 14.65 Prob:  2.32% Token: | them|\n",
      "Top 4th token. Logit: 14.13 Prob:  1.37% Token: | a|\n",
      "Top 5th token. Logit: 13.90 Prob:  1.09% Token: | John|\n",
      "Top 6th token. Logit: 13.64 Prob:  0.84% Token: | their|\n",
      "Top 7th token. Logit: 13.57 Prob:  0.79% Token: | Mrs|\n",
      "Top 8th token. Logit: 13.16 Prob:  0.52% Token: | her|\n",
      "Top 9th token. Logit: 12.74 Prob:  0.34% Token: | one|\n"
     ]
    },
    {
     "data": {
      "text/html": [
       "<pre style=\"white-space:pre;overflow-x:auto;line-height:normal;font-family:Menlo,'DejaVu Sans Mono',consolas,'Courier New',monospace\"><span style=\"font-weight: bold\">Ranks of the answer tokens:</span> <span style=\"font-weight: bold\">[(</span><span style=\"color: #008000; text-decoration-color: #008000\">' Mary'</span>, <span style=\"color: #008080; text-decoration-color: #008080; font-weight: bold\">0</span><span style=\"font-weight: bold\">)]</span>\n",
       "</pre>\n"
      ],
      "text/plain": [
       "\u001b[1mRanks of the answer tokens:\u001b[0m \u001b[1m[\u001b[0m\u001b[1m(\u001b[0m\u001b[32m' Mary'\u001b[0m, \u001b[1;36m0\u001b[0m\u001b[1m)\u001b[0m\u001b[1m]\u001b[0m\n"
      ]
     },
     "metadata": {},
     "output_type": "display_data"
    }
   ],
   "source": [
    "prompt = \"When John and Mary went to the shops, John gave the shopping to\"\n",
    "answer = \" Mary\"\n",
    "# prompt = \"All's fair in love and\"\n",
    "# answer = \" war\"\n",
    "# prompt = \" The cat is cute. The dog is\"\n",
    "# prompt = \" Alice, with her keen intelligence and artistic talent, discussed philosophy with Bob, who shared her intellect and also possessed remarkable culinary skills, while\"\n",
    "# answer = \" cute\"\n",
    "model.reset_hooks()\n",
    "utils.test_prompt(prompt, answer, model)\n",
    "\n",
    "HEAD_HOOK_RESULT_NAME = \"blocks.10.attn.hook_z\"\n",
    "LAYER_IDX = sparse_autoencoder.cfg.hook_point_layer\n",
    "HEAD_IDX = 7\n",
    "def hook_to_ablate_head(head_output: Float[Tensor, \"batch seq_len head_idx d_head\"], hook: HookPoint, head = (LAYER_IDX, HEAD_IDX)):\n",
    "    print(hook.layer(), hook.name)\n",
    "    assert head[0] == hook.layer(), f\"{head[0]} != {hook.layer()}\"\n",
    "    assert (\"result\" in hook.name) or (\"q\" in hook.name) or (\"z\" in hook.name)\n",
    "    head_output[:, :, head[1], :] = 0\n",
    "    return head_output\n",
    "\n",
    "with model.hooks(fwd_hooks=[(HEAD_HOOK_RESULT_NAME, hook_to_ablate_head)]):\n",
    "    utils.test_prompt(prompt, answer, model)"
   ]
  },
  {
   "cell_type": "code",
   "execution_count": 3,
   "metadata": {},
   "outputs": [
    {
     "name": "stdout",
     "output_type": "stream",
     "text": [
      "Index(['str_tokens', 'unique_token', 'context', 'batch', 'pos', 'label',\n",
      "       'loss', 'max_idx_pos', 'max_idx_tok', 'max_idx_tok_value',\n",
      "       'top10_token_suppression_diffs', 'top10_token_suppression_inds',\n",
      "       'top10_token_boosting_vals', 'top10_token_boosting_inds',\n",
      "       'ablated_loss', 'loss_diff', 'q_norm', 'mse_loss', 'explained_variance',\n",
      "       'num_active_features', 'top_k_feature_acts', 'top_k_features',\n",
      "       'rec_q_norm', 'rec_q_max_idx_pos', 'rec_q_max_idx_tok',\n",
      "       'rec_q_max_idx_tok_value', 'kl_divergence'],\n",
      "      dtype='object')\n"
     ]
    },
    {
     "data": {
      "text/html": [
       "<style type=\"text/css\">\n",
       "#T_51f3d_row0_col7 {\n",
       "  background-color: #cf453c;\n",
       "  color: #f1f1f1;\n",
       "}\n",
       "#T_51f3d_row0_col8, #T_51f3d_row2_col11 {\n",
       "  background-color: #ead5c9;\n",
       "  color: #000000;\n",
       "}\n",
       "#T_51f3d_row0_col9 {\n",
       "  background-color: #7396f5;\n",
       "  color: #f1f1f1;\n",
       "}\n",
       "#T_51f3d_row0_col10 {\n",
       "  background-color: #ba162b;\n",
       "  color: #f1f1f1;\n",
       "}\n",
       "#T_51f3d_row0_col11, #T_51f3d_row1_col7, #T_51f3d_row3_col8, #T_51f3d_row3_col9, #T_51f3d_row3_col10 {\n",
       "  background-color: #b40426;\n",
       "  color: #f1f1f1;\n",
       "}\n",
       "#T_51f3d_row1_col8 {\n",
       "  background-color: #465ecf;\n",
       "  color: #f1f1f1;\n",
       "}\n",
       "#T_51f3d_row1_col9 {\n",
       "  background-color: #bad0f8;\n",
       "  color: #000000;\n",
       "}\n",
       "#T_51f3d_row1_col10 {\n",
       "  background-color: #80a3fa;\n",
       "  color: #f1f1f1;\n",
       "}\n",
       "#T_51f3d_row1_col11 {\n",
       "  background-color: #3c4ec2;\n",
       "  color: #f1f1f1;\n",
       "}\n",
       "#T_51f3d_row2_col7 {\n",
       "  background-color: #96b7ff;\n",
       "  color: #000000;\n",
       "}\n",
       "#T_51f3d_row2_col8, #T_51f3d_row2_col9, #T_51f3d_row2_col10, #T_51f3d_row3_col7, #T_51f3d_row4_col11 {\n",
       "  background-color: #3b4cc0;\n",
       "  color: #f1f1f1;\n",
       "}\n",
       "#T_51f3d_row3_col11 {\n",
       "  background-color: #5875e1;\n",
       "  color: #f1f1f1;\n",
       "}\n",
       "#T_51f3d_row4_col7 {\n",
       "  background-color: #000000;\n",
       "  color: #f1f1f1;\n",
       "}\n",
       "#T_51f3d_row4_col8 {\n",
       "  background-color: #445acc;\n",
       "  color: #f1f1f1;\n",
       "}\n",
       "#T_51f3d_row4_col9 {\n",
       "  background-color: #9dbdff;\n",
       "  color: #000000;\n",
       "}\n",
       "#T_51f3d_row4_col10 {\n",
       "  background-color: #ebd3c6;\n",
       "  color: #000000;\n",
       "}\n",
       "</style>\n",
       "<table id=\"T_51f3d\">\n",
       "  <thead>\n",
       "    <tr>\n",
       "      <th class=\"blank level0\" >&nbsp;</th>\n",
       "      <th id=\"T_51f3d_level0_col0\" class=\"col_heading level0 col0\" >str_tokens</th>\n",
       "      <th id=\"T_51f3d_level0_col1\" class=\"col_heading level0 col1\" >unique_token</th>\n",
       "      <th id=\"T_51f3d_level0_col2\" class=\"col_heading level0 col2\" >context</th>\n",
       "      <th id=\"T_51f3d_level0_col3\" class=\"col_heading level0 col3\" >batch</th>\n",
       "      <th id=\"T_51f3d_level0_col4\" class=\"col_heading level0 col4\" >pos</th>\n",
       "      <th id=\"T_51f3d_level0_col5\" class=\"col_heading level0 col5\" >label</th>\n",
       "      <th id=\"T_51f3d_level0_col6\" class=\"col_heading level0 col6\" >loss</th>\n",
       "      <th id=\"T_51f3d_level0_col7\" class=\"col_heading level0 col7\" >loss_diff</th>\n",
       "      <th id=\"T_51f3d_level0_col8\" class=\"col_heading level0 col8\" >mse_loss</th>\n",
       "      <th id=\"T_51f3d_level0_col9\" class=\"col_heading level0 col9\" >num_active_features</th>\n",
       "      <th id=\"T_51f3d_level0_col10\" class=\"col_heading level0 col10\" >explained_variance</th>\n",
       "      <th id=\"T_51f3d_level0_col11\" class=\"col_heading level0 col11\" >kl_divergence</th>\n",
       "      <th id=\"T_51f3d_level0_col12\" class=\"col_heading level0 col12\" >top_k_features</th>\n",
       "    </tr>\n",
       "  </thead>\n",
       "  <tbody>\n",
       "    <tr>\n",
       "      <th id=\"T_51f3d_level0_row0\" class=\"row_heading level0 row0\" >11</th>\n",
       "      <td id=\"T_51f3d_row0_col0\" class=\"data row0 col0\" > gave</td>\n",
       "      <td id=\"T_51f3d_row0_col1\" class=\"data row0 col1\" > gave/11</td>\n",
       "      <td id=\"T_51f3d_row0_col2\" class=\"data row0 col2\" >When John and Mary went to the shops, John| gave| the shopping to</td>\n",
       "      <td id=\"T_51f3d_row0_col3\" class=\"data row0 col3\" >0</td>\n",
       "      <td id=\"T_51f3d_row0_col4\" class=\"data row0 col4\" >11</td>\n",
       "      <td id=\"T_51f3d_row0_col5\" class=\"data row0 col5\" >0/11</td>\n",
       "      <td id=\"T_51f3d_row0_col6\" class=\"data row0 col6\" >3.476187</td>\n",
       "      <td id=\"T_51f3d_row0_col7\" class=\"data row0 col7\" >0.126164</td>\n",
       "      <td id=\"T_51f3d_row0_col8\" class=\"data row0 col8\" >22.452089</td>\n",
       "      <td id=\"T_51f3d_row0_col9\" class=\"data row0 col9\" >38</td>\n",
       "      <td id=\"T_51f3d_row0_col10\" class=\"data row0 col10\" >0.270080</td>\n",
       "      <td id=\"T_51f3d_row0_col11\" class=\"data row0 col11\" >0.526287</td>\n",
       "      <td id=\"T_51f3d_row0_col12\" class=\"data row0 col12\" >[35673, 1939, 45922, 36909, 32450, 21919, 44798, 39643, 14627, 43476]</td>\n",
       "    </tr>\n",
       "    <tr>\n",
       "      <th id=\"T_51f3d_level0_row1\" class=\"row_heading level0 row1\" >12</th>\n",
       "      <td id=\"T_51f3d_row1_col0\" class=\"data row1 col0\" > the</td>\n",
       "      <td id=\"T_51f3d_row1_col1\" class=\"data row1 col1\" > the/12</td>\n",
       "      <td id=\"T_51f3d_row1_col2\" class=\"data row1 col2\" > John and Mary went to the shops, John gave| the| shopping to</td>\n",
       "      <td id=\"T_51f3d_row1_col3\" class=\"data row1 col3\" >0</td>\n",
       "      <td id=\"T_51f3d_row1_col4\" class=\"data row1 col4\" >12</td>\n",
       "      <td id=\"T_51f3d_row1_col5\" class=\"data row1 col5\" >0/12</td>\n",
       "      <td id=\"T_51f3d_row1_col6\" class=\"data row1 col6\" >7.273290</td>\n",
       "      <td id=\"T_51f3d_row1_col7\" class=\"data row1 col7\" >0.163245</td>\n",
       "      <td id=\"T_51f3d_row1_col8\" class=\"data row1 col8\" >11.994833</td>\n",
       "      <td id=\"T_51f3d_row1_col9\" class=\"data row1 col9\" >45</td>\n",
       "      <td id=\"T_51f3d_row1_col10\" class=\"data row1 col10\" >0.164662</td>\n",
       "      <td id=\"T_51f3d_row1_col11\" class=\"data row1 col11\" >0.096691</td>\n",
       "      <td id=\"T_51f3d_row1_col12\" class=\"data row1 col12\" >[11954, 11469, 46367, 6539, 14627, 24249, 48146, 35985, 29653, 44035]</td>\n",
       "    </tr>\n",
       "    <tr>\n",
       "      <th id=\"T_51f3d_level0_row2\" class=\"row_heading level0 row2\" >13</th>\n",
       "      <td id=\"T_51f3d_row2_col0\" class=\"data row2 col0\" > shopping</td>\n",
       "      <td id=\"T_51f3d_row2_col1\" class=\"data row2 col1\" > shopping/13</td>\n",
       "      <td id=\"T_51f3d_row2_col2\" class=\"data row2 col2\" > and Mary went to the shops, John gave the| shopping| to</td>\n",
       "      <td id=\"T_51f3d_row2_col3\" class=\"data row2 col3\" >0</td>\n",
       "      <td id=\"T_51f3d_row2_col4\" class=\"data row2 col4\" >13</td>\n",
       "      <td id=\"T_51f3d_row2_col5\" class=\"data row2 col5\" >0/13</td>\n",
       "      <td id=\"T_51f3d_row2_col6\" class=\"data row2 col6\" >3.092983</td>\n",
       "      <td id=\"T_51f3d_row2_col7\" class=\"data row2 col7\" >-0.187298</td>\n",
       "      <td id=\"T_51f3d_row2_col8\" class=\"data row2 col8\" >11.127281</td>\n",
       "      <td id=\"T_51f3d_row2_col9\" class=\"data row2 col9\" >32</td>\n",
       "      <td id=\"T_51f3d_row2_col10\" class=\"data row2 col10\" >0.135237</td>\n",
       "      <td id=\"T_51f3d_row2_col11\" class=\"data row2 col11\" >0.334008</td>\n",
       "      <td id=\"T_51f3d_row2_col12\" class=\"data row2 col12\" >[37096, 28684, 46367, 17758, 14831, 14627, 35647, 12507, 45134, 15784]</td>\n",
       "    </tr>\n",
       "    <tr>\n",
       "      <th id=\"T_51f3d_level0_row3\" class=\"row_heading level0 row3\" >14</th>\n",
       "      <td id=\"T_51f3d_row3_col0\" class=\"data row3 col0\" > to</td>\n",
       "      <td id=\"T_51f3d_row3_col1\" class=\"data row3 col1\" > to/14</td>\n",
       "      <td id=\"T_51f3d_row3_col2\" class=\"data row3 col2\" > Mary went to the shops, John gave the shopping| to|</td>\n",
       "      <td id=\"T_51f3d_row3_col3\" class=\"data row3 col3\" >0</td>\n",
       "      <td id=\"T_51f3d_row3_col4\" class=\"data row3 col4\" >14</td>\n",
       "      <td id=\"T_51f3d_row3_col5\" class=\"data row3 col5\" >0/14</td>\n",
       "      <td id=\"T_51f3d_row3_col6\" class=\"data row3 col6\" >0.577237</td>\n",
       "      <td id=\"T_51f3d_row3_col7\" class=\"data row3 col7\" >-0.321540</td>\n",
       "      <td id=\"T_51f3d_row3_col8\" class=\"data row3 col8\" >31.568396</td>\n",
       "      <td id=\"T_51f3d_row3_col9\" class=\"data row3 col9\" >66</td>\n",
       "      <td id=\"T_51f3d_row3_col10\" class=\"data row3 col10\" >0.272350</td>\n",
       "      <td id=\"T_51f3d_row3_col11\" class=\"data row3 col11\" >0.136082</td>\n",
       "      <td id=\"T_51f3d_row3_col12\" class=\"data row3 col12\" >[33598, 44798, 12731, 43458, 14627, 43476, 15373, 39643, 6687, 34620]</td>\n",
       "    </tr>\n",
       "    <tr>\n",
       "      <th id=\"T_51f3d_level0_row4\" class=\"row_heading level0 row4\" >15</th>\n",
       "      <td id=\"T_51f3d_row4_col0\" class=\"data row4 col0\" > Mary</td>\n",
       "      <td id=\"T_51f3d_row4_col1\" class=\"data row4 col1\" > Mary/15</td>\n",
       "      <td id=\"T_51f3d_row4_col2\" class=\"data row4 col2\" > went to the shops, John gave the shopping to| Mary|</td>\n",
       "      <td id=\"T_51f3d_row4_col3\" class=\"data row4 col3\" >0</td>\n",
       "      <td id=\"T_51f3d_row4_col4\" class=\"data row4 col4\" >15</td>\n",
       "      <td id=\"T_51f3d_row4_col5\" class=\"data row4 col5\" >0/15</td>\n",
       "      <td id=\"T_51f3d_row4_col6\" class=\"data row4 col6\" >nan</td>\n",
       "      <td id=\"T_51f3d_row4_col7\" class=\"data row4 col7\" >nan</td>\n",
       "      <td id=\"T_51f3d_row4_col8\" class=\"data row4 col8\" >11.835375</td>\n",
       "      <td id=\"T_51f3d_row4_col9\" class=\"data row4 col9\" >42</td>\n",
       "      <td id=\"T_51f3d_row4_col10\" class=\"data row4 col10\" >0.212053</td>\n",
       "      <td id=\"T_51f3d_row4_col11\" class=\"data row4 col11\" >0.094641</td>\n",
       "      <td id=\"T_51f3d_row4_col12\" class=\"data row4 col12\" >[6259, 9102, 10193, 23577, 20694, 48777, 13567, 37815, 25066, 4511]</td>\n",
       "    </tr>\n",
       "  </tbody>\n",
       "</table>\n"
      ],
      "text/plain": [
       "<pandas.io.formats.style.Styler at 0x3d43d5710>"
      ]
     },
     "execution_count": 3,
     "metadata": {},
     "output_type": "execute_result"
    }
   ],
   "source": [
    "import joseph\n",
    "reload(joseph.analysis)\n",
    "from joseph.analysis import *\n",
    "\n",
    "\n",
    "token_df, original_cache, cache_reconstructed_query, feature_acts = eval_prompt([prompt + answer], model, sparse_autoencoder, head_idx_override=7)\n",
    "print(token_df.columns)\n",
    "filter_cols = [\"str_tokens\", \"unique_token\", \"context\", \"batch\", \"pos\", \"label\", \"loss\", \"loss_diff\", \"mse_loss\", \"num_active_features\", \"explained_variance\", \"kl_divergence\",\n",
    "               \"top_k_features\"]\n",
    "token_df[filter_cols].tail().style.background_gradient(\n",
    "    subset=[\"loss_diff\", \"mse_loss\",\"explained_variance\", \"num_active_features\", \"kl_divergence\"],\n",
    "    cmap=\"coolwarm\")\n"
   ]
  },
  {
   "cell_type": "code",
   "execution_count": 6,
   "metadata": {},
   "outputs": [
    {
     "name": "stdout",
     "output_type": "stream",
     "text": [
      "torch.Size([16, 64])\n"
     ]
    }
   ],
   "source": [
    "def get_max_attn_key(cache, token_df, layer_idx, head_idx):\n",
    "    '''\n",
    "    Given some cache and token_df, return a tensor with the key vectors\n",
    "    which were most attended to by the head.\n",
    "    \n",
    "    '''\n",
    "    keys = cache[utils.get_act_name(\"k\",layer_idx)][:, :, head_idx, :].cpu()\n",
    "    pos = torch.tensor(token_df[\"max_idx_pos\"].values, dtype=torch.long)\n",
    "    keys = keys[0, pos, :]\n",
    "    return keys\n",
    "\n",
    "keys = get_max_attn_key(original_cache, token_df, 10, 7)\n",
    "print(keys.shape)"
   ]
  },
  {
   "cell_type": "code",
   "execution_count": 7,
   "metadata": {},
   "outputs": [
    {
     "data": {
      "application/vnd.plotly.v1+json": {
       "config": {
        "plotlyServerURL": "https://plotly.com"
       },
       "data": [
        {
         "coloraxis": "coloraxis",
         "hovertemplate": "x: %{x}<br>y: %{y}<br>color: %{z}<extra></extra>",
         "name": "0",
         "texttemplate": "%{z:.2f}",
         "type": "heatmap",
         "xaxis": "x",
         "yaxis": "y",
         "z": [
          [
           1.5206553936004639,
           null,
           null,
           null,
           null,
           null,
           null,
           null,
           null,
           null,
           null,
           null,
           null,
           null,
           null,
           null
          ],
          [
           2.4115653038024902,
           -0.8445412516593933,
           null,
           null,
           null,
           null,
           null,
           null,
           null,
           null,
           null,
           null,
           null,
           null,
           null,
           null
          ],
          [
           3.3542985916137695,
           -2.2821786403656006,
           -0.6035897731781006,
           null,
           null,
           null,
           null,
           null,
           null,
           null,
           null,
           null,
           null,
           null,
           null,
           null
          ],
          [
           3.243211269378662,
           -1.743821144104004,
           0.8681350350379944,
           0.1339104175567627,
           null,
           null,
           null,
           null,
           null,
           null,
           null,
           null,
           null,
           null,
           null,
           null
          ],
          [
           2.9748520851135254,
           -0.9494980573654175,
           -0.8610042929649353,
           0.19511787593364716,
           -0.24156907200813293,
           null,
           null,
           null,
           null,
           null,
           null,
           null,
           null,
           null,
           null,
           null
          ],
          [
           3.375486373901367,
           -2.244469404220581,
           -4.629362106323242,
           -2.0267436504364014,
           -4.430408477783203,
           -0.4615838825702667,
           null,
           null,
           null,
           null,
           null,
           null,
           null,
           null,
           null,
           null
          ],
          [
           2.70326566696167,
           -2.0424423217773438,
           -1.460326910018921,
           -0.22968825697898865,
           -0.4325571060180664,
           -0.15801498293876648,
           0.5951094627380371,
           null,
           null,
           null,
           null,
           null,
           null,
           null,
           null,
           null
          ],
          [
           2.4851832389831543,
           -2.011751651763916,
           -2.7783362865448,
           -0.5577609539031982,
           -1.6834912300109863,
           -2.228360414505005,
           0.0840124636888504,
           -0.6438209414482117,
           null,
           null,
           null,
           null,
           null,
           null,
           null,
           null
          ],
          [
           2.338196277618408,
           -1.4507560729980469,
           -3.1895148754119873,
           -1.3971279859542847,
           -2.9957656860351562,
           -1.8930200338363647,
           -0.9044234156608582,
           -2.0501272678375244,
           -0.1619211882352829,
           null,
           null,
           null,
           null,
           null,
           null,
           null
          ],
          [
           1.8393523693084717,
           -1.1870301961898804,
           1.3775620460510254,
           0.17379125952720642,
           1.8693604469299316,
           -1.7087526321411133,
           -0.9185526967048645,
           -1.3864134550094604,
           -1.2754247188568115,
           -0.3694226145744324,
           null,
           null,
           null,
           null,
           null,
           null
          ],
          [
           2.4515087604522705,
           -0.7144339084625244,
           -2.522062301635742,
           0.32211318612098694,
           -2.5382628440856934,
           -0.3436872959136963,
           -0.9869657158851624,
           -2.288285970687866,
           -2.9001665115356445,
           -0.25950708985328674,
           -1.553795337677002,
           null,
           null,
           null,
           null,
           null
          ],
          [
           1.6284419298171997,
           -0.8059229254722595,
           1.6907603740692139,
           -0.5397161245346069,
           2.7973005771636963,
           -1.823884129524231,
           -0.8837589025497437,
           -1.2818795442581177,
           -3.081923484802246,
           -0.3239453434944153,
           1.834188461303711,
           0.2902972996234894,
           null,
           null,
           null,
           null
          ],
          [
           1.851014494895935,
           -1.8792115449905396,
           -0.7009276747703552,
           0.3733953535556793,
           -0.26559165120124817,
           -2.0525121688842773,
           -0.6969172358512878,
           -0.825620174407959,
           0.7972451448440552,
           -0.7445257306098938,
           -0.6292338371276855,
           -0.6967276930809021,
           0.5216885209083557,
           null,
           null,
           null
          ],
          [
           2.555361270904541,
           -2.9094607830047607,
           -4.4397735595703125,
           -1.7858951091766357,
           -4.279087066650391,
           -2.5051093101501465,
           -1.526135802268982,
           -1.8610645532608032,
           1.1039142608642578,
           -1.2239718437194824,
           -4.03829288482666,
           -2.842700242996216,
           -1.5457820892333984,
           -0.40530896186828613,
           null,
           null
          ],
          [
           1.9166232347488403,
           -1.1015901565551758,
           2.393794298171997,
           0.40395474433898926,
           4.9658203125,
           -2.260735034942627,
           -0.2970500588417053,
           -0.34221842885017395,
           -2.7912235260009766,
           -0.16590790450572968,
           2.208343982696533,
           -1.045959711074829,
           1.1169720888137817,
           -3.054405450820923,
           0.7778357863426208,
           null
          ],
          [
           2.118572473526001,
           -1.2863285541534424,
           -1.793250322341919,
           -0.8846166133880615,
           -1.9270344972610474,
           -1.9210894107818604,
           -1.9630794525146484,
           -2.548590660095215,
           -3.1075315475463867,
           -1.1658755540847778,
           -1.3756234645843506,
           -1.148781657218933,
           -1.331607699394226,
           -3.7352194786071777,
           -0.7883329391479492,
           -1.7600977420806885
          ]
         ]
        },
        {
         "coloraxis": "coloraxis",
         "hovertemplate": "x: %{x}<br>y: %{y}<br>color: %{z}<extra></extra>",
         "name": "1",
         "texttemplate": "%{z:.2f}",
         "type": "heatmap",
         "xaxis": "x2",
         "yaxis": "y2",
         "z": [
          [
           1.520782709121704,
           null,
           null,
           null,
           null,
           null,
           null,
           null,
           null,
           null,
           null,
           null,
           null,
           null,
           null,
           null
          ],
          [
           2.446986198425293,
           -1.1157017946243286,
           null,
           null,
           null,
           null,
           null,
           null,
           null,
           null,
           null,
           null,
           null,
           null,
           null,
           null
          ],
          [
           3.4452755451202393,
           -2.1064212322235107,
           -0.7966252565383911,
           null,
           null,
           null,
           null,
           null,
           null,
           null,
           null,
           null,
           null,
           null,
           null,
           null
          ],
          [
           3.1392695903778076,
           -1.7699347734451294,
           0.7800865173339844,
           0.19934888184070587,
           null,
           null,
           null,
           null,
           null,
           null,
           null,
           null,
           null,
           null,
           null,
           null
          ],
          [
           3.1482434272766113,
           -1.217090368270874,
           -1.6049399375915527,
           -0.25016582012176514,
           -0.9409446120262146,
           null,
           null,
           null,
           null,
           null,
           null,
           null,
           null,
           null,
           null,
           null
          ],
          [
           3.3648521900177,
           -2.2575557231903076,
           -4.218812942504883,
           -1.9936939477920532,
           -3.9737155437469482,
           -0.9779526591300964,
           null,
           null,
           null,
           null,
           null,
           null,
           null,
           null,
           null,
           null
          ],
          [
           2.558173894882202,
           -1.8879714012145996,
           -1.7634471654891968,
           -0.6470458507537842,
           -0.8156612515449524,
           -0.8116812109947205,
           0.204802006483078,
           null,
           null,
           null,
           null,
           null,
           null,
           null,
           null,
           null
          ],
          [
           2.622368335723877,
           -2.0724599361419678,
           -3.5414774417877197,
           -1.2176645994186401,
           -2.701063394546509,
           -2.5169806480407715,
           -0.06464240700006485,
           -0.8576387763023376,
           null,
           null,
           null,
           null,
           null,
           null,
           null,
           null
          ],
          [
           2.654777765274048,
           -1.6451383829116821,
           -3.9058218002319336,
           -1.672646403312683,
           -3.7038886547088623,
           -2.7160396575927734,
           -1.3704696893692017,
           -2.281468629837036,
           -0.5874999165534973,
           null,
           null,
           null,
           null,
           null,
           null,
           null
          ],
          [
           2.031663417816162,
           -1.1169183254241943,
           -0.18437780439853668,
           0.593092143535614,
           0.8255094885826111,
           -2.2086713314056396,
           -1.3489636182785034,
           -1.5031213760375977,
           -1.3417078256607056,
           -0.4276125729084015,
           null,
           null,
           null,
           null,
           null,
           null
          ],
          [
           3.1918764114379883,
           -0.9564219117164612,
           -2.3044304847717285,
           0.10095556825399399,
           -2.7330386638641357,
           -1.0603278875350952,
           -1.5751985311508179,
           -2.65301775932312,
           -3.9822933673858643,
           -0.5251129865646362,
           -1.5914229154586792,
           null,
           null,
           null,
           null,
           null
          ],
          [
           2.2557480335235596,
           -1.3039761781692505,
           0.046276774257421494,
           -0.3017036020755768,
           0.8213589787483215,
           -3.001634359359741,
           -1.9036177396774292,
           -1.9168777465820312,
           -3.176785945892334,
           -0.6567555069923401,
           0.6783625483512878,
           -1.267536997795105,
           null,
           null,
           null,
           null
          ],
          [
           1.9624526500701904,
           -1.8605642318725586,
           -1.9318468570709229,
           -0.19620463252067566,
           -1.5992311239242554,
           -2.5856149196624756,
           -1.060153841972351,
           -1.0463509559631348,
           0.10774195194244385,
           -0.890493631362915,
           -1.8140705823898315,
           -1.3955837488174438,
           -0.00963749922811985,
           null,
           null,
           null
          ],
          [
           3.110651731491089,
           -2.9944400787353516,
           -5.973178863525391,
           -3.0341007709503174,
           -6.040956020355225,
           -3.9882678985595703,
           -2.454916477203369,
           -2.567379951477051,
           -0.7644517421722412,
           -1.7473528385162354,
           -5.606975078582764,
           -3.97271728515625,
           -2.7625458240509033,
           -2.4146323204040527,
           null,
           null
          ],
          [
           2.192223072052002,
           -1.731581449508667,
           2.0830516815185547,
           1.5134696960449219,
           4.002443313598633,
           -2.405486583709717,
           -0.5936785340309143,
           -0.6036695241928101,
           -1.9752681255340576,
           0.057707712054252625,
           2.5852572917938232,
           -1.7200474739074707,
           0.8581604957580566,
           -1.9828617572784424,
           0.9044084548950195,
           null
          ],
          [
           2.987400531768799,
           -1.1212795972824097,
           -1.6671701669692993,
           -0.4755195379257202,
           -1.1360433101654053,
           -2.590972900390625,
           -2.6527745723724365,
           -3.0143330097198486,
           -3.973114013671875,
           -1.2415035963058472,
           -1.2645272016525269,
           -1.6461317539215088,
           -1.8911170959472656,
           -5.0244574546813965,
           -1.2028268575668335,
           -1.0849472284317017
          ]
         ]
        }
       ],
       "layout": {
        "annotations": [
         {
          "font": {
           "size": 20
          },
          "showarrow": false,
          "text": "Original",
          "x": 0.245,
          "xanchor": "center",
          "xref": "paper",
          "y": 1,
          "yanchor": "bottom",
          "yref": "paper"
         },
         {
          "font": {
           "size": 20
          },
          "showarrow": false,
          "text": "Reconstructed",
          "x": 0.755,
          "xanchor": "center",
          "xref": "paper",
          "y": 1,
          "yanchor": "bottom",
          "yref": "paper"
         }
        ],
        "coloraxis": {
         "cmid": 0,
         "colorscale": [
          [
           0,
           "rgb(103,0,31)"
          ],
          [
           0.1,
           "rgb(178,24,43)"
          ],
          [
           0.2,
           "rgb(214,96,77)"
          ],
          [
           0.3,
           "rgb(244,165,130)"
          ],
          [
           0.4,
           "rgb(253,219,199)"
          ],
          [
           0.5,
           "rgb(247,247,247)"
          ],
          [
           0.6,
           "rgb(209,229,240)"
          ],
          [
           0.7,
           "rgb(146,197,222)"
          ],
          [
           0.8,
           "rgb(67,147,195)"
          ],
          [
           0.9,
           "rgb(33,102,172)"
          ],
          [
           1,
           "rgb(5,48,97)"
          ]
         ]
        },
        "height": 800,
        "template": {
         "data": {
          "bar": [
           {
            "error_x": {
             "color": "#2a3f5f"
            },
            "error_y": {
             "color": "#2a3f5f"
            },
            "marker": {
             "line": {
              "color": "#E5ECF6",
              "width": 0.5
             },
             "pattern": {
              "fillmode": "overlay",
              "size": 10,
              "solidity": 0.2
             }
            },
            "type": "bar"
           }
          ],
          "barpolar": [
           {
            "marker": {
             "line": {
              "color": "#E5ECF6",
              "width": 0.5
             },
             "pattern": {
              "fillmode": "overlay",
              "size": 10,
              "solidity": 0.2
             }
            },
            "type": "barpolar"
           }
          ],
          "carpet": [
           {
            "aaxis": {
             "endlinecolor": "#2a3f5f",
             "gridcolor": "white",
             "linecolor": "white",
             "minorgridcolor": "white",
             "startlinecolor": "#2a3f5f"
            },
            "baxis": {
             "endlinecolor": "#2a3f5f",
             "gridcolor": "white",
             "linecolor": "white",
             "minorgridcolor": "white",
             "startlinecolor": "#2a3f5f"
            },
            "type": "carpet"
           }
          ],
          "choropleth": [
           {
            "colorbar": {
             "outlinewidth": 0,
             "ticks": ""
            },
            "type": "choropleth"
           }
          ],
          "contour": [
           {
            "colorbar": {
             "outlinewidth": 0,
             "ticks": ""
            },
            "colorscale": [
             [
              0,
              "#0d0887"
             ],
             [
              0.1111111111111111,
              "#46039f"
             ],
             [
              0.2222222222222222,
              "#7201a8"
             ],
             [
              0.3333333333333333,
              "#9c179e"
             ],
             [
              0.4444444444444444,
              "#bd3786"
             ],
             [
              0.5555555555555556,
              "#d8576b"
             ],
             [
              0.6666666666666666,
              "#ed7953"
             ],
             [
              0.7777777777777778,
              "#fb9f3a"
             ],
             [
              0.8888888888888888,
              "#fdca26"
             ],
             [
              1,
              "#f0f921"
             ]
            ],
            "type": "contour"
           }
          ],
          "contourcarpet": [
           {
            "colorbar": {
             "outlinewidth": 0,
             "ticks": ""
            },
            "type": "contourcarpet"
           }
          ],
          "heatmap": [
           {
            "colorbar": {
             "outlinewidth": 0,
             "ticks": ""
            },
            "colorscale": [
             [
              0,
              "#0d0887"
             ],
             [
              0.1111111111111111,
              "#46039f"
             ],
             [
              0.2222222222222222,
              "#7201a8"
             ],
             [
              0.3333333333333333,
              "#9c179e"
             ],
             [
              0.4444444444444444,
              "#bd3786"
             ],
             [
              0.5555555555555556,
              "#d8576b"
             ],
             [
              0.6666666666666666,
              "#ed7953"
             ],
             [
              0.7777777777777778,
              "#fb9f3a"
             ],
             [
              0.8888888888888888,
              "#fdca26"
             ],
             [
              1,
              "#f0f921"
             ]
            ],
            "type": "heatmap"
           }
          ],
          "heatmapgl": [
           {
            "colorbar": {
             "outlinewidth": 0,
             "ticks": ""
            },
            "colorscale": [
             [
              0,
              "#0d0887"
             ],
             [
              0.1111111111111111,
              "#46039f"
             ],
             [
              0.2222222222222222,
              "#7201a8"
             ],
             [
              0.3333333333333333,
              "#9c179e"
             ],
             [
              0.4444444444444444,
              "#bd3786"
             ],
             [
              0.5555555555555556,
              "#d8576b"
             ],
             [
              0.6666666666666666,
              "#ed7953"
             ],
             [
              0.7777777777777778,
              "#fb9f3a"
             ],
             [
              0.8888888888888888,
              "#fdca26"
             ],
             [
              1,
              "#f0f921"
             ]
            ],
            "type": "heatmapgl"
           }
          ],
          "histogram": [
           {
            "marker": {
             "pattern": {
              "fillmode": "overlay",
              "size": 10,
              "solidity": 0.2
             }
            },
            "type": "histogram"
           }
          ],
          "histogram2d": [
           {
            "colorbar": {
             "outlinewidth": 0,
             "ticks": ""
            },
            "colorscale": [
             [
              0,
              "#0d0887"
             ],
             [
              0.1111111111111111,
              "#46039f"
             ],
             [
              0.2222222222222222,
              "#7201a8"
             ],
             [
              0.3333333333333333,
              "#9c179e"
             ],
             [
              0.4444444444444444,
              "#bd3786"
             ],
             [
              0.5555555555555556,
              "#d8576b"
             ],
             [
              0.6666666666666666,
              "#ed7953"
             ],
             [
              0.7777777777777778,
              "#fb9f3a"
             ],
             [
              0.8888888888888888,
              "#fdca26"
             ],
             [
              1,
              "#f0f921"
             ]
            ],
            "type": "histogram2d"
           }
          ],
          "histogram2dcontour": [
           {
            "colorbar": {
             "outlinewidth": 0,
             "ticks": ""
            },
            "colorscale": [
             [
              0,
              "#0d0887"
             ],
             [
              0.1111111111111111,
              "#46039f"
             ],
             [
              0.2222222222222222,
              "#7201a8"
             ],
             [
              0.3333333333333333,
              "#9c179e"
             ],
             [
              0.4444444444444444,
              "#bd3786"
             ],
             [
              0.5555555555555556,
              "#d8576b"
             ],
             [
              0.6666666666666666,
              "#ed7953"
             ],
             [
              0.7777777777777778,
              "#fb9f3a"
             ],
             [
              0.8888888888888888,
              "#fdca26"
             ],
             [
              1,
              "#f0f921"
             ]
            ],
            "type": "histogram2dcontour"
           }
          ],
          "mesh3d": [
           {
            "colorbar": {
             "outlinewidth": 0,
             "ticks": ""
            },
            "type": "mesh3d"
           }
          ],
          "parcoords": [
           {
            "line": {
             "colorbar": {
              "outlinewidth": 0,
              "ticks": ""
             }
            },
            "type": "parcoords"
           }
          ],
          "pie": [
           {
            "automargin": true,
            "type": "pie"
           }
          ],
          "scatter": [
           {
            "fillpattern": {
             "fillmode": "overlay",
             "size": 10,
             "solidity": 0.2
            },
            "type": "scatter"
           }
          ],
          "scatter3d": [
           {
            "line": {
             "colorbar": {
              "outlinewidth": 0,
              "ticks": ""
             }
            },
            "marker": {
             "colorbar": {
              "outlinewidth": 0,
              "ticks": ""
             }
            },
            "type": "scatter3d"
           }
          ],
          "scattercarpet": [
           {
            "marker": {
             "colorbar": {
              "outlinewidth": 0,
              "ticks": ""
             }
            },
            "type": "scattercarpet"
           }
          ],
          "scattergeo": [
           {
            "marker": {
             "colorbar": {
              "outlinewidth": 0,
              "ticks": ""
             }
            },
            "type": "scattergeo"
           }
          ],
          "scattergl": [
           {
            "marker": {
             "colorbar": {
              "outlinewidth": 0,
              "ticks": ""
             }
            },
            "type": "scattergl"
           }
          ],
          "scattermapbox": [
           {
            "marker": {
             "colorbar": {
              "outlinewidth": 0,
              "ticks": ""
             }
            },
            "type": "scattermapbox"
           }
          ],
          "scatterpolar": [
           {
            "marker": {
             "colorbar": {
              "outlinewidth": 0,
              "ticks": ""
             }
            },
            "type": "scatterpolar"
           }
          ],
          "scatterpolargl": [
           {
            "marker": {
             "colorbar": {
              "outlinewidth": 0,
              "ticks": ""
             }
            },
            "type": "scatterpolargl"
           }
          ],
          "scatterternary": [
           {
            "marker": {
             "colorbar": {
              "outlinewidth": 0,
              "ticks": ""
             }
            },
            "type": "scatterternary"
           }
          ],
          "surface": [
           {
            "colorbar": {
             "outlinewidth": 0,
             "ticks": ""
            },
            "colorscale": [
             [
              0,
              "#0d0887"
             ],
             [
              0.1111111111111111,
              "#46039f"
             ],
             [
              0.2222222222222222,
              "#7201a8"
             ],
             [
              0.3333333333333333,
              "#9c179e"
             ],
             [
              0.4444444444444444,
              "#bd3786"
             ],
             [
              0.5555555555555556,
              "#d8576b"
             ],
             [
              0.6666666666666666,
              "#ed7953"
             ],
             [
              0.7777777777777778,
              "#fb9f3a"
             ],
             [
              0.8888888888888888,
              "#fdca26"
             ],
             [
              1,
              "#f0f921"
             ]
            ],
            "type": "surface"
           }
          ],
          "table": [
           {
            "cells": {
             "fill": {
              "color": "#EBF0F8"
             },
             "line": {
              "color": "white"
             }
            },
            "header": {
             "fill": {
              "color": "#C8D4E3"
             },
             "line": {
              "color": "white"
             }
            },
            "type": "table"
           }
          ]
         },
         "layout": {
          "annotationdefaults": {
           "arrowcolor": "#2a3f5f",
           "arrowhead": 0,
           "arrowwidth": 1
          },
          "autotypenumbers": "strict",
          "coloraxis": {
           "colorbar": {
            "outlinewidth": 0,
            "ticks": ""
           }
          },
          "colorscale": {
           "diverging": [
            [
             0,
             "#8e0152"
            ],
            [
             0.1,
             "#c51b7d"
            ],
            [
             0.2,
             "#de77ae"
            ],
            [
             0.3,
             "#f1b6da"
            ],
            [
             0.4,
             "#fde0ef"
            ],
            [
             0.5,
             "#f7f7f7"
            ],
            [
             0.6,
             "#e6f5d0"
            ],
            [
             0.7,
             "#b8e186"
            ],
            [
             0.8,
             "#7fbc41"
            ],
            [
             0.9,
             "#4d9221"
            ],
            [
             1,
             "#276419"
            ]
           ],
           "sequential": [
            [
             0,
             "#0d0887"
            ],
            [
             0.1111111111111111,
             "#46039f"
            ],
            [
             0.2222222222222222,
             "#7201a8"
            ],
            [
             0.3333333333333333,
             "#9c179e"
            ],
            [
             0.4444444444444444,
             "#bd3786"
            ],
            [
             0.5555555555555556,
             "#d8576b"
            ],
            [
             0.6666666666666666,
             "#ed7953"
            ],
            [
             0.7777777777777778,
             "#fb9f3a"
            ],
            [
             0.8888888888888888,
             "#fdca26"
            ],
            [
             1,
             "#f0f921"
            ]
           ],
           "sequentialminus": [
            [
             0,
             "#0d0887"
            ],
            [
             0.1111111111111111,
             "#46039f"
            ],
            [
             0.2222222222222222,
             "#7201a8"
            ],
            [
             0.3333333333333333,
             "#9c179e"
            ],
            [
             0.4444444444444444,
             "#bd3786"
            ],
            [
             0.5555555555555556,
             "#d8576b"
            ],
            [
             0.6666666666666666,
             "#ed7953"
            ],
            [
             0.7777777777777778,
             "#fb9f3a"
            ],
            [
             0.8888888888888888,
             "#fdca26"
            ],
            [
             1,
             "#f0f921"
            ]
           ]
          },
          "colorway": [
           "#636efa",
           "#EF553B",
           "#00cc96",
           "#ab63fa",
           "#FFA15A",
           "#19d3f3",
           "#FF6692",
           "#B6E880",
           "#FF97FF",
           "#FECB52"
          ],
          "font": {
           "color": "#2a3f5f"
          },
          "geo": {
           "bgcolor": "white",
           "lakecolor": "white",
           "landcolor": "#E5ECF6",
           "showlakes": true,
           "showland": true,
           "subunitcolor": "white"
          },
          "hoverlabel": {
           "align": "left"
          },
          "hovermode": "closest",
          "mapbox": {
           "style": "light"
          },
          "paper_bgcolor": "white",
          "plot_bgcolor": "#E5ECF6",
          "polar": {
           "angularaxis": {
            "gridcolor": "white",
            "linecolor": "white",
            "ticks": ""
           },
           "bgcolor": "#E5ECF6",
           "radialaxis": {
            "gridcolor": "white",
            "linecolor": "white",
            "ticks": ""
           }
          },
          "scene": {
           "xaxis": {
            "backgroundcolor": "#E5ECF6",
            "gridcolor": "white",
            "gridwidth": 2,
            "linecolor": "white",
            "showbackground": true,
            "ticks": "",
            "zerolinecolor": "white"
           },
           "yaxis": {
            "backgroundcolor": "#E5ECF6",
            "gridcolor": "white",
            "gridwidth": 2,
            "linecolor": "white",
            "showbackground": true,
            "ticks": "",
            "zerolinecolor": "white"
           },
           "zaxis": {
            "backgroundcolor": "#E5ECF6",
            "gridcolor": "white",
            "gridwidth": 2,
            "linecolor": "white",
            "showbackground": true,
            "ticks": "",
            "zerolinecolor": "white"
           }
          },
          "shapedefaults": {
           "line": {
            "color": "#2a3f5f"
           }
          },
          "ternary": {
           "aaxis": {
            "gridcolor": "white",
            "linecolor": "white",
            "ticks": ""
           },
           "baxis": {
            "gridcolor": "white",
            "linecolor": "white",
            "ticks": ""
           },
           "bgcolor": "#E5ECF6",
           "caxis": {
            "gridcolor": "white",
            "linecolor": "white",
            "ticks": ""
           }
          },
          "title": {
           "x": 0.05
          },
          "xaxis": {
           "automargin": true,
           "gridcolor": "white",
           "linecolor": "white",
           "ticks": "",
           "title": {
            "standoff": 15
           },
           "zerolinecolor": "white",
           "zerolinewidth": 2
          },
          "yaxis": {
           "automargin": true,
           "gridcolor": "white",
           "linecolor": "white",
           "ticks": "",
           "title": {
            "standoff": 15
           },
           "zerolinecolor": "white",
           "zerolinewidth": 2
          }
         }
        },
        "title": {
         "text": "Original and Reconstructed Attention Distribution"
        },
        "width": 1200,
        "xaxis": {
         "anchor": "y",
         "constrain": "domain",
         "domain": [
          0,
          0.49
         ],
         "scaleanchor": "y",
         "tickmode": "array",
         "ticktext": [
          "<|endoftext|>/0",
          "When/1",
          " John/2",
          " and/3",
          " Mary/4",
          " went/5",
          " to/6",
          " the/7",
          " shops/8",
          ",/9",
          " John/10",
          " gave/11",
          " the/12",
          " shopping/13",
          " to/14",
          " Mary/15"
         ],
         "tickvals": [
          0,
          1,
          2,
          3,
          4,
          5,
          6,
          7,
          8,
          9,
          10,
          11,
          12,
          13,
          14,
          15
         ]
        },
        "xaxis2": {
         "anchor": "y2",
         "domain": [
          0.51,
          1
         ],
         "matches": "x",
         "tickmode": "array",
         "ticktext": [
          "<|endoftext|>/0",
          "When/1",
          " John/2",
          " and/3",
          " Mary/4",
          " went/5",
          " to/6",
          " the/7",
          " shops/8",
          ",/9",
          " John/10",
          " gave/11",
          " the/12",
          " shopping/13",
          " to/14",
          " Mary/15"
         ],
         "tickvals": [
          0,
          1,
          2,
          3,
          4,
          5,
          6,
          7,
          8,
          9,
          10,
          11,
          12,
          13,
          14,
          15
         ]
        },
        "yaxis": {
         "anchor": "x",
         "autorange": "reversed",
         "constrain": "domain",
         "domain": [
          0,
          1
         ],
         "tickmode": "array",
         "ticktext": [
          "<|endoftext|>/0",
          "When/1",
          " John/2",
          " and/3",
          " Mary/4",
          " went/5",
          " to/6",
          " the/7",
          " shops/8",
          ",/9",
          " John/10",
          " gave/11",
          " the/12",
          " shopping/13",
          " to/14",
          " Mary/15"
         ],
         "tickvals": [
          0,
          1,
          2,
          3,
          4,
          5,
          6,
          7,
          8,
          9,
          10,
          11,
          12,
          13,
          14,
          15
         ]
        },
        "yaxis2": {
         "anchor": "x2",
         "domain": [
          0,
          1
         ],
         "matches": "y",
         "showticklabels": false,
         "tickmode": "array",
         "ticktext": [
          "<|endoftext|>/0",
          "When/1",
          " John/2",
          " and/3",
          " Mary/4",
          " went/5",
          " to/6",
          " the/7",
          " shops/8",
          ",/9",
          " John/10",
          " gave/11",
          " the/12",
          " shopping/13",
          " to/14",
          " Mary/15"
         ],
         "tickvals": [
          0,
          1,
          2,
          3,
          4,
          5,
          6,
          7,
          8,
          9,
          10,
          11,
          12,
          13,
          14,
          15
         ]
        }
       }
      }
     },
     "metadata": {},
     "output_type": "display_data"
    }
   ],
   "source": [
    "def plot_attn(patterns, token_df, title=\"\", facet_col_labels = [\"Original\", \"Reconstructed\"]):\n",
    "    '''\n",
    "    # patterns_original = cache[utils.get_act_name(\"pattern\", LAYER_IDX)][0,HEAD_IDX].detach().cpu()\n",
    "    # patterns_reconstructed = cache_reconstructed_query[utils.get_act_name(\"pattern\", LAYER_IDX)][0,HEAD_IDX].detach().cpu()\n",
    "    patterns_original = cache[utils.get_act_name(\"attn_scores\", LAYER_IDX)][0,HEAD_IDX].detach().cpu()\n",
    "    patterns_reconstructed = cache_reconstructed_query[utils.get_act_name(\"attn_scores\", LAYER_IDX)][0,HEAD_IDX].detach().cpu()\n",
    "    both_patterns = torch.stack([patterns_original, patterns_reconstructed])\n",
    "    plot_attn(both_patterns.detach().cpu(), token_df, title=\"Original and Reconstructed Attention Distribution\")\n",
    "    \n",
    "    '''\n",
    "    fig = px.imshow(patterns, text_auto=\".2f\", title=title,\n",
    "                    facet_col=0,\n",
    "                    color_continuous_midpoint=0,\n",
    "                    color_continuous_scale=\"RdBu\",\n",
    "                    )\n",
    "    \n",
    "    tickvals = np.arange(patterns.shape[2])\n",
    "    ticktext = token_df[\"unique_token\"].tolist()\n",
    "    \n",
    "    # add tokens as x-ticks and y-ticks, for each facet\n",
    "    # Update x-ticks and y-ticks for each facet\n",
    "    for i in range(len(facet_col_labels)):\n",
    "        fig.update_xaxes(\n",
    "            dict(tickmode='array', tickvals=tickvals, ticktext=ticktext),\n",
    "            row=1, col=i+1\n",
    "        )\n",
    "        fig.update_yaxes(\n",
    "            dict(tickmode='array', tickvals=tickvals, ticktext=ticktext),\n",
    "            row=1, col=i+1\n",
    "        )\n",
    "    \n",
    "    \n",
    "    # add facet col labels:\n",
    "    for i, label in enumerate(facet_col_labels):\n",
    "        fig.layout.annotations[i].text = label\n",
    "        fig.layout.annotations[i].font.size = 20\n",
    "        \n",
    "    fig.update_layout(\n",
    "        width=1200,\n",
    "        height=800,\n",
    "    )\n",
    "    fig.show()\n",
    "\n",
    "\n",
    "LAYER_IDX = sparse_autoencoder.cfg.hook_point_layer\n",
    "HEAD_IDX = 7\n",
    "patterns_original = original_cache[utils.get_act_name(\"attn_scores\", LAYER_IDX)][0,HEAD_IDX].detach().cpu()\n",
    "patterns_reconstructed = cache_reconstructed_query[utils.get_act_name(\"attn_scores\", LAYER_IDX)][0,HEAD_IDX].detach().cpu()\n",
    "both_patterns = torch.stack([patterns_original, patterns_reconstructed])\n",
    "plot_attn(both_patterns.detach().cpu(), token_df, title=\"Original and Reconstructed Attention Distribution\")\n",
    "# patterns_original = original_cache[utils.get_act_name(\"pattern\", LAYER_IDX)][0,HEAD_IDX].detach().cpu()\n",
    "# patterns_reconstructed = cache_reconstructed_query[utils.get_act_name(\"pattern\", LAYER_IDX)][0,HEAD_IDX].detach().cpu()\n",
    "# both_patterns = torch.stack([patterns_original, patterns_reconstructed])\n",
    "# plot_attn(both_patterns.detach().cpu(), token_df, title=\"Original and Reconstructed Attention Distribution\")"
   ]
  },
  {
   "cell_type": "code",
   "execution_count": 30,
   "metadata": {},
   "outputs": [
    {
     "name": "stderr",
     "output_type": "stream",
     "text": [
      "100%|██████████| 8/8 [00:00<00:00, 94.56it/s]"
     ]
    },
    {
     "name": "stdout",
     "output_type": "stream",
     "text": [
      "226.37371826171875\n",
      "131.60113525390625\n",
      "95.91297149658203\n",
      "55.29467010498047\n",
      "14.461440086364746\n",
      "2.972228527069092\n",
      "1.028397560119629\n",
      "0.0\n"
     ]
    },
    {
     "name": "stderr",
     "output_type": "stream",
     "text": [
      "\n"
     ]
    }
   ],
   "source": [
    "\n",
    "layer_idx = 10\n",
    "head_idx = 7\n",
    "tokens =model.to_tokens([prompt + answer])\n",
    "\n",
    "original_act = original_cache[sparse_autoencoder.cfg.hook_point]\n",
    "# token_df[\"q_norm\"] = torch.norm(original_act, dim=-1)[:,1:].flatten().tolist()\n",
    "sae_out, feature_acts, _, mse_loss, _ = sparse_autoencoder(original_act)\n",
    "head_hook_query_name = utils.get_act_name(\"q\", layer_idx)\n",
    "head_hook_resid_name = utils.get_act_name(\"resid_pre\", layer_idx)\n",
    "\n",
    "@torch.no_grad()\n",
    "def get_top_k_sae_approximation(sparse_autoencoder, feature_acts, top_k):\n",
    "    top_k_features = torch.topk(feature_acts, top_k, dim=2, sorted=False)\n",
    "    feature_acts_top_k = torch.zeros_like(feature_acts)\n",
    "    feature_acts_top_k[:, :, top_k_features.indices[0]] = feature_acts[:, :, top_k_features.indices[0]]\n",
    "    new_sae_out = (feature_acts_top_k @ sparse_autoencoder.W_dec) + sparse_autoencoder.b_dec\n",
    "    return new_sae_out\n",
    "\n",
    "# get the top k features by activation, and construct a new sae out \n",
    "for top_k in tqdm([1,3,5,10,30,50,60,100]):\n",
    "    new_sae_out = get_top_k_sae_approximation(sparse_autoencoder, feature_acts, top_k)\n",
    "    print((sae_out - new_sae_out).norm().item())\n"
   ]
  },
  {
   "cell_type": "code",
   "execution_count": 47,
   "metadata": {},
   "outputs": [
    {
     "name": "stdout",
     "output_type": "stream",
     "text": [
      "torch.Size([1, 16, 64])\n",
      "0.0\n"
     ]
    }
   ],
   "source": [
    "\n",
    "# need to generate query\n",
    "def replacement_hook(resid_pre, hook, new_resid_pre=new_sae_out):\n",
    "    return new_resid_pre\n",
    "new_sae_out = get_top_k_sae_approximation(sparse_autoencoder, feature_acts, top_k=66)\n",
    "\n",
    "model.reset_hooks()\n",
    "with model.hooks(fwd_hooks=[(head_hook_resid_name, replacement_hook)]):\n",
    "    _, top_k_sae_out_cache = model.run_with_cache(tokens, return_type=\"loss\", loss_per_token=True)\n",
    "    top_k_acts_queries = top_k_sae_out_cache[head_hook_query_name][:,:,head_idx]\n",
    "\n",
    "print(top_k_acts_queries.shape)\n",
    "print((sae_out - new_sae_out).norm().item())"
   ]
  },
  {
   "cell_type": "code",
   "execution_count": 48,
   "metadata": {},
   "outputs": [
    {
     "data": {
      "application/vnd.plotly.v1+json": {
       "config": {
        "plotlyServerURL": "https://plotly.com"
       },
       "data": [
        {
         "coloraxis": "coloraxis",
         "hovertemplate": "x: %{x}<br>y: %{y}<br>color: %{z}<extra></extra>",
         "name": "0",
         "texttemplate": "%{z:.2f}",
         "type": "heatmap",
         "xaxis": "x",
         "yaxis": "y",
         "z": [
          [
           1.5206553936004639,
           null,
           null,
           null,
           null,
           null,
           null,
           null,
           null,
           null,
           null,
           null,
           null,
           null,
           null,
           null
          ],
          [
           2.4115653038024902,
           -0.8445412516593933,
           null,
           null,
           null,
           null,
           null,
           null,
           null,
           null,
           null,
           null,
           null,
           null,
           null,
           null
          ],
          [
           3.3542985916137695,
           -2.2821786403656006,
           -0.6035897731781006,
           null,
           null,
           null,
           null,
           null,
           null,
           null,
           null,
           null,
           null,
           null,
           null,
           null
          ],
          [
           3.243211269378662,
           -1.743821144104004,
           0.8681350350379944,
           0.1339104175567627,
           null,
           null,
           null,
           null,
           null,
           null,
           null,
           null,
           null,
           null,
           null,
           null
          ],
          [
           2.9748520851135254,
           -0.9494980573654175,
           -0.8610042929649353,
           0.19511787593364716,
           -0.24156907200813293,
           null,
           null,
           null,
           null,
           null,
           null,
           null,
           null,
           null,
           null,
           null
          ],
          [
           3.375486373901367,
           -2.244469404220581,
           -4.629362106323242,
           -2.0267436504364014,
           -4.430408477783203,
           -0.4615838825702667,
           null,
           null,
           null,
           null,
           null,
           null,
           null,
           null,
           null,
           null
          ],
          [
           2.70326566696167,
           -2.0424423217773438,
           -1.460326910018921,
           -0.22968825697898865,
           -0.4325571060180664,
           -0.15801498293876648,
           0.5951094627380371,
           null,
           null,
           null,
           null,
           null,
           null,
           null,
           null,
           null
          ],
          [
           2.4851832389831543,
           -2.011751651763916,
           -2.7783362865448,
           -0.5577609539031982,
           -1.6834912300109863,
           -2.228360414505005,
           0.0840124636888504,
           -0.6438209414482117,
           null,
           null,
           null,
           null,
           null,
           null,
           null,
           null
          ],
          [
           2.338196277618408,
           -1.4507560729980469,
           -3.1895148754119873,
           -1.3971279859542847,
           -2.9957656860351562,
           -1.8930200338363647,
           -0.9044234156608582,
           -2.0501272678375244,
           -0.1619211882352829,
           null,
           null,
           null,
           null,
           null,
           null,
           null
          ],
          [
           1.8393523693084717,
           -1.1870301961898804,
           1.3775620460510254,
           0.17379125952720642,
           1.8693604469299316,
           -1.7087526321411133,
           -0.9185526967048645,
           -1.3864134550094604,
           -1.2754247188568115,
           -0.3694226145744324,
           null,
           null,
           null,
           null,
           null,
           null
          ],
          [
           2.4515087604522705,
           -0.7144339084625244,
           -2.522062301635742,
           0.32211318612098694,
           -2.5382628440856934,
           -0.3436872959136963,
           -0.9869657158851624,
           -2.288285970687866,
           -2.9001665115356445,
           -0.25950708985328674,
           -1.553795337677002,
           null,
           null,
           null,
           null,
           null
          ],
          [
           1.6284419298171997,
           -0.8059229254722595,
           1.6907603740692139,
           -0.5397161245346069,
           2.7973005771636963,
           -1.823884129524231,
           -0.8837589025497437,
           -1.2818795442581177,
           -3.081923484802246,
           -0.3239453434944153,
           1.834188461303711,
           0.2902972996234894,
           null,
           null,
           null,
           null
          ],
          [
           1.851014494895935,
           -1.8792115449905396,
           -0.7009276747703552,
           0.3733953535556793,
           -0.26559165120124817,
           -2.0525121688842773,
           -0.6969172358512878,
           -0.825620174407959,
           0.7972451448440552,
           -0.7445257306098938,
           -0.6292338371276855,
           -0.6967276930809021,
           0.5216885209083557,
           null,
           null,
           null
          ],
          [
           2.555361270904541,
           -2.9094607830047607,
           -4.4397735595703125,
           -1.7858951091766357,
           -4.279087066650391,
           -2.5051093101501465,
           -1.526135802268982,
           -1.8610645532608032,
           1.1039142608642578,
           -1.2239718437194824,
           -4.03829288482666,
           -2.842700242996216,
           -1.5457820892333984,
           -0.40530896186828613,
           null,
           null
          ],
          [
           1.9166232347488403,
           -1.1015901565551758,
           2.393794298171997,
           0.40395474433898926,
           4.9658203125,
           -2.260735034942627,
           -0.2970500588417053,
           -0.34221842885017395,
           -2.7912235260009766,
           -0.16590790450572968,
           2.208343982696533,
           -1.045959711074829,
           1.1169720888137817,
           -3.054405450820923,
           0.7778357863426208,
           null
          ],
          [
           2.118572473526001,
           -1.2863285541534424,
           -1.793250322341919,
           -0.8846166133880615,
           -1.9270344972610474,
           -1.9210894107818604,
           -1.9630794525146484,
           -2.548590660095215,
           -3.1075315475463867,
           -1.1658755540847778,
           -1.3756234645843506,
           -1.148781657218933,
           -1.331607699394226,
           -3.7352194786071777,
           -0.7883329391479492,
           -1.7600977420806885
          ]
         ]
        },
        {
         "coloraxis": "coloraxis",
         "hovertemplate": "x: %{x}<br>y: %{y}<br>color: %{z}<extra></extra>",
         "name": "1",
         "texttemplate": "%{z:.2f}",
         "type": "heatmap",
         "xaxis": "x2",
         "yaxis": "y2",
         "z": [
          [
           1.520782709121704,
           null,
           null,
           null,
           null,
           null,
           null,
           null,
           null,
           null,
           null,
           null,
           null,
           null,
           null,
           null
          ],
          [
           2.446986198425293,
           -1.1157017946243286,
           null,
           null,
           null,
           null,
           null,
           null,
           null,
           null,
           null,
           null,
           null,
           null,
           null,
           null
          ],
          [
           3.4452755451202393,
           -2.1064212322235107,
           -0.7966252565383911,
           null,
           null,
           null,
           null,
           null,
           null,
           null,
           null,
           null,
           null,
           null,
           null,
           null
          ],
          [
           3.1392695903778076,
           -1.7699347734451294,
           0.7800865173339844,
           0.19934888184070587,
           null,
           null,
           null,
           null,
           null,
           null,
           null,
           null,
           null,
           null,
           null,
           null
          ],
          [
           3.1482434272766113,
           -1.217090368270874,
           -1.6049399375915527,
           -0.25016582012176514,
           -0.9409446120262146,
           null,
           null,
           null,
           null,
           null,
           null,
           null,
           null,
           null,
           null,
           null
          ],
          [
           3.3648521900177,
           -2.2575557231903076,
           -4.218812942504883,
           -1.9936939477920532,
           -3.9737155437469482,
           -0.9779526591300964,
           null,
           null,
           null,
           null,
           null,
           null,
           null,
           null,
           null,
           null
          ],
          [
           2.558173894882202,
           -1.8879714012145996,
           -1.7634471654891968,
           -0.6470458507537842,
           -0.8156612515449524,
           -0.8116812109947205,
           0.204802006483078,
           null,
           null,
           null,
           null,
           null,
           null,
           null,
           null,
           null
          ],
          [
           2.622368335723877,
           -2.0724599361419678,
           -3.5414774417877197,
           -1.2176645994186401,
           -2.701063394546509,
           -2.5169806480407715,
           -0.06464240700006485,
           -0.8576387763023376,
           null,
           null,
           null,
           null,
           null,
           null,
           null,
           null
          ],
          [
           2.654777765274048,
           -1.6451383829116821,
           -3.9058218002319336,
           -1.672646403312683,
           -3.7038886547088623,
           -2.7160396575927734,
           -1.3704696893692017,
           -2.281468629837036,
           -0.5874999165534973,
           null,
           null,
           null,
           null,
           null,
           null,
           null
          ],
          [
           2.031663417816162,
           -1.1169183254241943,
           -0.18437780439853668,
           0.593092143535614,
           0.8255094885826111,
           -2.2086713314056396,
           -1.3489636182785034,
           -1.5031213760375977,
           -1.3417078256607056,
           -0.4276125729084015,
           null,
           null,
           null,
           null,
           null,
           null
          ],
          [
           3.1918764114379883,
           -0.9564219117164612,
           -2.3044304847717285,
           0.10095556825399399,
           -2.7330386638641357,
           -1.0603278875350952,
           -1.5751985311508179,
           -2.65301775932312,
           -3.9822933673858643,
           -0.5251129865646362,
           -1.5914229154586792,
           null,
           null,
           null,
           null,
           null
          ],
          [
           2.2557480335235596,
           -1.3039761781692505,
           0.046276774257421494,
           -0.3017036020755768,
           0.8213589787483215,
           -3.001634359359741,
           -1.9036177396774292,
           -1.9168777465820312,
           -3.176785945892334,
           -0.6567555069923401,
           0.6783625483512878,
           -1.267536997795105,
           null,
           null,
           null,
           null
          ],
          [
           1.9624526500701904,
           -1.8605642318725586,
           -1.9318468570709229,
           -0.19620463252067566,
           -1.5992311239242554,
           -2.5856149196624756,
           -1.060153841972351,
           -1.0463509559631348,
           0.10774195194244385,
           -0.890493631362915,
           -1.8140705823898315,
           -1.3955837488174438,
           -0.00963749922811985,
           null,
           null,
           null
          ],
          [
           3.110651731491089,
           -2.9944400787353516,
           -5.973178863525391,
           -3.0341007709503174,
           -6.040956020355225,
           -3.9882678985595703,
           -2.454916477203369,
           -2.567379951477051,
           -0.7644517421722412,
           -1.7473528385162354,
           -5.606975078582764,
           -3.97271728515625,
           -2.7625458240509033,
           -2.4146323204040527,
           null,
           null
          ],
          [
           2.192223072052002,
           -1.731581449508667,
           2.0830516815185547,
           1.5134696960449219,
           4.002443313598633,
           -2.405486583709717,
           -0.5936785340309143,
           -0.6036695241928101,
           -1.9752681255340576,
           0.057707712054252625,
           2.5852572917938232,
           -1.7200474739074707,
           0.8581604957580566,
           -1.9828617572784424,
           0.9044084548950195,
           null
          ],
          [
           2.987400531768799,
           -1.1212795972824097,
           -1.6671701669692993,
           -0.4755195379257202,
           -1.1360433101654053,
           -2.590972900390625,
           -2.6527745723724365,
           -3.0143330097198486,
           -3.973114013671875,
           -1.2415035963058472,
           -1.2645272016525269,
           -1.6461317539215088,
           -1.8911170959472656,
           -5.0244574546813965,
           -1.2028268575668335,
           -1.0849472284317017
          ]
         ]
        }
       ],
       "layout": {
        "annotations": [
         {
          "font": {
           "size": 20
          },
          "showarrow": false,
          "text": "Original",
          "x": 0.245,
          "xanchor": "center",
          "xref": "paper",
          "y": 1,
          "yanchor": "bottom",
          "yref": "paper"
         },
         {
          "font": {
           "size": 20
          },
          "showarrow": false,
          "text": "Reconstructed",
          "x": 0.755,
          "xanchor": "center",
          "xref": "paper",
          "y": 1,
          "yanchor": "bottom",
          "yref": "paper"
         }
        ],
        "coloraxis": {
         "cmid": 0,
         "colorscale": [
          [
           0,
           "rgb(103,0,31)"
          ],
          [
           0.1,
           "rgb(178,24,43)"
          ],
          [
           0.2,
           "rgb(214,96,77)"
          ],
          [
           0.3,
           "rgb(244,165,130)"
          ],
          [
           0.4,
           "rgb(253,219,199)"
          ],
          [
           0.5,
           "rgb(247,247,247)"
          ],
          [
           0.6,
           "rgb(209,229,240)"
          ],
          [
           0.7,
           "rgb(146,197,222)"
          ],
          [
           0.8,
           "rgb(67,147,195)"
          ],
          [
           0.9,
           "rgb(33,102,172)"
          ],
          [
           1,
           "rgb(5,48,97)"
          ]
         ]
        },
        "height": 800,
        "template": {
         "data": {
          "bar": [
           {
            "error_x": {
             "color": "#2a3f5f"
            },
            "error_y": {
             "color": "#2a3f5f"
            },
            "marker": {
             "line": {
              "color": "#E5ECF6",
              "width": 0.5
             },
             "pattern": {
              "fillmode": "overlay",
              "size": 10,
              "solidity": 0.2
             }
            },
            "type": "bar"
           }
          ],
          "barpolar": [
           {
            "marker": {
             "line": {
              "color": "#E5ECF6",
              "width": 0.5
             },
             "pattern": {
              "fillmode": "overlay",
              "size": 10,
              "solidity": 0.2
             }
            },
            "type": "barpolar"
           }
          ],
          "carpet": [
           {
            "aaxis": {
             "endlinecolor": "#2a3f5f",
             "gridcolor": "white",
             "linecolor": "white",
             "minorgridcolor": "white",
             "startlinecolor": "#2a3f5f"
            },
            "baxis": {
             "endlinecolor": "#2a3f5f",
             "gridcolor": "white",
             "linecolor": "white",
             "minorgridcolor": "white",
             "startlinecolor": "#2a3f5f"
            },
            "type": "carpet"
           }
          ],
          "choropleth": [
           {
            "colorbar": {
             "outlinewidth": 0,
             "ticks": ""
            },
            "type": "choropleth"
           }
          ],
          "contour": [
           {
            "colorbar": {
             "outlinewidth": 0,
             "ticks": ""
            },
            "colorscale": [
             [
              0,
              "#0d0887"
             ],
             [
              0.1111111111111111,
              "#46039f"
             ],
             [
              0.2222222222222222,
              "#7201a8"
             ],
             [
              0.3333333333333333,
              "#9c179e"
             ],
             [
              0.4444444444444444,
              "#bd3786"
             ],
             [
              0.5555555555555556,
              "#d8576b"
             ],
             [
              0.6666666666666666,
              "#ed7953"
             ],
             [
              0.7777777777777778,
              "#fb9f3a"
             ],
             [
              0.8888888888888888,
              "#fdca26"
             ],
             [
              1,
              "#f0f921"
             ]
            ],
            "type": "contour"
           }
          ],
          "contourcarpet": [
           {
            "colorbar": {
             "outlinewidth": 0,
             "ticks": ""
            },
            "type": "contourcarpet"
           }
          ],
          "heatmap": [
           {
            "colorbar": {
             "outlinewidth": 0,
             "ticks": ""
            },
            "colorscale": [
             [
              0,
              "#0d0887"
             ],
             [
              0.1111111111111111,
              "#46039f"
             ],
             [
              0.2222222222222222,
              "#7201a8"
             ],
             [
              0.3333333333333333,
              "#9c179e"
             ],
             [
              0.4444444444444444,
              "#bd3786"
             ],
             [
              0.5555555555555556,
              "#d8576b"
             ],
             [
              0.6666666666666666,
              "#ed7953"
             ],
             [
              0.7777777777777778,
              "#fb9f3a"
             ],
             [
              0.8888888888888888,
              "#fdca26"
             ],
             [
              1,
              "#f0f921"
             ]
            ],
            "type": "heatmap"
           }
          ],
          "heatmapgl": [
           {
            "colorbar": {
             "outlinewidth": 0,
             "ticks": ""
            },
            "colorscale": [
             [
              0,
              "#0d0887"
             ],
             [
              0.1111111111111111,
              "#46039f"
             ],
             [
              0.2222222222222222,
              "#7201a8"
             ],
             [
              0.3333333333333333,
              "#9c179e"
             ],
             [
              0.4444444444444444,
              "#bd3786"
             ],
             [
              0.5555555555555556,
              "#d8576b"
             ],
             [
              0.6666666666666666,
              "#ed7953"
             ],
             [
              0.7777777777777778,
              "#fb9f3a"
             ],
             [
              0.8888888888888888,
              "#fdca26"
             ],
             [
              1,
              "#f0f921"
             ]
            ],
            "type": "heatmapgl"
           }
          ],
          "histogram": [
           {
            "marker": {
             "pattern": {
              "fillmode": "overlay",
              "size": 10,
              "solidity": 0.2
             }
            },
            "type": "histogram"
           }
          ],
          "histogram2d": [
           {
            "colorbar": {
             "outlinewidth": 0,
             "ticks": ""
            },
            "colorscale": [
             [
              0,
              "#0d0887"
             ],
             [
              0.1111111111111111,
              "#46039f"
             ],
             [
              0.2222222222222222,
              "#7201a8"
             ],
             [
              0.3333333333333333,
              "#9c179e"
             ],
             [
              0.4444444444444444,
              "#bd3786"
             ],
             [
              0.5555555555555556,
              "#d8576b"
             ],
             [
              0.6666666666666666,
              "#ed7953"
             ],
             [
              0.7777777777777778,
              "#fb9f3a"
             ],
             [
              0.8888888888888888,
              "#fdca26"
             ],
             [
              1,
              "#f0f921"
             ]
            ],
            "type": "histogram2d"
           }
          ],
          "histogram2dcontour": [
           {
            "colorbar": {
             "outlinewidth": 0,
             "ticks": ""
            },
            "colorscale": [
             [
              0,
              "#0d0887"
             ],
             [
              0.1111111111111111,
              "#46039f"
             ],
             [
              0.2222222222222222,
              "#7201a8"
             ],
             [
              0.3333333333333333,
              "#9c179e"
             ],
             [
              0.4444444444444444,
              "#bd3786"
             ],
             [
              0.5555555555555556,
              "#d8576b"
             ],
             [
              0.6666666666666666,
              "#ed7953"
             ],
             [
              0.7777777777777778,
              "#fb9f3a"
             ],
             [
              0.8888888888888888,
              "#fdca26"
             ],
             [
              1,
              "#f0f921"
             ]
            ],
            "type": "histogram2dcontour"
           }
          ],
          "mesh3d": [
           {
            "colorbar": {
             "outlinewidth": 0,
             "ticks": ""
            },
            "type": "mesh3d"
           }
          ],
          "parcoords": [
           {
            "line": {
             "colorbar": {
              "outlinewidth": 0,
              "ticks": ""
             }
            },
            "type": "parcoords"
           }
          ],
          "pie": [
           {
            "automargin": true,
            "type": "pie"
           }
          ],
          "scatter": [
           {
            "fillpattern": {
             "fillmode": "overlay",
             "size": 10,
             "solidity": 0.2
            },
            "type": "scatter"
           }
          ],
          "scatter3d": [
           {
            "line": {
             "colorbar": {
              "outlinewidth": 0,
              "ticks": ""
             }
            },
            "marker": {
             "colorbar": {
              "outlinewidth": 0,
              "ticks": ""
             }
            },
            "type": "scatter3d"
           }
          ],
          "scattercarpet": [
           {
            "marker": {
             "colorbar": {
              "outlinewidth": 0,
              "ticks": ""
             }
            },
            "type": "scattercarpet"
           }
          ],
          "scattergeo": [
           {
            "marker": {
             "colorbar": {
              "outlinewidth": 0,
              "ticks": ""
             }
            },
            "type": "scattergeo"
           }
          ],
          "scattergl": [
           {
            "marker": {
             "colorbar": {
              "outlinewidth": 0,
              "ticks": ""
             }
            },
            "type": "scattergl"
           }
          ],
          "scattermapbox": [
           {
            "marker": {
             "colorbar": {
              "outlinewidth": 0,
              "ticks": ""
             }
            },
            "type": "scattermapbox"
           }
          ],
          "scatterpolar": [
           {
            "marker": {
             "colorbar": {
              "outlinewidth": 0,
              "ticks": ""
             }
            },
            "type": "scatterpolar"
           }
          ],
          "scatterpolargl": [
           {
            "marker": {
             "colorbar": {
              "outlinewidth": 0,
              "ticks": ""
             }
            },
            "type": "scatterpolargl"
           }
          ],
          "scatterternary": [
           {
            "marker": {
             "colorbar": {
              "outlinewidth": 0,
              "ticks": ""
             }
            },
            "type": "scatterternary"
           }
          ],
          "surface": [
           {
            "colorbar": {
             "outlinewidth": 0,
             "ticks": ""
            },
            "colorscale": [
             [
              0,
              "#0d0887"
             ],
             [
              0.1111111111111111,
              "#46039f"
             ],
             [
              0.2222222222222222,
              "#7201a8"
             ],
             [
              0.3333333333333333,
              "#9c179e"
             ],
             [
              0.4444444444444444,
              "#bd3786"
             ],
             [
              0.5555555555555556,
              "#d8576b"
             ],
             [
              0.6666666666666666,
              "#ed7953"
             ],
             [
              0.7777777777777778,
              "#fb9f3a"
             ],
             [
              0.8888888888888888,
              "#fdca26"
             ],
             [
              1,
              "#f0f921"
             ]
            ],
            "type": "surface"
           }
          ],
          "table": [
           {
            "cells": {
             "fill": {
              "color": "#EBF0F8"
             },
             "line": {
              "color": "white"
             }
            },
            "header": {
             "fill": {
              "color": "#C8D4E3"
             },
             "line": {
              "color": "white"
             }
            },
            "type": "table"
           }
          ]
         },
         "layout": {
          "annotationdefaults": {
           "arrowcolor": "#2a3f5f",
           "arrowhead": 0,
           "arrowwidth": 1
          },
          "autotypenumbers": "strict",
          "coloraxis": {
           "colorbar": {
            "outlinewidth": 0,
            "ticks": ""
           }
          },
          "colorscale": {
           "diverging": [
            [
             0,
             "#8e0152"
            ],
            [
             0.1,
             "#c51b7d"
            ],
            [
             0.2,
             "#de77ae"
            ],
            [
             0.3,
             "#f1b6da"
            ],
            [
             0.4,
             "#fde0ef"
            ],
            [
             0.5,
             "#f7f7f7"
            ],
            [
             0.6,
             "#e6f5d0"
            ],
            [
             0.7,
             "#b8e186"
            ],
            [
             0.8,
             "#7fbc41"
            ],
            [
             0.9,
             "#4d9221"
            ],
            [
             1,
             "#276419"
            ]
           ],
           "sequential": [
            [
             0,
             "#0d0887"
            ],
            [
             0.1111111111111111,
             "#46039f"
            ],
            [
             0.2222222222222222,
             "#7201a8"
            ],
            [
             0.3333333333333333,
             "#9c179e"
            ],
            [
             0.4444444444444444,
             "#bd3786"
            ],
            [
             0.5555555555555556,
             "#d8576b"
            ],
            [
             0.6666666666666666,
             "#ed7953"
            ],
            [
             0.7777777777777778,
             "#fb9f3a"
            ],
            [
             0.8888888888888888,
             "#fdca26"
            ],
            [
             1,
             "#f0f921"
            ]
           ],
           "sequentialminus": [
            [
             0,
             "#0d0887"
            ],
            [
             0.1111111111111111,
             "#46039f"
            ],
            [
             0.2222222222222222,
             "#7201a8"
            ],
            [
             0.3333333333333333,
             "#9c179e"
            ],
            [
             0.4444444444444444,
             "#bd3786"
            ],
            [
             0.5555555555555556,
             "#d8576b"
            ],
            [
             0.6666666666666666,
             "#ed7953"
            ],
            [
             0.7777777777777778,
             "#fb9f3a"
            ],
            [
             0.8888888888888888,
             "#fdca26"
            ],
            [
             1,
             "#f0f921"
            ]
           ]
          },
          "colorway": [
           "#636efa",
           "#EF553B",
           "#00cc96",
           "#ab63fa",
           "#FFA15A",
           "#19d3f3",
           "#FF6692",
           "#B6E880",
           "#FF97FF",
           "#FECB52"
          ],
          "font": {
           "color": "#2a3f5f"
          },
          "geo": {
           "bgcolor": "white",
           "lakecolor": "white",
           "landcolor": "#E5ECF6",
           "showlakes": true,
           "showland": true,
           "subunitcolor": "white"
          },
          "hoverlabel": {
           "align": "left"
          },
          "hovermode": "closest",
          "mapbox": {
           "style": "light"
          },
          "paper_bgcolor": "white",
          "plot_bgcolor": "#E5ECF6",
          "polar": {
           "angularaxis": {
            "gridcolor": "white",
            "linecolor": "white",
            "ticks": ""
           },
           "bgcolor": "#E5ECF6",
           "radialaxis": {
            "gridcolor": "white",
            "linecolor": "white",
            "ticks": ""
           }
          },
          "scene": {
           "xaxis": {
            "backgroundcolor": "#E5ECF6",
            "gridcolor": "white",
            "gridwidth": 2,
            "linecolor": "white",
            "showbackground": true,
            "ticks": "",
            "zerolinecolor": "white"
           },
           "yaxis": {
            "backgroundcolor": "#E5ECF6",
            "gridcolor": "white",
            "gridwidth": 2,
            "linecolor": "white",
            "showbackground": true,
            "ticks": "",
            "zerolinecolor": "white"
           },
           "zaxis": {
            "backgroundcolor": "#E5ECF6",
            "gridcolor": "white",
            "gridwidth": 2,
            "linecolor": "white",
            "showbackground": true,
            "ticks": "",
            "zerolinecolor": "white"
           }
          },
          "shapedefaults": {
           "line": {
            "color": "#2a3f5f"
           }
          },
          "ternary": {
           "aaxis": {
            "gridcolor": "white",
            "linecolor": "white",
            "ticks": ""
           },
           "baxis": {
            "gridcolor": "white",
            "linecolor": "white",
            "ticks": ""
           },
           "bgcolor": "#E5ECF6",
           "caxis": {
            "gridcolor": "white",
            "linecolor": "white",
            "ticks": ""
           }
          },
          "title": {
           "x": 0.05
          },
          "xaxis": {
           "automargin": true,
           "gridcolor": "white",
           "linecolor": "white",
           "ticks": "",
           "title": {
            "standoff": 15
           },
           "zerolinecolor": "white",
           "zerolinewidth": 2
          },
          "yaxis": {
           "automargin": true,
           "gridcolor": "white",
           "linecolor": "white",
           "ticks": "",
           "title": {
            "standoff": 15
           },
           "zerolinecolor": "white",
           "zerolinewidth": 2
          }
         }
        },
        "title": {
         "text": "Original and Reconstructed Attention Distribution"
        },
        "width": 1200,
        "xaxis": {
         "anchor": "y",
         "constrain": "domain",
         "domain": [
          0,
          0.49
         ],
         "scaleanchor": "y",
         "tickmode": "array",
         "ticktext": [
          "<|endoftext|>/0",
          "When/1",
          " John/2",
          " and/3",
          " Mary/4",
          " went/5",
          " to/6",
          " the/7",
          " shops/8",
          ",/9",
          " John/10",
          " gave/11",
          " the/12",
          " shopping/13",
          " to/14",
          " Mary/15"
         ],
         "tickvals": [
          1,
          2,
          3,
          4,
          5,
          6,
          7,
          8,
          9,
          10,
          11,
          12,
          13,
          14,
          15,
          16
         ]
        },
        "xaxis2": {
         "anchor": "y2",
         "domain": [
          0.51,
          1
         ],
         "matches": "x",
         "tickmode": "array",
         "ticktext": [
          "<|endoftext|>/0",
          "When/1",
          " John/2",
          " and/3",
          " Mary/4",
          " went/5",
          " to/6",
          " the/7",
          " shops/8",
          ",/9",
          " John/10",
          " gave/11",
          " the/12",
          " shopping/13",
          " to/14",
          " Mary/15"
         ],
         "tickvals": [
          1,
          2,
          3,
          4,
          5,
          6,
          7,
          8,
          9,
          10,
          11,
          12,
          13,
          14,
          15,
          16
         ]
        },
        "yaxis": {
         "anchor": "x",
         "autorange": "reversed",
         "constrain": "domain",
         "domain": [
          0,
          1
         ],
         "tickmode": "array",
         "ticktext": [
          "<|endoftext|>/0",
          "When/1",
          " John/2",
          " and/3",
          " Mary/4",
          " went/5",
          " to/6",
          " the/7",
          " shops/8",
          ",/9",
          " John/10",
          " gave/11",
          " the/12",
          " shopping/13",
          " to/14",
          " Mary/15"
         ],
         "tickvals": [
          1,
          2,
          3,
          4,
          5,
          6,
          7,
          8,
          9,
          10,
          11,
          12,
          13,
          14,
          15,
          16
         ]
        },
        "yaxis2": {
         "anchor": "x2",
         "domain": [
          0,
          1
         ],
         "matches": "y",
         "showticklabels": false,
         "tickmode": "array",
         "ticktext": [
          "<|endoftext|>/0",
          "When/1",
          " John/2",
          " and/3",
          " Mary/4",
          " went/5",
          " to/6",
          " the/7",
          " shops/8",
          ",/9",
          " John/10",
          " gave/11",
          " the/12",
          " shopping/13",
          " to/14",
          " Mary/15"
         ],
         "tickvals": [
          1,
          2,
          3,
          4,
          5,
          6,
          7,
          8,
          9,
          10,
          11,
          12,
          13,
          14,
          15,
          16
         ]
        }
       }
      }
     },
     "metadata": {},
     "output_type": "display_data"
    },
    {
     "data": {
      "application/vnd.plotly.v1+json": {
       "config": {
        "plotlyServerURL": "https://plotly.com"
       },
       "data": [
        {
         "coloraxis": "coloraxis",
         "hovertemplate": "x: %{x}<br>y: %{y}<br>color: %{z}<extra></extra>",
         "name": "0",
         "texttemplate": "%{z:.2f}",
         "type": "heatmap",
         "xaxis": "x",
         "yaxis": "y",
         "z": [
          [
           1.520782709121704,
           null,
           null,
           null,
           null,
           null,
           null,
           null,
           null,
           null,
           null,
           null,
           null,
           null,
           null,
           null
          ],
          [
           2.446986198425293,
           -1.1157017946243286,
           null,
           null,
           null,
           null,
           null,
           null,
           null,
           null,
           null,
           null,
           null,
           null,
           null,
           null
          ],
          [
           3.4452755451202393,
           -2.1064212322235107,
           -0.7966252565383911,
           null,
           null,
           null,
           null,
           null,
           null,
           null,
           null,
           null,
           null,
           null,
           null,
           null
          ],
          [
           3.1392695903778076,
           -1.7699347734451294,
           0.7800865173339844,
           0.19934888184070587,
           null,
           null,
           null,
           null,
           null,
           null,
           null,
           null,
           null,
           null,
           null,
           null
          ],
          [
           3.1482434272766113,
           -1.217090368270874,
           -1.6049399375915527,
           -0.25016582012176514,
           -0.9409446120262146,
           null,
           null,
           null,
           null,
           null,
           null,
           null,
           null,
           null,
           null,
           null
          ],
          [
           3.3648521900177,
           -2.2575557231903076,
           -4.218812942504883,
           -1.9936939477920532,
           -3.9737155437469482,
           -0.9779526591300964,
           null,
           null,
           null,
           null,
           null,
           null,
           null,
           null,
           null,
           null
          ],
          [
           2.558173894882202,
           -1.8879714012145996,
           -1.7634471654891968,
           -0.6470458507537842,
           -0.8156612515449524,
           -0.8116812109947205,
           0.204802006483078,
           null,
           null,
           null,
           null,
           null,
           null,
           null,
           null,
           null
          ],
          [
           2.622368335723877,
           -2.0724599361419678,
           -3.5414774417877197,
           -1.2176645994186401,
           -2.701063394546509,
           -2.5169806480407715,
           -0.06464240700006485,
           -0.8576387763023376,
           null,
           null,
           null,
           null,
           null,
           null,
           null,
           null
          ],
          [
           2.654777765274048,
           -1.6451383829116821,
           -3.9058218002319336,
           -1.672646403312683,
           -3.7038886547088623,
           -2.7160396575927734,
           -1.3704696893692017,
           -2.281468629837036,
           -0.5874999165534973,
           null,
           null,
           null,
           null,
           null,
           null,
           null
          ],
          [
           2.031663417816162,
           -1.1169183254241943,
           -0.18437780439853668,
           0.593092143535614,
           0.8255094885826111,
           -2.2086713314056396,
           -1.3489636182785034,
           -1.5031213760375977,
           -1.3417078256607056,
           -0.4276125729084015,
           null,
           null,
           null,
           null,
           null,
           null
          ],
          [
           3.1918764114379883,
           -0.9564219117164612,
           -2.3044304847717285,
           0.10095556825399399,
           -2.7330386638641357,
           -1.0603278875350952,
           -1.5751985311508179,
           -2.65301775932312,
           -3.9822933673858643,
           -0.5251129865646362,
           -1.5914229154586792,
           null,
           null,
           null,
           null,
           null
          ],
          [
           2.2557480335235596,
           -1.3039761781692505,
           0.046276774257421494,
           -0.3017036020755768,
           0.8213589787483215,
           -3.001634359359741,
           -1.9036177396774292,
           -1.9168777465820312,
           -3.176785945892334,
           -0.6567555069923401,
           0.6783625483512878,
           -1.267536997795105,
           null,
           null,
           null,
           null
          ],
          [
           1.9624526500701904,
           -1.8605642318725586,
           -1.9318468570709229,
           -0.19620463252067566,
           -1.5992311239242554,
           -2.5856149196624756,
           -1.060153841972351,
           -1.0463509559631348,
           0.10774195194244385,
           -0.890493631362915,
           -1.8140705823898315,
           -1.3955837488174438,
           -0.00963749922811985,
           null,
           null,
           null
          ],
          [
           3.110651731491089,
           -2.9944400787353516,
           -5.973178863525391,
           -3.0341007709503174,
           -6.040956020355225,
           -3.9882678985595703,
           -2.454916477203369,
           -2.567379951477051,
           -0.7644517421722412,
           -1.7473528385162354,
           -5.606975078582764,
           -3.97271728515625,
           -2.7625458240509033,
           -2.4146323204040527,
           null,
           null
          ],
          [
           2.192223072052002,
           -1.731581449508667,
           2.0830516815185547,
           1.5134696960449219,
           4.002443313598633,
           -2.405486583709717,
           -0.5936785340309143,
           -0.6036695241928101,
           -1.9752681255340576,
           0.057707712054252625,
           2.5852572917938232,
           -1.7200474739074707,
           0.8581604957580566,
           -1.9828617572784424,
           0.9044084548950195,
           null
          ],
          [
           2.987400531768799,
           -1.1212795972824097,
           -1.6671701669692993,
           -0.4755195379257202,
           -1.1360433101654053,
           -2.590972900390625,
           -2.6527745723724365,
           -3.0143330097198486,
           -3.973114013671875,
           -1.2415035963058472,
           -1.2645272016525269,
           -1.6461317539215088,
           -1.8911170959472656,
           -5.0244574546813965,
           -1.2028268575668335,
           -1.0849472284317017
          ]
         ]
        },
        {
         "coloraxis": "coloraxis",
         "hovertemplate": "x: %{x}<br>y: %{y}<br>color: %{z}<extra></extra>",
         "name": "1",
         "texttemplate": "%{z:.2f}",
         "type": "heatmap",
         "xaxis": "x2",
         "yaxis": "y2",
         "z": [
          [
           1.5157636404037476,
           null,
           null,
           null,
           null,
           null,
           null,
           null,
           null,
           null,
           null,
           null,
           null,
           null,
           null,
           null
          ],
          [
           2.446906566619873,
           -0.9467948079109192,
           null,
           null,
           null,
           null,
           null,
           null,
           null,
           null,
           null,
           null,
           null,
           null,
           null,
           null
          ],
          [
           3.4407408237457275,
           -2.099355936050415,
           -1.2896473407745361,
           null,
           null,
           null,
           null,
           null,
           null,
           null,
           null,
           null,
           null,
           null,
           null,
           null
          ],
          [
           3.136789560317993,
           -1.9036648273468018,
           0.09607872366905212,
           0.3761937916278839,
           null,
           null,
           null,
           null,
           null,
           null,
           null,
           null,
           null,
           null,
           null,
           null
          ],
          [
           3.1441397666931152,
           -1.3069227933883667,
           -2.0316336154937744,
           0.07331142574548721,
           -1.362343668937683,
           null,
           null,
           null,
           null,
           null,
           null,
           null,
           null,
           null,
           null,
           null
          ],
          [
           3.359239101409912,
           -2.4337897300720215,
           -4.5483856201171875,
           -2.04885196685791,
           -4.516690731048584,
           -1.4789670705795288,
           null,
           null,
           null,
           null,
           null,
           null,
           null,
           null,
           null,
           null
          ],
          [
           2.5557713508605957,
           -1.8867623805999756,
           -2.1084682941436768,
           -0.8651013374328613,
           -1.3367539644241333,
           -1.2878785133361816,
           -0.38832902908325195,
           null,
           null,
           null,
           null,
           null,
           null,
           null,
           null,
           null
          ],
          [
           2.6202735900878906,
           -2.0086023807525635,
           -3.691584825515747,
           -1.4595870971679688,
           -3.1640262603759766,
           -2.9222028255462646,
           -0.801344096660614,
           -1.3422319889068604,
           null,
           null,
           null,
           null,
           null,
           null,
           null,
           null
          ],
          [
           2.6510884761810303,
           -1.7112771272659302,
           -4.087095737457275,
           -1.7901618480682373,
           -4.045670986175537,
           -3.0544395446777344,
           -1.5835555791854858,
           -2.4297733306884766,
           -1.331295371055603,
           null,
           null,
           null,
           null,
           null,
           null,
           null
          ],
          [
           2.0327587127685547,
           -1.0784322023391724,
           -0.6027331352233887,
           0.6447877883911133,
           0.470003217458725,
           -2.626997709274292,
           -1.761993646621704,
           -1.8689607381820679,
           -2.034369945526123,
           -0.6587949395179749,
           null,
           null,
           null,
           null,
           null,
           null
          ],
          [
           3.190613031387329,
           -1.1079895496368408,
           -2.5412909984588623,
           0.6481590867042542,
           -2.895482063293457,
           -1.179062008857727,
           -1.1212486028671265,
           -2.8162729740142822,
           -4.491785526275635,
           -0.3706946074962616,
           -2.091270685195923,
           null,
           null,
           null,
           null,
           null
          ],
          [
           2.2571892738342285,
           -1.1923316717147827,
           -0.4793214499950409,
           -0.1266239732503891,
           0.39424794912338257,
           -3.306004047393799,
           -2.229100227355957,
           -2.568861722946167,
           -3.9257853031158447,
           -1.0583314895629883,
           -0.10894602537155151,
           -1.8123825788497925,
           null,
           null,
           null,
           null
          ],
          [
           1.9627989530563354,
           -1.5709534883499146,
           -2.183180332183838,
           -0.08462309837341309,
           -2.043231725692749,
           -2.9349217414855957,
           -1.5923967361450195,
           -1.8095537424087524,
           -0.7491036653518677,
           -1.358842372894287,
           -2.1802992820739746,
           -2.0406532287597656,
           -0.6609774827957153,
           null,
           null,
           null
          ],
          [
           3.103729248046875,
           -3.0555331707000732,
           -5.91501522064209,
           -2.9946577548980713,
           -6.383526802062988,
           -4.472095012664795,
           -2.6188228130340576,
           -2.9442861080169678,
           -1.7738211154937744,
           -2.190056800842285,
           -5.849106311798096,
           -4.6621174812316895,
           -3.140841245651245,
           -3.261812448501587,
           null,
           null
          ],
          [
           2.19313907623291,
           -1.6691241264343262,
           1.4478466510772705,
           1.623556137084961,
           3.437729597091675,
           -3.0183143615722656,
           -1.3447272777557373,
           -1.448447585105896,
           -2.8986923694610596,
           -0.31189700961112976,
           2.047187566757202,
           -2.2522659301757812,
           -0.004572462290525436,
           -3.1795642375946045,
           0.24006491899490356,
           null
          ],
          [
           2.983351945877075,
           -1.272146224975586,
           -2.088176965713501,
           -0.14050732553005219,
           -1.5119998455047607,
           -3.025023937225342,
           -2.689030885696411,
           -3.322807550430298,
           -4.367282867431641,
           -1.2209281921386719,
           -1.6083009243011475,
           -2.485786199569702,
           -2.611955404281616,
           -5.454716682434082,
           -1.6747372150421143,
           -1.6633929014205933
          ]
         ]
        }
       ],
       "layout": {
        "annotations": [
         {
          "font": {
           "size": 20
          },
          "showarrow": false,
          "text": "Original",
          "x": 0.245,
          "xanchor": "center",
          "xref": "paper",
          "y": 1,
          "yanchor": "bottom",
          "yref": "paper"
         },
         {
          "font": {
           "size": 20
          },
          "showarrow": false,
          "text": "Reconstructed",
          "x": 0.755,
          "xanchor": "center",
          "xref": "paper",
          "y": 1,
          "yanchor": "bottom",
          "yref": "paper"
         }
        ],
        "coloraxis": {
         "cmid": 0,
         "colorscale": [
          [
           0,
           "rgb(103,0,31)"
          ],
          [
           0.1,
           "rgb(178,24,43)"
          ],
          [
           0.2,
           "rgb(214,96,77)"
          ],
          [
           0.3,
           "rgb(244,165,130)"
          ],
          [
           0.4,
           "rgb(253,219,199)"
          ],
          [
           0.5,
           "rgb(247,247,247)"
          ],
          [
           0.6,
           "rgb(209,229,240)"
          ],
          [
           0.7,
           "rgb(146,197,222)"
          ],
          [
           0.8,
           "rgb(67,147,195)"
          ],
          [
           0.9,
           "rgb(33,102,172)"
          ],
          [
           1,
           "rgb(5,48,97)"
          ]
         ]
        },
        "height": 800,
        "template": {
         "data": {
          "bar": [
           {
            "error_x": {
             "color": "#2a3f5f"
            },
            "error_y": {
             "color": "#2a3f5f"
            },
            "marker": {
             "line": {
              "color": "#E5ECF6",
              "width": 0.5
             },
             "pattern": {
              "fillmode": "overlay",
              "size": 10,
              "solidity": 0.2
             }
            },
            "type": "bar"
           }
          ],
          "barpolar": [
           {
            "marker": {
             "line": {
              "color": "#E5ECF6",
              "width": 0.5
             },
             "pattern": {
              "fillmode": "overlay",
              "size": 10,
              "solidity": 0.2
             }
            },
            "type": "barpolar"
           }
          ],
          "carpet": [
           {
            "aaxis": {
             "endlinecolor": "#2a3f5f",
             "gridcolor": "white",
             "linecolor": "white",
             "minorgridcolor": "white",
             "startlinecolor": "#2a3f5f"
            },
            "baxis": {
             "endlinecolor": "#2a3f5f",
             "gridcolor": "white",
             "linecolor": "white",
             "minorgridcolor": "white",
             "startlinecolor": "#2a3f5f"
            },
            "type": "carpet"
           }
          ],
          "choropleth": [
           {
            "colorbar": {
             "outlinewidth": 0,
             "ticks": ""
            },
            "type": "choropleth"
           }
          ],
          "contour": [
           {
            "colorbar": {
             "outlinewidth": 0,
             "ticks": ""
            },
            "colorscale": [
             [
              0,
              "#0d0887"
             ],
             [
              0.1111111111111111,
              "#46039f"
             ],
             [
              0.2222222222222222,
              "#7201a8"
             ],
             [
              0.3333333333333333,
              "#9c179e"
             ],
             [
              0.4444444444444444,
              "#bd3786"
             ],
             [
              0.5555555555555556,
              "#d8576b"
             ],
             [
              0.6666666666666666,
              "#ed7953"
             ],
             [
              0.7777777777777778,
              "#fb9f3a"
             ],
             [
              0.8888888888888888,
              "#fdca26"
             ],
             [
              1,
              "#f0f921"
             ]
            ],
            "type": "contour"
           }
          ],
          "contourcarpet": [
           {
            "colorbar": {
             "outlinewidth": 0,
             "ticks": ""
            },
            "type": "contourcarpet"
           }
          ],
          "heatmap": [
           {
            "colorbar": {
             "outlinewidth": 0,
             "ticks": ""
            },
            "colorscale": [
             [
              0,
              "#0d0887"
             ],
             [
              0.1111111111111111,
              "#46039f"
             ],
             [
              0.2222222222222222,
              "#7201a8"
             ],
             [
              0.3333333333333333,
              "#9c179e"
             ],
             [
              0.4444444444444444,
              "#bd3786"
             ],
             [
              0.5555555555555556,
              "#d8576b"
             ],
             [
              0.6666666666666666,
              "#ed7953"
             ],
             [
              0.7777777777777778,
              "#fb9f3a"
             ],
             [
              0.8888888888888888,
              "#fdca26"
             ],
             [
              1,
              "#f0f921"
             ]
            ],
            "type": "heatmap"
           }
          ],
          "heatmapgl": [
           {
            "colorbar": {
             "outlinewidth": 0,
             "ticks": ""
            },
            "colorscale": [
             [
              0,
              "#0d0887"
             ],
             [
              0.1111111111111111,
              "#46039f"
             ],
             [
              0.2222222222222222,
              "#7201a8"
             ],
             [
              0.3333333333333333,
              "#9c179e"
             ],
             [
              0.4444444444444444,
              "#bd3786"
             ],
             [
              0.5555555555555556,
              "#d8576b"
             ],
             [
              0.6666666666666666,
              "#ed7953"
             ],
             [
              0.7777777777777778,
              "#fb9f3a"
             ],
             [
              0.8888888888888888,
              "#fdca26"
             ],
             [
              1,
              "#f0f921"
             ]
            ],
            "type": "heatmapgl"
           }
          ],
          "histogram": [
           {
            "marker": {
             "pattern": {
              "fillmode": "overlay",
              "size": 10,
              "solidity": 0.2
             }
            },
            "type": "histogram"
           }
          ],
          "histogram2d": [
           {
            "colorbar": {
             "outlinewidth": 0,
             "ticks": ""
            },
            "colorscale": [
             [
              0,
              "#0d0887"
             ],
             [
              0.1111111111111111,
              "#46039f"
             ],
             [
              0.2222222222222222,
              "#7201a8"
             ],
             [
              0.3333333333333333,
              "#9c179e"
             ],
             [
              0.4444444444444444,
              "#bd3786"
             ],
             [
              0.5555555555555556,
              "#d8576b"
             ],
             [
              0.6666666666666666,
              "#ed7953"
             ],
             [
              0.7777777777777778,
              "#fb9f3a"
             ],
             [
              0.8888888888888888,
              "#fdca26"
             ],
             [
              1,
              "#f0f921"
             ]
            ],
            "type": "histogram2d"
           }
          ],
          "histogram2dcontour": [
           {
            "colorbar": {
             "outlinewidth": 0,
             "ticks": ""
            },
            "colorscale": [
             [
              0,
              "#0d0887"
             ],
             [
              0.1111111111111111,
              "#46039f"
             ],
             [
              0.2222222222222222,
              "#7201a8"
             ],
             [
              0.3333333333333333,
              "#9c179e"
             ],
             [
              0.4444444444444444,
              "#bd3786"
             ],
             [
              0.5555555555555556,
              "#d8576b"
             ],
             [
              0.6666666666666666,
              "#ed7953"
             ],
             [
              0.7777777777777778,
              "#fb9f3a"
             ],
             [
              0.8888888888888888,
              "#fdca26"
             ],
             [
              1,
              "#f0f921"
             ]
            ],
            "type": "histogram2dcontour"
           }
          ],
          "mesh3d": [
           {
            "colorbar": {
             "outlinewidth": 0,
             "ticks": ""
            },
            "type": "mesh3d"
           }
          ],
          "parcoords": [
           {
            "line": {
             "colorbar": {
              "outlinewidth": 0,
              "ticks": ""
             }
            },
            "type": "parcoords"
           }
          ],
          "pie": [
           {
            "automargin": true,
            "type": "pie"
           }
          ],
          "scatter": [
           {
            "fillpattern": {
             "fillmode": "overlay",
             "size": 10,
             "solidity": 0.2
            },
            "type": "scatter"
           }
          ],
          "scatter3d": [
           {
            "line": {
             "colorbar": {
              "outlinewidth": 0,
              "ticks": ""
             }
            },
            "marker": {
             "colorbar": {
              "outlinewidth": 0,
              "ticks": ""
             }
            },
            "type": "scatter3d"
           }
          ],
          "scattercarpet": [
           {
            "marker": {
             "colorbar": {
              "outlinewidth": 0,
              "ticks": ""
             }
            },
            "type": "scattercarpet"
           }
          ],
          "scattergeo": [
           {
            "marker": {
             "colorbar": {
              "outlinewidth": 0,
              "ticks": ""
             }
            },
            "type": "scattergeo"
           }
          ],
          "scattergl": [
           {
            "marker": {
             "colorbar": {
              "outlinewidth": 0,
              "ticks": ""
             }
            },
            "type": "scattergl"
           }
          ],
          "scattermapbox": [
           {
            "marker": {
             "colorbar": {
              "outlinewidth": 0,
              "ticks": ""
             }
            },
            "type": "scattermapbox"
           }
          ],
          "scatterpolar": [
           {
            "marker": {
             "colorbar": {
              "outlinewidth": 0,
              "ticks": ""
             }
            },
            "type": "scatterpolar"
           }
          ],
          "scatterpolargl": [
           {
            "marker": {
             "colorbar": {
              "outlinewidth": 0,
              "ticks": ""
             }
            },
            "type": "scatterpolargl"
           }
          ],
          "scatterternary": [
           {
            "marker": {
             "colorbar": {
              "outlinewidth": 0,
              "ticks": ""
             }
            },
            "type": "scatterternary"
           }
          ],
          "surface": [
           {
            "colorbar": {
             "outlinewidth": 0,
             "ticks": ""
            },
            "colorscale": [
             [
              0,
              "#0d0887"
             ],
             [
              0.1111111111111111,
              "#46039f"
             ],
             [
              0.2222222222222222,
              "#7201a8"
             ],
             [
              0.3333333333333333,
              "#9c179e"
             ],
             [
              0.4444444444444444,
              "#bd3786"
             ],
             [
              0.5555555555555556,
              "#d8576b"
             ],
             [
              0.6666666666666666,
              "#ed7953"
             ],
             [
              0.7777777777777778,
              "#fb9f3a"
             ],
             [
              0.8888888888888888,
              "#fdca26"
             ],
             [
              1,
              "#f0f921"
             ]
            ],
            "type": "surface"
           }
          ],
          "table": [
           {
            "cells": {
             "fill": {
              "color": "#EBF0F8"
             },
             "line": {
              "color": "white"
             }
            },
            "header": {
             "fill": {
              "color": "#C8D4E3"
             },
             "line": {
              "color": "white"
             }
            },
            "type": "table"
           }
          ]
         },
         "layout": {
          "annotationdefaults": {
           "arrowcolor": "#2a3f5f",
           "arrowhead": 0,
           "arrowwidth": 1
          },
          "autotypenumbers": "strict",
          "coloraxis": {
           "colorbar": {
            "outlinewidth": 0,
            "ticks": ""
           }
          },
          "colorscale": {
           "diverging": [
            [
             0,
             "#8e0152"
            ],
            [
             0.1,
             "#c51b7d"
            ],
            [
             0.2,
             "#de77ae"
            ],
            [
             0.3,
             "#f1b6da"
            ],
            [
             0.4,
             "#fde0ef"
            ],
            [
             0.5,
             "#f7f7f7"
            ],
            [
             0.6,
             "#e6f5d0"
            ],
            [
             0.7,
             "#b8e186"
            ],
            [
             0.8,
             "#7fbc41"
            ],
            [
             0.9,
             "#4d9221"
            ],
            [
             1,
             "#276419"
            ]
           ],
           "sequential": [
            [
             0,
             "#0d0887"
            ],
            [
             0.1111111111111111,
             "#46039f"
            ],
            [
             0.2222222222222222,
             "#7201a8"
            ],
            [
             0.3333333333333333,
             "#9c179e"
            ],
            [
             0.4444444444444444,
             "#bd3786"
            ],
            [
             0.5555555555555556,
             "#d8576b"
            ],
            [
             0.6666666666666666,
             "#ed7953"
            ],
            [
             0.7777777777777778,
             "#fb9f3a"
            ],
            [
             0.8888888888888888,
             "#fdca26"
            ],
            [
             1,
             "#f0f921"
            ]
           ],
           "sequentialminus": [
            [
             0,
             "#0d0887"
            ],
            [
             0.1111111111111111,
             "#46039f"
            ],
            [
             0.2222222222222222,
             "#7201a8"
            ],
            [
             0.3333333333333333,
             "#9c179e"
            ],
            [
             0.4444444444444444,
             "#bd3786"
            ],
            [
             0.5555555555555556,
             "#d8576b"
            ],
            [
             0.6666666666666666,
             "#ed7953"
            ],
            [
             0.7777777777777778,
             "#fb9f3a"
            ],
            [
             0.8888888888888888,
             "#fdca26"
            ],
            [
             1,
             "#f0f921"
            ]
           ]
          },
          "colorway": [
           "#636efa",
           "#EF553B",
           "#00cc96",
           "#ab63fa",
           "#FFA15A",
           "#19d3f3",
           "#FF6692",
           "#B6E880",
           "#FF97FF",
           "#FECB52"
          ],
          "font": {
           "color": "#2a3f5f"
          },
          "geo": {
           "bgcolor": "white",
           "lakecolor": "white",
           "landcolor": "#E5ECF6",
           "showlakes": true,
           "showland": true,
           "subunitcolor": "white"
          },
          "hoverlabel": {
           "align": "left"
          },
          "hovermode": "closest",
          "mapbox": {
           "style": "light"
          },
          "paper_bgcolor": "white",
          "plot_bgcolor": "#E5ECF6",
          "polar": {
           "angularaxis": {
            "gridcolor": "white",
            "linecolor": "white",
            "ticks": ""
           },
           "bgcolor": "#E5ECF6",
           "radialaxis": {
            "gridcolor": "white",
            "linecolor": "white",
            "ticks": ""
           }
          },
          "scene": {
           "xaxis": {
            "backgroundcolor": "#E5ECF6",
            "gridcolor": "white",
            "gridwidth": 2,
            "linecolor": "white",
            "showbackground": true,
            "ticks": "",
            "zerolinecolor": "white"
           },
           "yaxis": {
            "backgroundcolor": "#E5ECF6",
            "gridcolor": "white",
            "gridwidth": 2,
            "linecolor": "white",
            "showbackground": true,
            "ticks": "",
            "zerolinecolor": "white"
           },
           "zaxis": {
            "backgroundcolor": "#E5ECF6",
            "gridcolor": "white",
            "gridwidth": 2,
            "linecolor": "white",
            "showbackground": true,
            "ticks": "",
            "zerolinecolor": "white"
           }
          },
          "shapedefaults": {
           "line": {
            "color": "#2a3f5f"
           }
          },
          "ternary": {
           "aaxis": {
            "gridcolor": "white",
            "linecolor": "white",
            "ticks": ""
           },
           "baxis": {
            "gridcolor": "white",
            "linecolor": "white",
            "ticks": ""
           },
           "bgcolor": "#E5ECF6",
           "caxis": {
            "gridcolor": "white",
            "linecolor": "white",
            "ticks": ""
           }
          },
          "title": {
           "x": 0.05
          },
          "xaxis": {
           "automargin": true,
           "gridcolor": "white",
           "linecolor": "white",
           "ticks": "",
           "title": {
            "standoff": 15
           },
           "zerolinecolor": "white",
           "zerolinewidth": 2
          },
          "yaxis": {
           "automargin": true,
           "gridcolor": "white",
           "linecolor": "white",
           "ticks": "",
           "title": {
            "standoff": 15
           },
           "zerolinecolor": "white",
           "zerolinewidth": 2
          }
         }
        },
        "title": {
         "text": "Original and Reconstructed Attention Distribution"
        },
        "width": 1200,
        "xaxis": {
         "anchor": "y",
         "constrain": "domain",
         "domain": [
          0,
          0.49
         ],
         "scaleanchor": "y",
         "tickmode": "array",
         "ticktext": [
          "<|endoftext|>/0",
          "When/1",
          " John/2",
          " and/3",
          " Mary/4",
          " went/5",
          " to/6",
          " the/7",
          " shops/8",
          ",/9",
          " John/10",
          " gave/11",
          " the/12",
          " shopping/13",
          " to/14",
          " Mary/15"
         ],
         "tickvals": [
          1,
          2,
          3,
          4,
          5,
          6,
          7,
          8,
          9,
          10,
          11,
          12,
          13,
          14,
          15,
          16
         ]
        },
        "xaxis2": {
         "anchor": "y2",
         "domain": [
          0.51,
          1
         ],
         "matches": "x",
         "tickmode": "array",
         "ticktext": [
          "<|endoftext|>/0",
          "When/1",
          " John/2",
          " and/3",
          " Mary/4",
          " went/5",
          " to/6",
          " the/7",
          " shops/8",
          ",/9",
          " John/10",
          " gave/11",
          " the/12",
          " shopping/13",
          " to/14",
          " Mary/15"
         ],
         "tickvals": [
          1,
          2,
          3,
          4,
          5,
          6,
          7,
          8,
          9,
          10,
          11,
          12,
          13,
          14,
          15,
          16
         ]
        },
        "yaxis": {
         "anchor": "x",
         "autorange": "reversed",
         "constrain": "domain",
         "domain": [
          0,
          1
         ],
         "tickmode": "array",
         "ticktext": [
          "<|endoftext|>/0",
          "When/1",
          " John/2",
          " and/3",
          " Mary/4",
          " went/5",
          " to/6",
          " the/7",
          " shops/8",
          ",/9",
          " John/10",
          " gave/11",
          " the/12",
          " shopping/13",
          " to/14",
          " Mary/15"
         ],
         "tickvals": [
          1,
          2,
          3,
          4,
          5,
          6,
          7,
          8,
          9,
          10,
          11,
          12,
          13,
          14,
          15,
          16
         ]
        },
        "yaxis2": {
         "anchor": "x2",
         "domain": [
          0,
          1
         ],
         "matches": "y",
         "showticklabels": false,
         "tickmode": "array",
         "ticktext": [
          "<|endoftext|>/0",
          "When/1",
          " John/2",
          " and/3",
          " Mary/4",
          " went/5",
          " to/6",
          " the/7",
          " shops/8",
          ",/9",
          " John/10",
          " gave/11",
          " the/12",
          " shopping/13",
          " to/14",
          " Mary/15"
         ],
         "tickvals": [
          1,
          2,
          3,
          4,
          5,
          6,
          7,
          8,
          9,
          10,
          11,
          12,
          13,
          14,
          15,
          16
         ]
        }
       }
      }
     },
     "metadata": {},
     "output_type": "display_data"
    }
   ],
   "source": [
    "LAYER_IDX =10\n",
    "HEAD_IDX = 7\n",
    "patterns_original = original_cache[utils.get_act_name(\"attn_scores\", LAYER_IDX)][0,HEAD_IDX].detach().cpu()\n",
    "patterns_reconstructed = cache_reconstructed_query[utils.get_act_name(\"attn_scores\", LAYER_IDX)][0,HEAD_IDX].detach().cpu()\n",
    "both_patterns = torch.stack([patterns_original, patterns_reconstructed])\n",
    "plot_attn(both_patterns.detach().cpu(), token_df, title=\"Original and Reconstructed Attention Distribution\")\n",
    "\n",
    "\n",
    "patterns_original = cache_reconstructed_query[utils.get_act_name(\"attn_scores\", LAYER_IDX)][0,HEAD_IDX].detach().cpu()\n",
    "patterns_reconstructed = top_k_sae_out_cache[utils.get_act_name(\"attn_scores\", LAYER_IDX)][0,HEAD_IDX].detach().cpu()\n",
    "both_patterns = torch.stack([patterns_original, patterns_reconstructed])\n",
    "plot_attn(both_patterns.detach().cpu(), token_df, title=\"Original and Reconstructed Attention Distribution\")"
   ]
  },
  {
   "cell_type": "code",
   "execution_count": 52,
   "metadata": {},
   "outputs": [
    {
     "data": {
      "text/plain": [
       "tensor([[-5.1366, -4.9099, -4.8109,  ..., -3.4862, -3.7755, -4.8406],\n",
       "        [-1.4623, -2.6521,  4.3991,  ..., -0.6285, -0.5177, -7.5336],\n",
       "        [-2.6833,  6.7221,  2.5489,  ...,  1.4115, -0.6173, -3.2964],\n",
       "        ...,\n",
       "        [10.2376,  3.9203, -7.4377,  ...,  0.1707,  2.4006, -5.1280],\n",
       "        [ 4.5008, -2.3208, -0.4222,  ..., -6.2210, -1.4839, -1.3826],\n",
       "        [-2.6384,  1.6752,  0.5909,  ...,  1.1944,  1.9319, -4.6986]])"
      ]
     },
     "execution_count": 52,
     "metadata": {},
     "output_type": "execute_result"
    }
   ],
   "source": []
  },
  {
   "cell_type": "markdown",
   "metadata": {},
   "source": [
    "# Full Distribution"
   ]
  },
  {
   "cell_type": "code",
   "execution_count": null,
   "metadata": {},
   "outputs": [],
   "source": [
    "data = get_webtext()"
   ]
  },
  {
   "cell_type": "code",
   "execution_count": null,
   "metadata": {},
   "outputs": [],
   "source": [
    "str_token_list = []\n",
    "loss_list = []\n",
    "ablated_loss_list = []\n",
    "# data = get_webtext()\n",
    "\n",
    "NUM_PROMPTS = 200\n",
    "# MAX_PROMPT_LEN = 100\n",
    "# BATCH_SIZE = 10\n",
    "dataframe_list = []\n",
    "feature_acts_list = []\n",
    "with torch.no_grad():\n",
    "    for i in tqdm(range(NUM_PROMPTS)):\n",
    "        \n",
    "        # Get Token Data\n",
    "        prompt = model.to_string(model.to_tokens(data[i])[0,:128])\n",
    "        token_df, _, _, feature_acts = eval_prompt(prompt, model, sparse_autoencoder, head_idx_override=7)\n",
    "        feature_acts_list.append(feature_acts)\n",
    "        dataframe_list.append(token_df)\n",
    "        \n",
    "all_token_df = pd.concat(dataframe_list)\n",
    "all_token_df.reset_index(drop=True)\n",
    "all_token_features = torch.cat(feature_acts_list)\n",
    "\n",
    "print(all_token_df.shape)\n",
    "print(all_token_df.columns)\n",
    "all_token_df.head()"
   ]
  }
 ],
 "metadata": {
  "kernelspec": {
   "display_name": "mats_sae_training",
   "language": "python",
   "name": "python3"
  },
  "language_info": {
   "codemirror_mode": {
    "name": "ipython",
    "version": 3
   },
   "file_extension": ".py",
   "mimetype": "text/x-python",
   "name": "python",
   "nbconvert_exporter": "python",
   "pygments_lexer": "ipython3",
   "version": "3.11.6"
  }
 },
 "nbformat": 4,
 "nbformat_minor": 2
}
