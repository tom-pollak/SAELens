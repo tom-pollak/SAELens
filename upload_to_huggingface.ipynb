{
 "cells": [
  {
   "cell_type": "code",
   "execution_count": null,
   "metadata": {},
   "outputs": [],
   "source": [
    "from huggingface_hub import HfApi\n",
    "\n",
    "api = HfApi()\n",
    "\n",
    "uuid_str = \"kng5efo4\"\n",
    "repo_id = \"Benw8888/lp_saes\"\n",
    "local_folder = f\"/root/mats_sae_training/checkpoints/{uuid_str}\"\n",
    "hf_folder = f\"{uuid_str}\"\n",
    "api.upload_folder(\n",
    "    folder_path=local_folder,\n",
    "    path_in_repo=hf_folder,\n",
    "    repo_id=repo_id,\n",
    "    repo_type=\"model\",\n",
    ")"
   ]
  }
 ],
 "metadata": {
  "kernelspec": {
   "display_name": "mats_sae_training",
   "language": "python",
   "name": "python3"
  },
  "language_info": {
   "codemirror_mode": {
    "name": "ipython",
    "version": 3
   },
   "file_extension": ".py",
   "mimetype": "text/x-python",
   "name": "python",
   "nbconvert_exporter": "python",
   "pygments_lexer": "ipython3",
   "version": "3.11.8"
  }
 },
 "nbformat": 4,
 "nbformat_minor": 2
}
